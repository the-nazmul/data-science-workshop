{
 "cells": [
  {
   "cell_type": "markdown",
   "id": "3420d09f-c2ba-4aea-b74d-d7d576c2a0ce",
   "metadata": {},
   "source": [
    "## Topic Modeling (before 2022)"
   ]
  },
  {
   "cell_type": "code",
   "execution_count": 2,
   "id": "33f01f7b-dea9-4022-9fad-d679e2cfd048",
   "metadata": {},
   "outputs": [],
   "source": [
    "import os\n",
    "import pandas as pd\n",
    "import pickle"
   ]
  },
  {
   "cell_type": "code",
   "execution_count": 3,
   "id": "b43e8969-c7ea-4220-8828-97ad5e17d6c6",
   "metadata": {},
   "outputs": [
    {
     "name": "stdout",
     "output_type": "stream",
     "text": [
      "/Users/nazmulahasan/Desktop/Professional/Data Science Course/Data-Science-Social-Justice-main/notebooks/module02\n"
     ]
    }
   ],
   "source": [
    "!pwd"
   ]
  },
  {
   "cell_type": "code",
   "execution_count": 4,
   "id": "1a56b513-11c5-4921-a1d8-aff678d7a413",
   "metadata": {},
   "outputs": [],
   "source": [
    "os.chdir(\"../../data\")"
   ]
  },
  {
   "cell_type": "code",
   "execution_count": 6,
   "id": "3e18dbb3-71d3-46c0-9241-465d77a58065",
   "metadata": {},
   "outputs": [
    {
     "name": "stdout",
     "output_type": "stream",
     "text": [
      "(11846, 15)\n"
     ]
    }
   ],
   "source": [
    "# Import dataset before 2022\n",
    "df = pd.read_csv('df_b2022.csv')\n",
    "print(df.shape)"
   ]
  },
  {
   "cell_type": "code",
   "execution_count": 7,
   "id": "99ef70d5-dc64-4dfc-b7e5-dc7e02bc196a",
   "metadata": {},
   "outputs": [
    {
     "data": {
      "text/plain": [
       "11846"
      ]
     },
     "execution_count": 7,
     "metadata": {},
     "output_type": "execute_result"
    }
   ],
   "source": [
    "len(df)"
   ]
  },
  {
   "cell_type": "code",
   "execution_count": 8,
   "id": "6a03ecc4-d93f-43a0-b5cf-9bb32d88f712",
   "metadata": {},
   "outputs": [],
   "source": [
    "import spacy\n",
    "nlp = spacy.load('en_core_web_sm')\n",
    "from gensim.models.phrases import Phrases, Phraser"
   ]
  },
  {
   "cell_type": "code",
   "execution_count": 9,
   "id": "9816bd22-cec4-49e1-be8e-e9f7a7a70522",
   "metadata": {},
   "outputs": [],
   "source": [
    "def clean(token):\n",
    "    \"\"\"Helper function that specifies whether a token is:\n",
    "        - punctuation\n",
    "        - space\n",
    "        - digit\n",
    "    \"\"\"\n",
    "    return token.is_punct or token.is_space or token.is_digit\n",
    "\n",
    "def line_read(df, text_col='selftext'):\n",
    "    \"\"\"Generator function to read in text from df and get rid of line breaks.\"\"\"    \n",
    "    for text in df[text_col]:\n",
    "        yield text.replace('\\n', '')\n",
    "\n",
    "def preprocess(df, text_col='selftext', allowed_postags=['NOUN', 'ADJ']):\n",
    "    \"\"\"Preprocessing function to apply to a dataframe.\"\"\"\n",
    "    for parsed in nlp.pipe(line_read(df, text_col), batch_size=1000, disable=[\"tok2vec\", \"ner\"]):\n",
    "        # Gather lowercased, lemmatized tokens\n",
    "        tokens = [token.lemma_.lower() if token.lemma_ != '-PRON-'\n",
    "                  else token.lower_ \n",
    "                  for token in parsed if not clean(token)]\n",
    "        # Remove specific lemmatizations, and words that are not nouns or adjectives\n",
    "        tokens = [lemma\n",
    "                  for lemma in tokens\n",
    "                  if not lemma in [\"'s\",  \"’s\", \"’\"] and not lemma in allowed_postags]\n",
    "        # Remove stop words\n",
    "        tokens = [token for token in tokens if token not in spacy.lang.en.stop_words.STOP_WORDS]\n",
    "        yield tokens"
   ]
  },
  {
   "cell_type": "code",
   "execution_count": 10,
   "id": "f5bbc2b8-db4b-4d24-969e-7d5e4b2c8e42",
   "metadata": {},
   "outputs": [],
   "source": [
    "docs = [line for line in preprocess(df, text_col='selftext')]"
   ]
  },
  {
   "cell_type": "code",
   "execution_count": 11,
   "id": "8aabfcf2-58cb-4b0a-9592-6fbd8a94e3f3",
   "metadata": {},
   "outputs": [],
   "source": [
    "# Create bigram model: pass docs into Phrases class\n",
    "bigrams = Phrases(docs, min_count=20, threshold=300)\n",
    "# Create a \"frozen\" bigram model using the Phraser class\n",
    "bigram_phraser = Phraser(bigrams)\n",
    "# Now, create bigrams \n",
    "docs_bigrams = [bigram_phraser[doc] for doc in docs]"
   ]
  },
  {
   "cell_type": "code",
   "execution_count": 12,
   "id": "62a73f21-ef05-4b1a-b379-e5145b0b80bf",
   "metadata": {},
   "outputs": [],
   "source": [
    "trigrams = Phrases(bigrams[docs], min_count=20, threshold=100)  \n",
    "trigram_phraser = Phraser(trigrams)\n",
    "docs_trigrams = [trigram_phraser[doc] for doc in docs_bigrams]"
   ]
  },
  {
   "cell_type": "code",
   "execution_count": 13,
   "id": "a6bbdd10-8fc4-469b-af61-74fc6f41b662",
   "metadata": {},
   "outputs": [],
   "source": [
    "# Let's save the data to an external JSON file:\n",
    "\n",
    "import json\n",
    "with open('b2022.json', 'w') as write:\n",
    "    json.dump(docs_trigrams, write)\n",
    "# Opening the same file works as follows:\n",
    "with open(\"b2022.json\") as f:\n",
    "    trigrams = json.load(f)"
   ]
  },
  {
   "cell_type": "markdown",
   "id": "155b3c31-fd0d-4a0d-a371-d1ce115e8cb6",
   "metadata": {},
   "source": [
    "### Constructing a Word2Vec Model"
   ]
  },
  {
   "cell_type": "code",
   "execution_count": 14,
   "id": "756bf0a8-d2f3-4d67-ae7a-6124c3a6b6be",
   "metadata": {},
   "outputs": [],
   "source": [
    "from gensim.models import Word2Vec\n",
    "import multiprocessing"
   ]
  },
  {
   "cell_type": "code",
   "execution_count": 15,
   "id": "b9d9bf53-48f1-4aeb-b3c0-d5f40428cd72",
   "metadata": {},
   "outputs": [],
   "source": [
    "# Count the number of cores you have at your disposal\n",
    "cores = multiprocessing.cpu_count()\n",
    "# Word vector dimensionality (how many features each word will be given)\n",
    "n_features = 300\n",
    "# Minimum word count to be taken into account\n",
    "min_word_count = 10\n",
    "# Number of threads to run in parallel (equal to your amount of cores)\n",
    "n_workers = cores\n",
    "# Context window size\n",
    "window = 5\n",
    "# Downsample setting for frequent words\n",
    "downsampling = 1e-2\n",
    "# Seed for the random number generator (to create reproducible results)\n",
    "seed = 1 \n",
    "# Skip-gram = 1, CBOW = 0\n",
    "sg = 1\n",
    "epochs = 20\n",
    "\n",
    "model = Word2Vec(\n",
    "    sentences=trigrams,\n",
    "    workers=n_workers,\n",
    "    vector_size=n_features,\n",
    "    min_count=min_word_count,\n",
    "    window=window,\n",
    "    sample=downsampling,\n",
    "    seed=seed,\n",
    "    sg=sg)"
   ]
  },
  {
   "cell_type": "code",
   "execution_count": 16,
   "id": "97de80bc-0a60-432d-aa86-2e561ce3601f",
   "metadata": {},
   "outputs": [],
   "source": [
    "model.train(trigrams, total_examples=model.corpus_count, epochs=10)        \n",
    "model.save('b2022.emb')\n",
    "model = Word2Vec.load('b2022.emb')"
   ]
  },
  {
   "cell_type": "code",
   "execution_count": 17,
   "id": "6a1a273b-eeb5-424e-87e2-b6a857fa5c88",
   "metadata": {},
   "outputs": [
    {
     "data": {
      "text/plain": [
       "4909"
      ]
     },
     "execution_count": 17,
     "metadata": {},
     "output_type": "execute_result"
    }
   ],
   "source": [
    "len(model.wv)"
   ]
  },
  {
   "cell_type": "code",
   "execution_count": 18,
   "id": "8655a8fd-b482-47bb-960c-a14e72160318",
   "metadata": {},
   "outputs": [
    {
     "data": {
      "text/plain": [
       "'ukraine'"
      ]
     },
     "execution_count": 18,
     "metadata": {},
     "output_type": "execute_result"
    }
   ],
   "source": [
    "model.wv.index_to_key[0]"
   ]
  },
  {
   "cell_type": "code",
   "execution_count": 19,
   "id": "242768aa-c228-4b3c-a9ef-f8ff07e2a7ac",
   "metadata": {},
   "outputs": [
    {
     "data": {
      "text/plain": [
       "array([ 0.15403882,  0.04031067,  0.02568011,  0.22978565, -0.13992351,\n",
       "       -0.03571025,  0.20262171,  0.25462577, -0.11586468,  0.00857312,\n",
       "        0.12236355, -0.1304633 ,  0.04779146,  0.00175683, -0.32894126,\n",
       "        0.09279057,  0.13196717, -0.11381891, -0.02869826,  0.0037834 ,\n",
       "        0.23155825,  0.18776171,  0.11029074, -0.01062969,  0.24932438,\n",
       "        0.00096621,  0.01708085,  0.07962421, -0.1291796 , -0.12869659,\n",
       "       -0.08378004,  0.08210211,  0.01773398,  0.0579184 ,  0.03020946,\n",
       "        0.10272977,  0.2602234 , -0.18516208,  0.06021745,  0.08220214,\n",
       "       -0.13176696,  0.0999034 ,  0.28701183, -0.12761204, -0.3432032 ,\n",
       "        0.0447849 , -0.13595884,  0.03219929, -0.03109097, -0.04504774,\n",
       "       -0.02317126,  0.01670879, -0.13747138, -0.01937179, -0.06910601,\n",
       "        0.1151434 ,  0.10549378, -0.1641999 ,  0.02708152,  0.1063932 ,\n",
       "       -0.0574516 ,  0.14121765, -0.03975619,  0.08553116, -0.07378018,\n",
       "       -0.13301857, -0.18220747, -0.01013382, -0.08628427, -0.10696946,\n",
       "        0.2155308 ,  0.33950996,  0.11374985, -0.33883142, -0.14940462,\n",
       "       -0.0251041 ,  0.04134763, -0.05086241, -0.1756087 , -0.05348934,\n",
       "       -0.05554382, -0.31230482,  0.11749051,  0.10380583, -0.10994583,\n",
       "        0.04979606,  0.04356315,  0.06599127,  0.01169282,  0.09860224,\n",
       "        0.00100988, -0.08911201,  0.14476348,  0.04055144,  0.2768731 ,\n",
       "        0.01855978,  0.02546576, -0.12720071,  0.02622515, -0.04607606,\n",
       "        0.12667467, -0.01743362,  0.21157081,  0.08047489,  0.01933015,\n",
       "       -0.15775838,  0.2928417 ,  0.02112653, -0.11325704, -0.04886476,\n",
       "        0.01260147, -0.10534216, -0.01350389,  0.04790138, -0.11237546,\n",
       "        0.01441765, -0.07689115,  0.19804154,  0.25362924, -0.20123063,\n",
       "        0.0419306 , -0.20741053,  0.068917  , -0.20538351,  0.11943125,\n",
       "        0.07044925, -0.0435942 ,  0.06073323, -0.15777299,  0.15837957,\n",
       "        0.1435333 , -0.07696436, -0.07165603,  0.02888666,  0.00661661,\n",
       "       -0.06179816,  0.21954845,  0.14205572,  0.01010589,  0.03190524,\n",
       "        0.13278867, -0.1368018 , -0.17507148,  0.12826516,  0.00757122,\n",
       "       -0.04102816,  0.12036783, -0.1461469 ,  0.14920096, -0.20244476,\n",
       "        0.07182852, -0.09051567, -0.09228846,  0.05576871,  0.11604269,\n",
       "        0.0113296 , -0.08941671, -0.08210429, -0.13259773,  0.05347338,\n",
       "       -0.00668513,  0.13580635,  0.16682763, -0.00460209, -0.01647631,\n",
       "        0.07766408,  0.13838406, -0.13463877, -0.03532146,  0.17375447,\n",
       "       -0.2261504 ,  0.00390156,  0.05696393,  0.07294625,  0.08112387,\n",
       "       -0.02900036, -0.20870349,  0.05104968,  0.1263306 , -0.15739009,\n",
       "       -0.33241683, -0.00406032,  0.12848967,  0.11388683, -0.01023706,\n",
       "        0.13370587, -0.01796364, -0.12330417,  0.00055679, -0.23140267,\n",
       "       -0.20309745,  0.03278488,  0.03549604,  0.02065287,  0.01366664,\n",
       "       -0.01168338,  0.15033345,  0.22175795, -0.2077319 ,  0.2366133 ,\n",
       "       -0.10588503, -0.04973121, -0.11008914,  0.00616555,  0.16306609,\n",
       "        0.01773702,  0.10565886,  0.02737502, -0.09364749,  0.14054246,\n",
       "       -0.20772952, -0.03230643,  0.0784902 , -0.02545438,  0.12367806,\n",
       "       -0.0492134 ,  0.09919507,  0.37491298, -0.09473594, -0.03660934,\n",
       "       -0.0980699 , -0.12832594,  0.13251412, -0.21738903,  0.01266652,\n",
       "       -0.06967235,  0.0186695 ,  0.16683874, -0.21973611,  0.13783447,\n",
       "        0.19044733, -0.2587022 , -0.4078628 , -0.04986982, -0.10268884,\n",
       "        0.10917127,  0.08192073,  0.15467376, -0.20968223,  0.10958982,\n",
       "       -0.02678595,  0.1263323 , -0.12930182,  0.08867236, -0.16000731,\n",
       "       -0.07456026,  0.05550309,  0.00056023, -0.3330925 , -0.13079572,\n",
       "        0.16582972,  0.01866225, -0.05329742, -0.20121299, -0.2536397 ,\n",
       "       -0.08376934,  0.02083885, -0.10329627, -0.27517918, -0.05615356,\n",
       "       -0.00642755, -0.16412145, -0.06823139,  0.02887413, -0.10587857,\n",
       "        0.29857382,  0.20683149,  0.06947535, -0.20427005, -0.03326939,\n",
       "        0.02158859, -0.1387135 ,  0.00086957, -0.04026293, -0.06358564,\n",
       "        0.1573028 ,  0.19735707,  0.15151604, -0.05930106, -0.06519123,\n",
       "       -0.01772667, -0.24865732, -0.02594273, -0.02536275,  0.03051878,\n",
       "       -0.2238702 , -0.24146502,  0.05008937,  0.3098191 , -0.09225138,\n",
       "        0.17744802,  0.1572411 ,  0.13825709, -0.06649692,  0.40371054,\n",
       "        0.3527926 ,  0.06576664,  0.06691847,  0.37389088, -0.19808269],\n",
       "      dtype=float32)"
      ]
     },
     "execution_count": 19,
     "metadata": {},
     "output_type": "execute_result"
    }
   ],
   "source": [
    "model.wv.vectors[0]"
   ]
  },
  {
   "cell_type": "markdown",
   "id": "53177aa7-9188-4e4d-b0fb-845cb0879d83",
   "metadata": {},
   "source": [
    "### Word Similarity"
   ]
  },
  {
   "cell_type": "code",
   "execution_count": 21,
   "id": "0107df14-45dc-45f5-a6ac-93ba93870105",
   "metadata": {},
   "outputs": [],
   "source": [
    "def get_most_similar_terms(model, token, topn=20):\n",
    "    \"\"\"Look up the top N most similar terms to the token.\"\"\"\n",
    "    for word, similarity in model.wv.most_similar(positive=[token], topn=topn):\n",
    "        print(f\"{word}: {round(similarity, 3)}\")"
   ]
  },
  {
   "cell_type": "code",
   "execution_count": 37,
   "id": "d60a2222-d70b-4f90-b401-2cd18bccc6e4",
   "metadata": {},
   "outputs": [
    {
     "name": "stdout",
     "output_type": "stream",
     "text": [
      "wwiii: 0.506\n",
      "pathetic: 0.492\n",
      "escalating: 0.49\n",
      "sanctioned: 0.49\n",
      "invading: 0.488\n",
      "threaten: 0.481\n",
      "establish: 0.48\n",
      "aggressor: 0.475\n",
      "invades: 0.475\n",
      "halt: 0.472\n",
      "agrees: 0.468\n",
      "iran: 0.465\n",
      "objectives: 0.463\n",
      "powers: 0.461\n",
      "merely: 0.461\n",
      "demands: 0.46\n",
      "imposed: 0.459\n",
      "stance: 0.458\n",
      "republics: 0.455\n",
      "refusal: 0.454\n"
     ]
    }
   ],
   "source": [
    "get_most_similar_terms(model, 'russia')"
   ]
  },
  {
   "cell_type": "code",
   "execution_count": 37,
   "id": "55640f8d-4a34-4818-a1f2-2a7ef822976e",
   "metadata": {},
   "outputs": [
    {
     "name": "stdout",
     "output_type": "stream",
     "text": [
      "aggressor: 0.547\n",
      "weaken: 0.543\n",
      "pretext: 0.542\n",
      "justify: 0.541\n",
      "promises: 0.526\n",
      "view_poll: 0.526\n",
      "threaten: 0.525\n",
      "interfere: 0.523\n",
      "ukraine?i: 0.521\n",
      "liberate: 0.52\n",
      "unprovoked: 0.514\n",
      "punish: 0.512\n",
      "imperialism: 0.507\n",
      "sovereignty: 0.506\n",
      "lunatic: 0.505\n",
      "palestine: 0.5\n",
      "facto: 0.495\n",
      "alongside: 0.493\n",
      "peacekeeping: 0.493\n",
      "peacekeepers: 0.493\n"
     ]
    }
   ],
   "source": [
    "get_most_similar_terms(model, 'ukraine')"
   ]
  },
  {
   "cell_type": "code",
   "execution_count": 38,
   "id": "6b581139-42ac-4b77-a97d-01b611059f81",
   "metadata": {},
   "outputs": [
    {
     "name": "stdout",
     "output_type": "stream",
     "text": [
      "annexation: 0.633\n",
      "annexed: 0.598\n",
      "dnr: 0.57\n",
      "crimean: 0.557\n",
      "donbass: 0.523\n",
      "peninsula: 0.519\n",
      "separatist: 0.511\n",
      "tatars: 0.507\n",
      "donetsk_luhansk: 0.496\n",
      "territories: 0.484\n",
      "luhansk: 0.478\n",
      "seize: 0.468\n",
      "occupied: 0.466\n",
      "rebel: 0.458\n",
      "donbas: 0.452\n",
      "territory: 0.45\n",
      "recognize: 0.448\n",
      "bridge: 0.444\n",
      "boris: 0.439\n",
      "black_sea: 0.438\n"
     ]
    }
   ],
   "source": [
    "get_most_similar_terms(model, 'crimea')"
   ]
  },
  {
   "cell_type": "code",
   "execution_count": 39,
   "id": "194da0dc-3e5f-4927-b016-ddfcb0e413ee",
   "metadata": {},
   "outputs": [
    {
     "name": "stdout",
     "output_type": "stream",
     "text": [
      "bs: 0.506\n",
      "escalating: 0.504\n",
      "justification: 0.501\n",
      "dare: 0.5\n",
      "lunatic: 0.498\n",
      "madness: 0.495\n",
      "committing: 0.492\n",
      "bully: 0.491\n",
      "dictatorship: 0.489\n",
      "russophobia: 0.487\n",
      "wwiii: 0.483\n",
      "winning: 0.477\n",
      "nuke: 0.47\n",
      "dictator: 0.468\n",
      "kgb: 0.468\n",
      "coup: 0.462\n",
      "lie: 0.462\n",
      "presidents: 0.458\n",
      "cronies: 0.457\n",
      "fascist: 0.455\n"
     ]
    }
   ],
   "source": [
    "get_most_similar_terms(model, 'putin')"
   ]
  },
  {
   "cell_type": "code",
   "execution_count": 40,
   "id": "3e98c3f9-94ff-4bad-9d05-87fd01cb7028",
   "metadata": {},
   "outputs": [
    {
     "name": "stdout",
     "output_type": "stream",
     "text": [
      "czech_republic: 0.674\n",
      "eligible: 0.635\n",
      "iceland: 0.634\n",
      "slovenia: 0.622\n",
      "galicia: 0.621\n",
      "bulgarian: 0.616\n",
      "applies: 0.615\n",
      "emigrated: 0.615\n",
      "freely: 0.614\n",
      "estonia: 0.611\n",
      "reside: 0.609\n",
      "bachelor: 0.605\n",
      "slovakia: 0.604\n",
      "armenia: 0.601\n",
      "romanians: 0.593\n",
      "marriage: 0.591\n",
      "socialist: 0.59\n",
      "biometric: 0.588\n",
      "papers: 0.588\n",
      "basis: 0.585\n"
     ]
    }
   ],
   "source": [
    "get_most_similar_terms(model, 'migration')"
   ]
  },
  {
   "cell_type": "code",
   "execution_count": 42,
   "id": "93668c9e-f412-4d0a-a24b-09fbf68e7e2f",
   "metadata": {},
   "outputs": [
    {
     "name": "stdout",
     "output_type": "stream",
     "text": [
      "volodymyr: 0.694\n",
      "comedian: 0.66\n",
      "elected: 0.634\n",
      "actor: 0.63\n",
      "rant: 0.618\n",
      "inspiring: 0.612\n",
      "politician: 0.606\n",
      "zelensky: 0.592\n",
      "tymoshenko: 0.571\n",
      "communists: 0.571\n",
      "presidential: 0.566\n",
      "votes: 0.566\n",
      "fascism: 0.562\n",
      "vladimir: 0.556\n",
      "speech: 0.544\n",
      "warrior: 0.541\n",
      "delusional: 0.54\n",
      "presidency: 0.539\n",
      "president: 0.539\n",
      "imminent: 0.538\n"
     ]
    }
   ],
   "source": [
    "get_most_similar_terms(model, 'zelenskyy')"
   ]
  },
  {
   "cell_type": "code",
   "execution_count": 40,
   "id": "a89f1950-c6c9-4007-b71c-a25fb3ecc0ae",
   "metadata": {},
   "outputs": [
    {
     "name": "stdout",
     "output_type": "stream",
     "text": [
      "questions:1: 0.532\n",
      "travelled: 0.493\n",
      "pfizer: 0.492\n",
      "bukovel: 0.486\n",
      "vaccine: 0.486\n",
      "biometric: 0.486\n",
      "schengen: 0.48\n",
      "chisinau: 0.479\n",
      "travelers: 0.472\n",
      "traveling: 0.468\n",
      "duration: 0.466\n",
      "documentation: 0.455\n",
      "antigen: 0.454\n",
      "vinnytsia: 0.45\n",
      "renew: 0.449\n",
      "itinerary: 0.446\n",
      "residence: 0.443\n",
      "motorcycle: 0.441\n",
      "layover: 0.439\n",
      "solo: 0.438\n"
     ]
    }
   ],
   "source": [
    "get_most_similar_terms(model, 'travel')"
   ]
  },
  {
   "cell_type": "markdown",
   "id": "baabde26-37a4-4934-be7d-cfb5f4cc1394",
   "metadata": {},
   "source": [
    "### Visualizing High Dimensional Spaces with 𝑡 -SNE"
   ]
  },
  {
   "cell_type": "code",
   "execution_count": 25,
   "id": "0b4f6e65-55ad-451e-a038-c7f444a5df3d",
   "metadata": {},
   "outputs": [],
   "source": [
    "from sklearn.manifold import TSNE"
   ]
  },
  {
   "cell_type": "code",
   "execution_count": 26,
   "id": "8f952aed-f47f-4223-aee4-3d78da88a8a2",
   "metadata": {},
   "outputs": [],
   "source": [
    "# Create some filepaths to save our model\n",
    "tsne_path = 'tsne_model'\n",
    "tsne_vectors_path = 'tsne_vectors.pkl'"
   ]
  },
  {
   "cell_type": "code",
   "execution_count": 27,
   "id": "695e9b87-9e98-4771-80b3-d36840c23ca0",
   "metadata": {},
   "outputs": [
    {
     "name": "stderr",
     "output_type": "stream",
     "text": [
      "/Users/nazmulahasan/Library/jupyterlab-desktop/jlab_server/lib/python3.8/site-packages/sklearn/manifold/_t_sne.py:991: FutureWarning: The PCA initialization in TSNE will change to have the standard deviation of PC1 equal to 1e-4 in 1.2. This will ensure better convergence.\n",
      "  warnings.warn(\n"
     ]
    }
   ],
   "source": [
    "tsne = TSNE(init='pca', learning_rate='auto')\n",
    "tsne_vectors = tsne.fit_transform(model.wv.vectors)"
   ]
  },
  {
   "cell_type": "code",
   "execution_count": 29,
   "id": "df0d6395-61fd-4392-9b06-b82e4ba74136",
   "metadata": {},
   "outputs": [],
   "source": [
    "# Store the t-SNE vectors\n",
    "tsne_vectors = pd.DataFrame(tsne_vectors,\n",
    "                            index=pd.Index(model.wv.index_to_key),\n",
    "                            columns=['x', 'y'])"
   ]
  },
  {
   "cell_type": "code",
   "execution_count": 30,
   "id": "563cca7a-b412-4b05-8384-fda8071bae28",
   "metadata": {},
   "outputs": [],
   "source": [
    "with open(tsne_path, 'wb') as f:\n",
    "    pickle.dump(tsne, f)\n",
    "\n",
    "tsne_vectors.to_pickle(tsne_vectors_path)"
   ]
  },
  {
   "cell_type": "code",
   "execution_count": 31,
   "id": "12496668-9519-4eca-b0b0-e62337bf792b",
   "metadata": {},
   "outputs": [],
   "source": [
    "with open(tsne_path, 'rb') as f:\n",
    "    tsne = pickle.load(f)\n",
    "    \n",
    "tsne_vectors = pd.read_pickle(tsne_vectors_path)"
   ]
  },
  {
   "cell_type": "code",
   "execution_count": 32,
   "id": "3750e0d5-dbd0-4662-85aa-e788ccaf53d5",
   "metadata": {},
   "outputs": [
    {
     "data": {
      "text/html": [
       "<div class=\"bk-root\">\n",
       "        <a href=\"https://bokeh.org\" target=\"_blank\" class=\"bk-logo bk-logo-small bk-logo-notebook\"></a>\n",
       "        <span id=\"1002\">Loading BokehJS ...</span>\n",
       "    </div>\n"
      ]
     },
     "metadata": {},
     "output_type": "display_data"
    },
    {
     "data": {
      "application/javascript": [
       "(function(root) {\n",
       "  function now() {\n",
       "    return new Date();\n",
       "  }\n",
       "\n",
       "  const force = true;\n",
       "\n",
       "  if (typeof root._bokeh_onload_callbacks === \"undefined\" || force === true) {\n",
       "    root._bokeh_onload_callbacks = [];\n",
       "    root._bokeh_is_loading = undefined;\n",
       "  }\n",
       "\n",
       "const JS_MIME_TYPE = 'application/javascript';\n",
       "  const HTML_MIME_TYPE = 'text/html';\n",
       "  const EXEC_MIME_TYPE = 'application/vnd.bokehjs_exec.v0+json';\n",
       "  const CLASS_NAME = 'output_bokeh rendered_html';\n",
       "\n",
       "  /**\n",
       "   * Render data to the DOM node\n",
       "   */\n",
       "  function render(props, node) {\n",
       "    const script = document.createElement(\"script\");\n",
       "    node.appendChild(script);\n",
       "  }\n",
       "\n",
       "  /**\n",
       "   * Handle when an output is cleared or removed\n",
       "   */\n",
       "  function handleClearOutput(event, handle) {\n",
       "    const cell = handle.cell;\n",
       "\n",
       "    const id = cell.output_area._bokeh_element_id;\n",
       "    const server_id = cell.output_area._bokeh_server_id;\n",
       "    // Clean up Bokeh references\n",
       "    if (id != null && id in Bokeh.index) {\n",
       "      Bokeh.index[id].model.document.clear();\n",
       "      delete Bokeh.index[id];\n",
       "    }\n",
       "\n",
       "    if (server_id !== undefined) {\n",
       "      // Clean up Bokeh references\n",
       "      const cmd_clean = \"from bokeh.io.state import curstate; print(curstate().uuid_to_server['\" + server_id + \"'].get_sessions()[0].document.roots[0]._id)\";\n",
       "      cell.notebook.kernel.execute(cmd_clean, {\n",
       "        iopub: {\n",
       "          output: function(msg) {\n",
       "            const id = msg.content.text.trim();\n",
       "            if (id in Bokeh.index) {\n",
       "              Bokeh.index[id].model.document.clear();\n",
       "              delete Bokeh.index[id];\n",
       "            }\n",
       "          }\n",
       "        }\n",
       "      });\n",
       "      // Destroy server and session\n",
       "      const cmd_destroy = \"import bokeh.io.notebook as ion; ion.destroy_server('\" + server_id + \"')\";\n",
       "      cell.notebook.kernel.execute(cmd_destroy);\n",
       "    }\n",
       "  }\n",
       "\n",
       "  /**\n",
       "   * Handle when a new output is added\n",
       "   */\n",
       "  function handleAddOutput(event, handle) {\n",
       "    const output_area = handle.output_area;\n",
       "    const output = handle.output;\n",
       "\n",
       "    // limit handleAddOutput to display_data with EXEC_MIME_TYPE content only\n",
       "    if ((output.output_type != \"display_data\") || (!Object.prototype.hasOwnProperty.call(output.data, EXEC_MIME_TYPE))) {\n",
       "      return\n",
       "    }\n",
       "\n",
       "    const toinsert = output_area.element.find(\".\" + CLASS_NAME.split(' ')[0]);\n",
       "\n",
       "    if (output.metadata[EXEC_MIME_TYPE][\"id\"] !== undefined) {\n",
       "      toinsert[toinsert.length - 1].firstChild.textContent = output.data[JS_MIME_TYPE];\n",
       "      // store reference to embed id on output_area\n",
       "      output_area._bokeh_element_id = output.metadata[EXEC_MIME_TYPE][\"id\"];\n",
       "    }\n",
       "    if (output.metadata[EXEC_MIME_TYPE][\"server_id\"] !== undefined) {\n",
       "      const bk_div = document.createElement(\"div\");\n",
       "      bk_div.innerHTML = output.data[HTML_MIME_TYPE];\n",
       "      const script_attrs = bk_div.children[0].attributes;\n",
       "      for (let i = 0; i < script_attrs.length; i++) {\n",
       "        toinsert[toinsert.length - 1].firstChild.setAttribute(script_attrs[i].name, script_attrs[i].value);\n",
       "        toinsert[toinsert.length - 1].firstChild.textContent = bk_div.children[0].textContent\n",
       "      }\n",
       "      // store reference to server id on output_area\n",
       "      output_area._bokeh_server_id = output.metadata[EXEC_MIME_TYPE][\"server_id\"];\n",
       "    }\n",
       "  }\n",
       "\n",
       "  function register_renderer(events, OutputArea) {\n",
       "\n",
       "    function append_mime(data, metadata, element) {\n",
       "      // create a DOM node to render to\n",
       "      const toinsert = this.create_output_subarea(\n",
       "        metadata,\n",
       "        CLASS_NAME,\n",
       "        EXEC_MIME_TYPE\n",
       "      );\n",
       "      this.keyboard_manager.register_events(toinsert);\n",
       "      // Render to node\n",
       "      const props = {data: data, metadata: metadata[EXEC_MIME_TYPE]};\n",
       "      render(props, toinsert[toinsert.length - 1]);\n",
       "      element.append(toinsert);\n",
       "      return toinsert\n",
       "    }\n",
       "\n",
       "    /* Handle when an output is cleared or removed */\n",
       "    events.on('clear_output.CodeCell', handleClearOutput);\n",
       "    events.on('delete.Cell', handleClearOutput);\n",
       "\n",
       "    /* Handle when a new output is added */\n",
       "    events.on('output_added.OutputArea', handleAddOutput);\n",
       "\n",
       "    /**\n",
       "     * Register the mime type and append_mime function with output_area\n",
       "     */\n",
       "    OutputArea.prototype.register_mime_type(EXEC_MIME_TYPE, append_mime, {\n",
       "      /* Is output safe? */\n",
       "      safe: true,\n",
       "      /* Index of renderer in `output_area.display_order` */\n",
       "      index: 0\n",
       "    });\n",
       "  }\n",
       "\n",
       "  // register the mime type if in Jupyter Notebook environment and previously unregistered\n",
       "  if (root.Jupyter !== undefined) {\n",
       "    const events = require('base/js/events');\n",
       "    const OutputArea = require('notebook/js/outputarea').OutputArea;\n",
       "\n",
       "    if (OutputArea.prototype.mime_types().indexOf(EXEC_MIME_TYPE) == -1) {\n",
       "      register_renderer(events, OutputArea);\n",
       "    }\n",
       "  }\n",
       "  if (typeof (root._bokeh_timeout) === \"undefined\" || force === true) {\n",
       "    root._bokeh_timeout = Date.now() + 5000;\n",
       "    root._bokeh_failed_load = false;\n",
       "  }\n",
       "\n",
       "  const NB_LOAD_WARNING = {'data': {'text/html':\n",
       "     \"<div style='background-color: #fdd'>\\n\"+\n",
       "     \"<p>\\n\"+\n",
       "     \"BokehJS does not appear to have successfully loaded. If loading BokehJS from CDN, this \\n\"+\n",
       "     \"may be due to a slow or bad network connection. Possible fixes:\\n\"+\n",
       "     \"</p>\\n\"+\n",
       "     \"<ul>\\n\"+\n",
       "     \"<li>re-rerun `output_notebook()` to attempt to load from CDN again, or</li>\\n\"+\n",
       "     \"<li>use INLINE resources instead, as so:</li>\\n\"+\n",
       "     \"</ul>\\n\"+\n",
       "     \"<code>\\n\"+\n",
       "     \"from bokeh.resources import INLINE\\n\"+\n",
       "     \"output_notebook(resources=INLINE)\\n\"+\n",
       "     \"</code>\\n\"+\n",
       "     \"</div>\"}};\n",
       "\n",
       "  function display_loaded() {\n",
       "    const el = document.getElementById(\"1002\");\n",
       "    if (el != null) {\n",
       "      el.textContent = \"BokehJS is loading...\";\n",
       "    }\n",
       "    if (root.Bokeh !== undefined) {\n",
       "      if (el != null) {\n",
       "        el.textContent = \"BokehJS \" + root.Bokeh.version + \" successfully loaded.\";\n",
       "      }\n",
       "    } else if (Date.now() < root._bokeh_timeout) {\n",
       "      setTimeout(display_loaded, 100)\n",
       "    }\n",
       "  }\n",
       "\n",
       "  function run_callbacks() {\n",
       "    try {\n",
       "      root._bokeh_onload_callbacks.forEach(function(callback) {\n",
       "        if (callback != null)\n",
       "          callback();\n",
       "      });\n",
       "    } finally {\n",
       "      delete root._bokeh_onload_callbacks\n",
       "    }\n",
       "    console.debug(\"Bokeh: all callbacks have finished\");\n",
       "  }\n",
       "\n",
       "  function load_libs(css_urls, js_urls, callback) {\n",
       "    if (css_urls == null) css_urls = [];\n",
       "    if (js_urls == null) js_urls = [];\n",
       "\n",
       "    root._bokeh_onload_callbacks.push(callback);\n",
       "    if (root._bokeh_is_loading > 0) {\n",
       "      console.debug(\"Bokeh: BokehJS is being loaded, scheduling callback at\", now());\n",
       "      return null;\n",
       "    }\n",
       "    if (js_urls == null || js_urls.length === 0) {\n",
       "      run_callbacks();\n",
       "      return null;\n",
       "    }\n",
       "    console.debug(\"Bokeh: BokehJS not loaded, scheduling load and callback at\", now());\n",
       "    root._bokeh_is_loading = css_urls.length + js_urls.length;\n",
       "\n",
       "    function on_load() {\n",
       "      root._bokeh_is_loading--;\n",
       "      if (root._bokeh_is_loading === 0) {\n",
       "        console.debug(\"Bokeh: all BokehJS libraries/stylesheets loaded\");\n",
       "        run_callbacks()\n",
       "      }\n",
       "    }\n",
       "\n",
       "    function on_error(url) {\n",
       "      console.error(\"failed to load \" + url);\n",
       "    }\n",
       "\n",
       "    for (let i = 0; i < css_urls.length; i++) {\n",
       "      const url = css_urls[i];\n",
       "      const element = document.createElement(\"link\");\n",
       "      element.onload = on_load;\n",
       "      element.onerror = on_error.bind(null, url);\n",
       "      element.rel = \"stylesheet\";\n",
       "      element.type = \"text/css\";\n",
       "      element.href = url;\n",
       "      console.debug(\"Bokeh: injecting link tag for BokehJS stylesheet: \", url);\n",
       "      document.body.appendChild(element);\n",
       "    }\n",
       "\n",
       "    for (let i = 0; i < js_urls.length; i++) {\n",
       "      const url = js_urls[i];\n",
       "      const element = document.createElement('script');\n",
       "      element.onload = on_load;\n",
       "      element.onerror = on_error.bind(null, url);\n",
       "      element.async = false;\n",
       "      element.src = url;\n",
       "      console.debug(\"Bokeh: injecting script tag for BokehJS library: \", url);\n",
       "      document.head.appendChild(element);\n",
       "    }\n",
       "  };\n",
       "\n",
       "  function inject_raw_css(css) {\n",
       "    const element = document.createElement(\"style\");\n",
       "    element.appendChild(document.createTextNode(css));\n",
       "    document.body.appendChild(element);\n",
       "  }\n",
       "\n",
       "  const js_urls = [\"https://cdn.bokeh.org/bokeh/release/bokeh-2.4.3.min.js\", \"https://cdn.bokeh.org/bokeh/release/bokeh-gl-2.4.3.min.js\", \"https://cdn.bokeh.org/bokeh/release/bokeh-widgets-2.4.3.min.js\", \"https://cdn.bokeh.org/bokeh/release/bokeh-tables-2.4.3.min.js\", \"https://cdn.bokeh.org/bokeh/release/bokeh-mathjax-2.4.3.min.js\"];\n",
       "  const css_urls = [];\n",
       "\n",
       "  const inline_js = [    function(Bokeh) {\n",
       "      Bokeh.set_log_level(\"info\");\n",
       "    },\n",
       "function(Bokeh) {\n",
       "    }\n",
       "  ];\n",
       "\n",
       "  function run_inline_js() {\n",
       "    if (root.Bokeh !== undefined || force === true) {\n",
       "          for (let i = 0; i < inline_js.length; i++) {\n",
       "      inline_js[i].call(root, root.Bokeh);\n",
       "    }\n",
       "if (force === true) {\n",
       "        display_loaded();\n",
       "      }} else if (Date.now() < root._bokeh_timeout) {\n",
       "      setTimeout(run_inline_js, 100);\n",
       "    } else if (!root._bokeh_failed_load) {\n",
       "      console.log(\"Bokeh: BokehJS failed to load within specified timeout.\");\n",
       "      root._bokeh_failed_load = true;\n",
       "    } else if (force !== true) {\n",
       "      const cell = $(document.getElementById(\"1002\")).parents('.cell').data().cell;\n",
       "      cell.output_area.append_execute_result(NB_LOAD_WARNING)\n",
       "    }\n",
       "  }\n",
       "\n",
       "  if (root._bokeh_is_loading === 0) {\n",
       "    console.debug(\"Bokeh: BokehJS loaded, going straight to plotting\");\n",
       "    run_inline_js();\n",
       "  } else {\n",
       "    load_libs(css_urls, js_urls, function() {\n",
       "      console.debug(\"Bokeh: BokehJS plotting callback run at\", now());\n",
       "      run_inline_js();\n",
       "    });\n",
       "  }\n",
       "}(window));"
      ],
      "application/vnd.bokehjs_load.v0+json": "(function(root) {\n  function now() {\n    return new Date();\n  }\n\n  const force = true;\n\n  if (typeof root._bokeh_onload_callbacks === \"undefined\" || force === true) {\n    root._bokeh_onload_callbacks = [];\n    root._bokeh_is_loading = undefined;\n  }\n\n\n  if (typeof (root._bokeh_timeout) === \"undefined\" || force === true) {\n    root._bokeh_timeout = Date.now() + 5000;\n    root._bokeh_failed_load = false;\n  }\n\n  const NB_LOAD_WARNING = {'data': {'text/html':\n     \"<div style='background-color: #fdd'>\\n\"+\n     \"<p>\\n\"+\n     \"BokehJS does not appear to have successfully loaded. If loading BokehJS from CDN, this \\n\"+\n     \"may be due to a slow or bad network connection. Possible fixes:\\n\"+\n     \"</p>\\n\"+\n     \"<ul>\\n\"+\n     \"<li>re-rerun `output_notebook()` to attempt to load from CDN again, or</li>\\n\"+\n     \"<li>use INLINE resources instead, as so:</li>\\n\"+\n     \"</ul>\\n\"+\n     \"<code>\\n\"+\n     \"from bokeh.resources import INLINE\\n\"+\n     \"output_notebook(resources=INLINE)\\n\"+\n     \"</code>\\n\"+\n     \"</div>\"}};\n\n  function display_loaded() {\n    const el = document.getElementById(\"1002\");\n    if (el != null) {\n      el.textContent = \"BokehJS is loading...\";\n    }\n    if (root.Bokeh !== undefined) {\n      if (el != null) {\n        el.textContent = \"BokehJS \" + root.Bokeh.version + \" successfully loaded.\";\n      }\n    } else if (Date.now() < root._bokeh_timeout) {\n      setTimeout(display_loaded, 100)\n    }\n  }\n\n  function run_callbacks() {\n    try {\n      root._bokeh_onload_callbacks.forEach(function(callback) {\n        if (callback != null)\n          callback();\n      });\n    } finally {\n      delete root._bokeh_onload_callbacks\n    }\n    console.debug(\"Bokeh: all callbacks have finished\");\n  }\n\n  function load_libs(css_urls, js_urls, callback) {\n    if (css_urls == null) css_urls = [];\n    if (js_urls == null) js_urls = [];\n\n    root._bokeh_onload_callbacks.push(callback);\n    if (root._bokeh_is_loading > 0) {\n      console.debug(\"Bokeh: BokehJS is being loaded, scheduling callback at\", now());\n      return null;\n    }\n    if (js_urls == null || js_urls.length === 0) {\n      run_callbacks();\n      return null;\n    }\n    console.debug(\"Bokeh: BokehJS not loaded, scheduling load and callback at\", now());\n    root._bokeh_is_loading = css_urls.length + js_urls.length;\n\n    function on_load() {\n      root._bokeh_is_loading--;\n      if (root._bokeh_is_loading === 0) {\n        console.debug(\"Bokeh: all BokehJS libraries/stylesheets loaded\");\n        run_callbacks()\n      }\n    }\n\n    function on_error(url) {\n      console.error(\"failed to load \" + url);\n    }\n\n    for (let i = 0; i < css_urls.length; i++) {\n      const url = css_urls[i];\n      const element = document.createElement(\"link\");\n      element.onload = on_load;\n      element.onerror = on_error.bind(null, url);\n      element.rel = \"stylesheet\";\n      element.type = \"text/css\";\n      element.href = url;\n      console.debug(\"Bokeh: injecting link tag for BokehJS stylesheet: \", url);\n      document.body.appendChild(element);\n    }\n\n    for (let i = 0; i < js_urls.length; i++) {\n      const url = js_urls[i];\n      const element = document.createElement('script');\n      element.onload = on_load;\n      element.onerror = on_error.bind(null, url);\n      element.async = false;\n      element.src = url;\n      console.debug(\"Bokeh: injecting script tag for BokehJS library: \", url);\n      document.head.appendChild(element);\n    }\n  };\n\n  function inject_raw_css(css) {\n    const element = document.createElement(\"style\");\n    element.appendChild(document.createTextNode(css));\n    document.body.appendChild(element);\n  }\n\n  const js_urls = [\"https://cdn.bokeh.org/bokeh/release/bokeh-2.4.3.min.js\", \"https://cdn.bokeh.org/bokeh/release/bokeh-gl-2.4.3.min.js\", \"https://cdn.bokeh.org/bokeh/release/bokeh-widgets-2.4.3.min.js\", \"https://cdn.bokeh.org/bokeh/release/bokeh-tables-2.4.3.min.js\", \"https://cdn.bokeh.org/bokeh/release/bokeh-mathjax-2.4.3.min.js\"];\n  const css_urls = [];\n\n  const inline_js = [    function(Bokeh) {\n      Bokeh.set_log_level(\"info\");\n    },\nfunction(Bokeh) {\n    }\n  ];\n\n  function run_inline_js() {\n    if (root.Bokeh !== undefined || force === true) {\n          for (let i = 0; i < inline_js.length; i++) {\n      inline_js[i].call(root, root.Bokeh);\n    }\nif (force === true) {\n        display_loaded();\n      }} else if (Date.now() < root._bokeh_timeout) {\n      setTimeout(run_inline_js, 100);\n    } else if (!root._bokeh_failed_load) {\n      console.log(\"Bokeh: BokehJS failed to load within specified timeout.\");\n      root._bokeh_failed_load = true;\n    } else if (force !== true) {\n      const cell = $(document.getElementById(\"1002\")).parents('.cell').data().cell;\n      cell.output_area.append_execute_result(NB_LOAD_WARNING)\n    }\n  }\n\n  if (root._bokeh_is_loading === 0) {\n    console.debug(\"Bokeh: BokehJS loaded, going straight to plotting\");\n    run_inline_js();\n  } else {\n    load_libs(css_urls, js_urls, function() {\n      console.debug(\"Bokeh: BokehJS plotting callback run at\", now());\n      run_inline_js();\n    });\n  }\n}(window));"
     },
     "metadata": {},
     "output_type": "display_data"
    },
    {
     "data": {
      "text/html": [
       "<div class=\"bk-root\">\n",
       "        <a href=\"https://bokeh.org\" target=\"_blank\" class=\"bk-logo bk-logo-small bk-logo-notebook\"></a>\n",
       "        <span id=\"1003\">Loading BokehJS ...</span>\n",
       "    </div>\n"
      ]
     },
     "metadata": {},
     "output_type": "display_data"
    },
    {
     "data": {
      "application/javascript": [
       "(function(root) {\n",
       "  function now() {\n",
       "    return new Date();\n",
       "  }\n",
       "\n",
       "  const force = true;\n",
       "\n",
       "  if (typeof root._bokeh_onload_callbacks === \"undefined\" || force === true) {\n",
       "    root._bokeh_onload_callbacks = [];\n",
       "    root._bokeh_is_loading = undefined;\n",
       "  }\n",
       "\n",
       "const JS_MIME_TYPE = 'application/javascript';\n",
       "  const HTML_MIME_TYPE = 'text/html';\n",
       "  const EXEC_MIME_TYPE = 'application/vnd.bokehjs_exec.v0+json';\n",
       "  const CLASS_NAME = 'output_bokeh rendered_html';\n",
       "\n",
       "  /**\n",
       "   * Render data to the DOM node\n",
       "   */\n",
       "  function render(props, node) {\n",
       "    const script = document.createElement(\"script\");\n",
       "    node.appendChild(script);\n",
       "  }\n",
       "\n",
       "  /**\n",
       "   * Handle when an output is cleared or removed\n",
       "   */\n",
       "  function handleClearOutput(event, handle) {\n",
       "    const cell = handle.cell;\n",
       "\n",
       "    const id = cell.output_area._bokeh_element_id;\n",
       "    const server_id = cell.output_area._bokeh_server_id;\n",
       "    // Clean up Bokeh references\n",
       "    if (id != null && id in Bokeh.index) {\n",
       "      Bokeh.index[id].model.document.clear();\n",
       "      delete Bokeh.index[id];\n",
       "    }\n",
       "\n",
       "    if (server_id !== undefined) {\n",
       "      // Clean up Bokeh references\n",
       "      const cmd_clean = \"from bokeh.io.state import curstate; print(curstate().uuid_to_server['\" + server_id + \"'].get_sessions()[0].document.roots[0]._id)\";\n",
       "      cell.notebook.kernel.execute(cmd_clean, {\n",
       "        iopub: {\n",
       "          output: function(msg) {\n",
       "            const id = msg.content.text.trim();\n",
       "            if (id in Bokeh.index) {\n",
       "              Bokeh.index[id].model.document.clear();\n",
       "              delete Bokeh.index[id];\n",
       "            }\n",
       "          }\n",
       "        }\n",
       "      });\n",
       "      // Destroy server and session\n",
       "      const cmd_destroy = \"import bokeh.io.notebook as ion; ion.destroy_server('\" + server_id + \"')\";\n",
       "      cell.notebook.kernel.execute(cmd_destroy);\n",
       "    }\n",
       "  }\n",
       "\n",
       "  /**\n",
       "   * Handle when a new output is added\n",
       "   */\n",
       "  function handleAddOutput(event, handle) {\n",
       "    const output_area = handle.output_area;\n",
       "    const output = handle.output;\n",
       "\n",
       "    // limit handleAddOutput to display_data with EXEC_MIME_TYPE content only\n",
       "    if ((output.output_type != \"display_data\") || (!Object.prototype.hasOwnProperty.call(output.data, EXEC_MIME_TYPE))) {\n",
       "      return\n",
       "    }\n",
       "\n",
       "    const toinsert = output_area.element.find(\".\" + CLASS_NAME.split(' ')[0]);\n",
       "\n",
       "    if (output.metadata[EXEC_MIME_TYPE][\"id\"] !== undefined) {\n",
       "      toinsert[toinsert.length - 1].firstChild.textContent = output.data[JS_MIME_TYPE];\n",
       "      // store reference to embed id on output_area\n",
       "      output_area._bokeh_element_id = output.metadata[EXEC_MIME_TYPE][\"id\"];\n",
       "    }\n",
       "    if (output.metadata[EXEC_MIME_TYPE][\"server_id\"] !== undefined) {\n",
       "      const bk_div = document.createElement(\"div\");\n",
       "      bk_div.innerHTML = output.data[HTML_MIME_TYPE];\n",
       "      const script_attrs = bk_div.children[0].attributes;\n",
       "      for (let i = 0; i < script_attrs.length; i++) {\n",
       "        toinsert[toinsert.length - 1].firstChild.setAttribute(script_attrs[i].name, script_attrs[i].value);\n",
       "        toinsert[toinsert.length - 1].firstChild.textContent = bk_div.children[0].textContent\n",
       "      }\n",
       "      // store reference to server id on output_area\n",
       "      output_area._bokeh_server_id = output.metadata[EXEC_MIME_TYPE][\"server_id\"];\n",
       "    }\n",
       "  }\n",
       "\n",
       "  function register_renderer(events, OutputArea) {\n",
       "\n",
       "    function append_mime(data, metadata, element) {\n",
       "      // create a DOM node to render to\n",
       "      const toinsert = this.create_output_subarea(\n",
       "        metadata,\n",
       "        CLASS_NAME,\n",
       "        EXEC_MIME_TYPE\n",
       "      );\n",
       "      this.keyboard_manager.register_events(toinsert);\n",
       "      // Render to node\n",
       "      const props = {data: data, metadata: metadata[EXEC_MIME_TYPE]};\n",
       "      render(props, toinsert[toinsert.length - 1]);\n",
       "      element.append(toinsert);\n",
       "      return toinsert\n",
       "    }\n",
       "\n",
       "    /* Handle when an output is cleared or removed */\n",
       "    events.on('clear_output.CodeCell', handleClearOutput);\n",
       "    events.on('delete.Cell', handleClearOutput);\n",
       "\n",
       "    /* Handle when a new output is added */\n",
       "    events.on('output_added.OutputArea', handleAddOutput);\n",
       "\n",
       "    /**\n",
       "     * Register the mime type and append_mime function with output_area\n",
       "     */\n",
       "    OutputArea.prototype.register_mime_type(EXEC_MIME_TYPE, append_mime, {\n",
       "      /* Is output safe? */\n",
       "      safe: true,\n",
       "      /* Index of renderer in `output_area.display_order` */\n",
       "      index: 0\n",
       "    });\n",
       "  }\n",
       "\n",
       "  // register the mime type if in Jupyter Notebook environment and previously unregistered\n",
       "  if (root.Jupyter !== undefined) {\n",
       "    const events = require('base/js/events');\n",
       "    const OutputArea = require('notebook/js/outputarea').OutputArea;\n",
       "\n",
       "    if (OutputArea.prototype.mime_types().indexOf(EXEC_MIME_TYPE) == -1) {\n",
       "      register_renderer(events, OutputArea);\n",
       "    }\n",
       "  }\n",
       "  if (typeof (root._bokeh_timeout) === \"undefined\" || force === true) {\n",
       "    root._bokeh_timeout = Date.now() + 5000;\n",
       "    root._bokeh_failed_load = false;\n",
       "  }\n",
       "\n",
       "  const NB_LOAD_WARNING = {'data': {'text/html':\n",
       "     \"<div style='background-color: #fdd'>\\n\"+\n",
       "     \"<p>\\n\"+\n",
       "     \"BokehJS does not appear to have successfully loaded. If loading BokehJS from CDN, this \\n\"+\n",
       "     \"may be due to a slow or bad network connection. Possible fixes:\\n\"+\n",
       "     \"</p>\\n\"+\n",
       "     \"<ul>\\n\"+\n",
       "     \"<li>re-rerun `output_notebook()` to attempt to load from CDN again, or</li>\\n\"+\n",
       "     \"<li>use INLINE resources instead, as so:</li>\\n\"+\n",
       "     \"</ul>\\n\"+\n",
       "     \"<code>\\n\"+\n",
       "     \"from bokeh.resources import INLINE\\n\"+\n",
       "     \"output_notebook(resources=INLINE)\\n\"+\n",
       "     \"</code>\\n\"+\n",
       "     \"</div>\"}};\n",
       "\n",
       "  function display_loaded() {\n",
       "    const el = document.getElementById(\"1003\");\n",
       "    if (el != null) {\n",
       "      el.textContent = \"BokehJS is loading...\";\n",
       "    }\n",
       "    if (root.Bokeh !== undefined) {\n",
       "      if (el != null) {\n",
       "        el.textContent = \"BokehJS \" + root.Bokeh.version + \" successfully loaded.\";\n",
       "      }\n",
       "    } else if (Date.now() < root._bokeh_timeout) {\n",
       "      setTimeout(display_loaded, 100)\n",
       "    }\n",
       "  }\n",
       "\n",
       "  function run_callbacks() {\n",
       "    try {\n",
       "      root._bokeh_onload_callbacks.forEach(function(callback) {\n",
       "        if (callback != null)\n",
       "          callback();\n",
       "      });\n",
       "    } finally {\n",
       "      delete root._bokeh_onload_callbacks\n",
       "    }\n",
       "    console.debug(\"Bokeh: all callbacks have finished\");\n",
       "  }\n",
       "\n",
       "  function load_libs(css_urls, js_urls, callback) {\n",
       "    if (css_urls == null) css_urls = [];\n",
       "    if (js_urls == null) js_urls = [];\n",
       "\n",
       "    root._bokeh_onload_callbacks.push(callback);\n",
       "    if (root._bokeh_is_loading > 0) {\n",
       "      console.debug(\"Bokeh: BokehJS is being loaded, scheduling callback at\", now());\n",
       "      return null;\n",
       "    }\n",
       "    if (js_urls == null || js_urls.length === 0) {\n",
       "      run_callbacks();\n",
       "      return null;\n",
       "    }\n",
       "    console.debug(\"Bokeh: BokehJS not loaded, scheduling load and callback at\", now());\n",
       "    root._bokeh_is_loading = css_urls.length + js_urls.length;\n",
       "\n",
       "    function on_load() {\n",
       "      root._bokeh_is_loading--;\n",
       "      if (root._bokeh_is_loading === 0) {\n",
       "        console.debug(\"Bokeh: all BokehJS libraries/stylesheets loaded\");\n",
       "        run_callbacks()\n",
       "      }\n",
       "    }\n",
       "\n",
       "    function on_error(url) {\n",
       "      console.error(\"failed to load \" + url);\n",
       "    }\n",
       "\n",
       "    for (let i = 0; i < css_urls.length; i++) {\n",
       "      const url = css_urls[i];\n",
       "      const element = document.createElement(\"link\");\n",
       "      element.onload = on_load;\n",
       "      element.onerror = on_error.bind(null, url);\n",
       "      element.rel = \"stylesheet\";\n",
       "      element.type = \"text/css\";\n",
       "      element.href = url;\n",
       "      console.debug(\"Bokeh: injecting link tag for BokehJS stylesheet: \", url);\n",
       "      document.body.appendChild(element);\n",
       "    }\n",
       "\n",
       "    for (let i = 0; i < js_urls.length; i++) {\n",
       "      const url = js_urls[i];\n",
       "      const element = document.createElement('script');\n",
       "      element.onload = on_load;\n",
       "      element.onerror = on_error.bind(null, url);\n",
       "      element.async = false;\n",
       "      element.src = url;\n",
       "      console.debug(\"Bokeh: injecting script tag for BokehJS library: \", url);\n",
       "      document.head.appendChild(element);\n",
       "    }\n",
       "  };\n",
       "\n",
       "  function inject_raw_css(css) {\n",
       "    const element = document.createElement(\"style\");\n",
       "    element.appendChild(document.createTextNode(css));\n",
       "    document.body.appendChild(element);\n",
       "  }\n",
       "\n",
       "  const js_urls = [\"https://cdn.bokeh.org/bokeh/release/bokeh-2.4.3.min.js\", \"https://cdn.bokeh.org/bokeh/release/bokeh-gl-2.4.3.min.js\", \"https://cdn.bokeh.org/bokeh/release/bokeh-widgets-2.4.3.min.js\", \"https://cdn.bokeh.org/bokeh/release/bokeh-tables-2.4.3.min.js\", \"https://cdn.bokeh.org/bokeh/release/bokeh-mathjax-2.4.3.min.js\"];\n",
       "  const css_urls = [];\n",
       "\n",
       "  const inline_js = [    function(Bokeh) {\n",
       "      Bokeh.set_log_level(\"info\");\n",
       "    },\n",
       "function(Bokeh) {\n",
       "    }\n",
       "  ];\n",
       "\n",
       "  function run_inline_js() {\n",
       "    if (root.Bokeh !== undefined || force === true) {\n",
       "          for (let i = 0; i < inline_js.length; i++) {\n",
       "      inline_js[i].call(root, root.Bokeh);\n",
       "    }\n",
       "if (force === true) {\n",
       "        display_loaded();\n",
       "      }} else if (Date.now() < root._bokeh_timeout) {\n",
       "      setTimeout(run_inline_js, 100);\n",
       "    } else if (!root._bokeh_failed_load) {\n",
       "      console.log(\"Bokeh: BokehJS failed to load within specified timeout.\");\n",
       "      root._bokeh_failed_load = true;\n",
       "    } else if (force !== true) {\n",
       "      const cell = $(document.getElementById(\"1003\")).parents('.cell').data().cell;\n",
       "      cell.output_area.append_execute_result(NB_LOAD_WARNING)\n",
       "    }\n",
       "  }\n",
       "\n",
       "  if (root._bokeh_is_loading === 0) {\n",
       "    console.debug(\"Bokeh: BokehJS loaded, going straight to plotting\");\n",
       "    run_inline_js();\n",
       "  } else {\n",
       "    load_libs(css_urls, js_urls, function() {\n",
       "      console.debug(\"Bokeh: BokehJS plotting callback run at\", now());\n",
       "      run_inline_js();\n",
       "    });\n",
       "  }\n",
       "}(window));"
      ],
      "application/vnd.bokehjs_load.v0+json": "(function(root) {\n  function now() {\n    return new Date();\n  }\n\n  const force = true;\n\n  if (typeof root._bokeh_onload_callbacks === \"undefined\" || force === true) {\n    root._bokeh_onload_callbacks = [];\n    root._bokeh_is_loading = undefined;\n  }\n\n\n  if (typeof (root._bokeh_timeout) === \"undefined\" || force === true) {\n    root._bokeh_timeout = Date.now() + 5000;\n    root._bokeh_failed_load = false;\n  }\n\n  const NB_LOAD_WARNING = {'data': {'text/html':\n     \"<div style='background-color: #fdd'>\\n\"+\n     \"<p>\\n\"+\n     \"BokehJS does not appear to have successfully loaded. If loading BokehJS from CDN, this \\n\"+\n     \"may be due to a slow or bad network connection. Possible fixes:\\n\"+\n     \"</p>\\n\"+\n     \"<ul>\\n\"+\n     \"<li>re-rerun `output_notebook()` to attempt to load from CDN again, or</li>\\n\"+\n     \"<li>use INLINE resources instead, as so:</li>\\n\"+\n     \"</ul>\\n\"+\n     \"<code>\\n\"+\n     \"from bokeh.resources import INLINE\\n\"+\n     \"output_notebook(resources=INLINE)\\n\"+\n     \"</code>\\n\"+\n     \"</div>\"}};\n\n  function display_loaded() {\n    const el = document.getElementById(\"1003\");\n    if (el != null) {\n      el.textContent = \"BokehJS is loading...\";\n    }\n    if (root.Bokeh !== undefined) {\n      if (el != null) {\n        el.textContent = \"BokehJS \" + root.Bokeh.version + \" successfully loaded.\";\n      }\n    } else if (Date.now() < root._bokeh_timeout) {\n      setTimeout(display_loaded, 100)\n    }\n  }\n\n  function run_callbacks() {\n    try {\n      root._bokeh_onload_callbacks.forEach(function(callback) {\n        if (callback != null)\n          callback();\n      });\n    } finally {\n      delete root._bokeh_onload_callbacks\n    }\n    console.debug(\"Bokeh: all callbacks have finished\");\n  }\n\n  function load_libs(css_urls, js_urls, callback) {\n    if (css_urls == null) css_urls = [];\n    if (js_urls == null) js_urls = [];\n\n    root._bokeh_onload_callbacks.push(callback);\n    if (root._bokeh_is_loading > 0) {\n      console.debug(\"Bokeh: BokehJS is being loaded, scheduling callback at\", now());\n      return null;\n    }\n    if (js_urls == null || js_urls.length === 0) {\n      run_callbacks();\n      return null;\n    }\n    console.debug(\"Bokeh: BokehJS not loaded, scheduling load and callback at\", now());\n    root._bokeh_is_loading = css_urls.length + js_urls.length;\n\n    function on_load() {\n      root._bokeh_is_loading--;\n      if (root._bokeh_is_loading === 0) {\n        console.debug(\"Bokeh: all BokehJS libraries/stylesheets loaded\");\n        run_callbacks()\n      }\n    }\n\n    function on_error(url) {\n      console.error(\"failed to load \" + url);\n    }\n\n    for (let i = 0; i < css_urls.length; i++) {\n      const url = css_urls[i];\n      const element = document.createElement(\"link\");\n      element.onload = on_load;\n      element.onerror = on_error.bind(null, url);\n      element.rel = \"stylesheet\";\n      element.type = \"text/css\";\n      element.href = url;\n      console.debug(\"Bokeh: injecting link tag for BokehJS stylesheet: \", url);\n      document.body.appendChild(element);\n    }\n\n    for (let i = 0; i < js_urls.length; i++) {\n      const url = js_urls[i];\n      const element = document.createElement('script');\n      element.onload = on_load;\n      element.onerror = on_error.bind(null, url);\n      element.async = false;\n      element.src = url;\n      console.debug(\"Bokeh: injecting script tag for BokehJS library: \", url);\n      document.head.appendChild(element);\n    }\n  };\n\n  function inject_raw_css(css) {\n    const element = document.createElement(\"style\");\n    element.appendChild(document.createTextNode(css));\n    document.body.appendChild(element);\n  }\n\n  const js_urls = [\"https://cdn.bokeh.org/bokeh/release/bokeh-2.4.3.min.js\", \"https://cdn.bokeh.org/bokeh/release/bokeh-gl-2.4.3.min.js\", \"https://cdn.bokeh.org/bokeh/release/bokeh-widgets-2.4.3.min.js\", \"https://cdn.bokeh.org/bokeh/release/bokeh-tables-2.4.3.min.js\", \"https://cdn.bokeh.org/bokeh/release/bokeh-mathjax-2.4.3.min.js\"];\n  const css_urls = [];\n\n  const inline_js = [    function(Bokeh) {\n      Bokeh.set_log_level(\"info\");\n    },\nfunction(Bokeh) {\n    }\n  ];\n\n  function run_inline_js() {\n    if (root.Bokeh !== undefined || force === true) {\n          for (let i = 0; i < inline_js.length; i++) {\n      inline_js[i].call(root, root.Bokeh);\n    }\nif (force === true) {\n        display_loaded();\n      }} else if (Date.now() < root._bokeh_timeout) {\n      setTimeout(run_inline_js, 100);\n    } else if (!root._bokeh_failed_load) {\n      console.log(\"Bokeh: BokehJS failed to load within specified timeout.\");\n      root._bokeh_failed_load = true;\n    } else if (force !== true) {\n      const cell = $(document.getElementById(\"1003\")).parents('.cell').data().cell;\n      cell.output_area.append_execute_result(NB_LOAD_WARNING)\n    }\n  }\n\n  if (root._bokeh_is_loading === 0) {\n    console.debug(\"Bokeh: BokehJS loaded, going straight to plotting\");\n    run_inline_js();\n  } else {\n    load_libs(css_urls, js_urls, function() {\n      console.debug(\"Bokeh: BokehJS plotting callback run at\", now());\n      run_inline_js();\n    });\n  }\n}(window));"
     },
     "metadata": {},
     "output_type": "display_data"
    }
   ],
   "source": [
    "import bokeh\n",
    "from bokeh.plotting import figure, show, output_notebook\n",
    "from bokeh.models import HoverTool, ColumnDataSource\n",
    "\n",
    "output_notebook()\n",
    "bokeh.io.output_notebook()"
   ]
  },
  {
   "cell_type": "code",
   "execution_count": 33,
   "id": "ee5cefd9-3824-4a68-a620-deab01b8017b",
   "metadata": {},
   "outputs": [
    {
     "data": {
      "text/html": [
       "\n",
       "  <div class=\"bk-root\" id=\"6a92e0b7-b37a-40f8-90a0-815c3aaadd64\" data-root-id=\"1005\"></div>\n"
      ]
     },
     "metadata": {},
     "output_type": "display_data"
    },
    {
     "data": {
      "application/javascript": [
       "(function(root) {\n",
       "  function embed_document(root) {\n",
       "  const docs_json = {\"2372efc8-7e50-4237-84d1-153a6b171fe5\":{\"defs\":[],\"roots\":{\"references\":[{\"attributes\":{\"below\":[{\"id\":\"1016\"}],\"center\":[{\"id\":\"1019\"},{\"id\":\"1023\"}],\"height\":800,\"left\":[{\"id\":\"1020\"}],\"outline_line_color\":null,\"renderers\":[{\"id\":\"1045\"}],\"title\":{\"id\":\"1006\"},\"toolbar\":{\"id\":\"1031\"},\"width\":800,\"x_range\":{\"id\":\"1008\"},\"x_scale\":{\"id\":\"1012\"},\"y_range\":{\"id\":\"1010\"},\"y_scale\":{\"id\":\"1014\"}},\"id\":\"1005\",\"subtype\":\"Figure\",\"type\":\"Plot\"},{\"attributes\":{},\"id\":\"1025\",\"type\":\"WheelZoomTool\"},{\"attributes\":{},\"id\":\"1029\",\"type\":\"HelpTool\"},{\"attributes\":{\"tools\":[{\"id\":\"1024\"},{\"id\":\"1025\"},{\"id\":\"1026\"},{\"id\":\"1027\"},{\"id\":\"1028\"},{\"id\":\"1029\"},{\"id\":\"1038\"}]},\"id\":\"1031\",\"type\":\"Toolbar\"},{\"attributes\":{\"fill_alpha\":{\"value\":0.1},\"fill_color\":{\"value\":\"blue\"},\"hatch_alpha\":{\"value\":0.1},\"hatch_color\":{\"value\":\"blue\"},\"line_alpha\":{\"value\":0.1},\"line_color\":{\"value\":\"blue\"},\"size\":{\"value\":10},\"x\":{\"field\":\"x\"},\"y\":{\"field\":\"y\"}},\"id\":\"1042\",\"type\":\"Circle\"},{\"attributes\":{},\"id\":\"1024\",\"type\":\"PanTool\"},{\"attributes\":{\"axis\":{\"id\":\"1020\"},\"coordinates\":null,\"dimension\":1,\"grid_line_color\":null,\"group\":null,\"ticker\":null},\"id\":\"1023\",\"type\":\"Grid\"},{\"attributes\":{\"overlay\":{\"id\":\"1030\"}},\"id\":\"1026\",\"type\":\"BoxZoomTool\"},{\"attributes\":{},\"id\":\"1027\",\"type\":\"SaveTool\"},{\"attributes\":{},\"id\":\"1008\",\"type\":\"DataRange1d\"},{\"attributes\":{},\"id\":\"1028\",\"type\":\"ResetTool\"},{\"attributes\":{},\"id\":\"1054\",\"type\":\"UnionRenderers\"},{\"attributes\":{\"callback\":null,\"tooltips\":\"@index\"},\"id\":\"1038\",\"type\":\"HoverTool\"},{\"attributes\":{},\"id\":\"1017\",\"type\":\"BasicTicker\"},{\"attributes\":{\"bottom_units\":\"screen\",\"coordinates\":null,\"fill_alpha\":0.5,\"fill_color\":\"lightgrey\",\"group\":null,\"left_units\":\"screen\",\"level\":\"overlay\",\"line_alpha\":1.0,\"line_color\":\"black\",\"line_dash\":[4,4],\"line_width\":2,\"right_units\":\"screen\",\"syncable\":false,\"top_units\":\"screen\"},\"id\":\"1030\",\"type\":\"BoxAnnotation\"},{\"attributes\":{},\"id\":\"1055\",\"type\":\"Selection\"},{\"attributes\":{},\"id\":\"1012\",\"type\":\"LinearScale\"},{\"attributes\":{},\"id\":\"1021\",\"type\":\"BasicTicker\"},{\"attributes\":{\"fill_alpha\":{\"value\":0.2},\"fill_color\":{\"value\":\"blue\"},\"hatch_alpha\":{\"value\":0.2},\"hatch_color\":{\"value\":\"blue\"},\"line_alpha\":{\"value\":0.2},\"line_color\":{\"value\":\"blue\"},\"size\":{\"value\":10},\"x\":{\"field\":\"x\"},\"y\":{\"field\":\"y\"}},\"id\":\"1044\",\"type\":\"Circle\"},{\"attributes\":{\"axis\":{\"id\":\"1016\"},\"coordinates\":null,\"grid_line_color\":null,\"group\":null,\"ticker\":null},\"id\":\"1019\",\"type\":\"Grid\"},{\"attributes\":{\"source\":{\"id\":\"1004\"}},\"id\":\"1046\",\"type\":\"CDSView\"},{\"attributes\":{\"coordinates\":null,\"data_source\":{\"id\":\"1004\"},\"glyph\":{\"id\":\"1041\"},\"group\":null,\"hover_glyph\":{\"id\":\"1043\"},\"muted_glyph\":{\"id\":\"1044\"},\"nonselection_glyph\":{\"id\":\"1042\"},\"view\":{\"id\":\"1046\"}},\"id\":\"1045\",\"type\":\"GlyphRenderer\"},{\"attributes\":{\"fill_alpha\":{\"value\":0.1},\"fill_color\":{\"value\":\"blue\"},\"hatch_color\":{\"value\":\"blue\"},\"line_alpha\":{\"value\":0.2},\"line_color\":{\"value\":\"blue\"},\"size\":{\"value\":10},\"x\":{\"field\":\"x\"},\"y\":{\"field\":\"y\"}},\"id\":\"1041\",\"type\":\"Circle\"},{\"attributes\":{\"coordinates\":null,\"group\":null,\"text\":\"t-SNE Word Embeddings\"},\"id\":\"1006\",\"type\":\"Title\"},{\"attributes\":{\"data\":{\"index\":[\"ukraine\",\"ukrainian\",\"russian\",\"people\",\"like\",\"know\",\"russia\",\"help\",\"want\",\"war\",\"country\",\"time\",\"putin\",\"need\",\"going\",\"think\",\"kyiv\",\"good\",\"find\",\"way\",\"ukrainians\",\"world\",\"right\",\"looking\",\"guys\",\"military\",\"kiev\",\"hello\",\"use\",\"english\",\"post\",\"family\",\"information\",\"things\",\"lot\",\"days\",\"hi\",\"russians\",\"support\",\"best\",\"countries\",\"day\",\"live\",\"city\",\"nato\",\"hope\",\"let\",\"place\",\"sure\",\"news\",\"etc\",\"thanks\",\"thank\",\"work\",\"possible\",\"government\",\"years\",\"money\",\"trying\",\"wondering\",\"said\",\"feel\",\"able\",\"visit\",\"new\",\"speak\",\"long\",\"nt\",\"friends\",\"fight\",\"love\",\"situation\",\"stay\",\"maybe\",\"ask\",\"lviv\",\"language\",\"got\",\"come\",\"send\",\"understand\",\"question\",\"american\",\"friend\",\"read\",\"poland\",\"getting\",\"eu\",\"free\",\"army\",\"border\",\"west\",\"better\",\"far\",\"actually\",\"life\",\"great\",\"currently\",\"look\",\"found\",\"safe\",\"thing\",\"wanted\",\"seen\",\"europe\",\"history\",\"soldiers\",\"living\",\"buy\",\"try\",\"heard\",\"places\",\"idea\",\"travel\",\"hey\",\"invasion\",\"tell\",\"small\",\"kind\",\"home\",\"odessa\",\"end\",\"video\",\"today\",\"little\",\"online\",\"point\",\"wo\",\"probably\",\"western\",\"old\",\"year\",\"food\",\"interested\",\"experience\",\"start\",\"open\",\"bit\",\"week\",\"person\",\"stop\",\"troops\",\"having\",\"visa\",\"thought\",\"fighting\",\"conflict\",\"different\",\"crimea\",\"believe\",\"forces\",\"told\",\"bad\",\"leave\",\"m\",\"planning\",\"questions\",\"advice\",\"link\",\"pay\",\"local\",\"edit\",\"big\",\"website\",\"state\",\"learn\",\"share\",\"sorry\",\"months\",\"saying\",\"passport\",\"thinking\",\"cities\",\"coming\",\"month\",\"ukranian\",\"president\",\"mean\",\"power\",\"propaganda\",\"visiting\",\"sanctions\",\"especially\",\"real\",\"trip\",\"international\",\"working\",\"times\",\"soon\",\"media\",\"hard\",\"couple\",\"wants\",\"started\",\"stuff\",\"general\",\"away\",\"saw\",\"case\",\"pretty\",\"lives\",\"join\",\"info\",\"near\",\"making\",\"phone\",\"left\",\"polish\",\"asking\",\"curious\",\"willing\",\"contact\",\"train\",\"course\",\"advance\",\"reddit\",\"recommend\",\"posts\",\"important\",\"company\",\"internet\",\"current\",\"pro\",\"area\",\"source\",\"weeks\",\"germany\",\"taking\",\"car\",\"hear\",\"recently\",\"happen\",\"$\",\"care\",\"foreign\",\"usa\",\"true\",\"provide\",\"says\",\"needs\",\"reason\",\"belarus\",\"likely\",\"ago\",\"happening\",\"uk\",\"bring\",\"talk\",\"asked\",\"culture\",\"attack\",\"citizens\",\"plan\",\"tried\",\"list\",\"sub\",\"kharkiv\",\"order\",\"problem\",\"citizen\",\"civilians\",\"wish\",\"called\",\"similar\",\"videos\",\"business\",\"children\",\"china\",\"hours\",\"born\",\"man\",\"number\",\"political\",\"group\",\"guy\",\"means\",\"past\",\"nuclear\",\"close\",\"suggestions\",\"went\",\"stand\",\"seeing\",\"remember\",\"appreciated\",\"weapons\",\"service\",\"fuck\",\"covid\",\"talking\",\"donate\",\"high\",\"aid\",\"sources\",\"night\",\"refugees\",\"canada\",\"lost\",\"future\",\"came\",\"change\",\"outside\",\"speaking\",\"x200b\",\"based\",\"non\",\"european\",\"example\",\"public\",\"companies\",\"mind\",\"air\",\"knows\",\"i'm\",\"nice\",\"ones\",\"sending\",\"taken\",\"message\",\"shit\",\"airport\",\"r\",\"available\",\"subreddit\",\"worth\",\"happened\",\"basically\",\"check\",\"wife\",\"given\",\"comments\",\"common\",\"job\",\"wrong\",\"sent\",\"national\",\"thoughts\",\"control\",\"enemy\",\"looks\",\"matter\",\"eastern\",\"official\",\"opinion\",\"peace\",\"fact\",\"short\",\"easy\",\"appreciate\",\"needed\",\"allowed\",\"learning\",\"hoping\",\"second\",\"instead\",\"america\",\"nation\",\"east\",\"google\",\"reading\",\"force\",\"difficult\",\"university\",\"meet\",\"aware\",\"account\",\"moment\",\"cause\",\"anti\",\"thanks_advance\",\"equipment\",\"land\",\"happy\",\"region\",\"water\",\"soviet\",\"chance\",\"obviously\",\"medical\",\"add\",\"school\",\"article\",\"following\",\"watch\",\"large\",\"tanks\",\"tips\",\"freedom\",\"strong\",\"major\",\"option\",\"site\",\"websites\",\"resources\",\"german\",\"set\",\"young\",\"chernobyl\",\"youtube\",\"helping\",\"decided\",\"cost\",\"story\",\"flight\",\"killed\",\"men\",\"mother\",\"makes\",\"population\",\"ground\",\">\",\"student\",\"completely\",\"interesting\",\"unfortunately\",\"single\",\"took\",\"areas\",\"avoid\",\"traveling\",\"research\",\"staying\",\"parents\",\"offer\",\"study\",\"answer\",\"comes\",\"including\",\"turn\",\"sort\",\"directly\",\"gas\",\"normal\",\"book\",\"ideas\",\"bank\",\"girlfriend\",\"simply\",\"access\",\"write\",\"moving\",\"house\",\"yes\",\"fear\",\"ways\",\"clear\",\"continue\",\"apartment\",\"posted\",\"fire\",\"united_states\",\"watching\",\"considering\",\"huge\",\"beautiful\",\"lived\",\"according\",\"citizenship\",\"police\",\"hand\",\"security\",\"entire\",\"hate\",\"return\",\"words\",\"rest\",\"welcome\",\"economy\",\"issue\",\"moved\",\"giving\",\"finding\",\"worried\",\"hold\",\"half\",\"vehicles\",\"fully\",\"card\",\"enter\",\"test\",\"report\",\"women\",\"personal\",\"level\",\"word\",\"defense\",\"community\",\"pm\",\"special\",\"goes\",\"main\",\"issues\",\"hit\",\"guess\",\"title\",\"run\",\"anybody\",\"summer\",\"twitter\",\"slava_ukraini\",\"system\",\"basic\",\"zelensky\",\"app\",\"links\",\"groups\",\"spend\",\"father\",\"embassy\",\"romania\",\"head\",\"imagine\",\"price\",\"law\",\"knowledge\",\"s\",\"tv\",\"expect\",\"recommendations\",\"borders\",\"posting\",\"states\",\"view\",\"light\",\"spread\",\"shot\",\"music\",\"sites\",\"apply\",\"type\",\"rules\",\"oil\",\"win\",\"families\",\"later\",\"location\",\"options\",\"absolutely\",\"removed][view_poll\",\"combat\",\"fly\",\"page\",\"extremely\",\"allow\",\"bus\",\"map\",\"events\",\"possibly\",\"longer\",\"involved\",\"useful\",\"fucking\",\"india\",\"invade\",\"line\",\"happens\",\"deal\",\"data\",\"crimes\",\"helpful\",\"project\",\"stupid\",\"territory\",\"members\",\"translate\",\"wait\",\"create\",\"certain\",\"face\",\"yesterday\",\"years_ago\",\"protests\",\"truth\",\"cut\",\"moscow\",\"actual\",\"finally\",\"form\",\"politicians\",\"recent\",\"die\",\"million\",\"specific\",\"exactly\",\"fake\",\"rent\",\"writing\",\"inside\",\"private\",\"girl\",\"hopefully\",\"average\",\"defend\",\"volunteers\",\"problems\",\"services\",\"easily\",\"modern\",\"hell\",\"tourist\",\"follow\",\"politics\",\"reach\",\"specifically\",\"market\",\"process\",\"death\",\"afraid\",\"office\",\"un\",\"training\",\"kids\",\"reports\",\"march\",\"volunteer\",\"ready\",\"town\",\"flying\",\"heart\",\"usually\",\"self\",\"street\",\"supplies\",\"suggest\",\"transport\",\"blood\",\"late\",\"students\",\"comment\",\"age\",\"risk\",\"consider\",\"sign\",\"leaving\",\"supply\",\"parts\",\"gets\",\"known\",\"running\",\"looked\",\"literally\",\"threat\",\"numbers\",\"building\",\"play\",\"address\",\"cheap\",\"independent\",\"native\",\"nukes\",\"stay_strong\",\"explain\",\"accept\",\"lots\",\"email\",\"tomorrow\",\"human\",\"woman\",\"travelling\",\"arms\",\"drive\",\"morning\",\"save\",\"direct\",\"luck\",\"beginning\",\"multiple\",\"lose\",\"figure\",\"/r\",\"simple\",\"armed_forces\",\"languages\",\"fine\",\"cool\",\"south\",\"documents\",\"humanitarian\",\"wonder\",\"note\",\"takes\",\"protect\",\"party\",\"waiting\",\"flag\",\"u.s.\",\"interest\",\"apparently\",\"showing\",\"+\",\"middle\",\"shows\",\"restaurants\",\"song\",\"exchange\",\"year_old\",\"road\",\"prices\",\"low\",\"ussr\",\"facebook\",\"expensive\",\"child\",\"locals\",\"insurance\",\"step\",\"correct\",\"usd\",\"gave\",\"noticed\",\"room\",\"safety\",\"red\",\"early\",\"game\",\"works\",\"independence\",\"starting\",\"gift\",\"canadian\",\"response\",\"destroyed\",\"topic\",\"action\",\"trouble\",\"slava\",\"supporting\",\"cold\",\"cash\",\"kremlin\",\"chinese\",\"tank\",\"date\",\"americans\",\"names\",\"leaders\",\"store\",\"team\",\"foreigners\",\"trust\",\"super\",\"social_media\",\"ok\",\"mentioned\",\"thousands\",\"considered\",\"fast\",\"massive\",\"zone\",\"answers\",\"actions\",\"dead\",\"fuel\",\"legal\",\"pass\",\"popular\",\"hands\",\"soldier\",\"odesa\",\"ticket\",\"mods\",\"search\",\"attacks\",\"fun\",\"foreigner\",\"assume\",\"reasons\",\"difference\",\"fall\",\"sell\",\"written\",\"changed\",\"lines\",\"gone\",\"understanding\",\"vote\",\"majority\",\"social\",\"crisis\",\"effort\",\"related\",\"act\",\"grandfather\",\"dollars\",\"sense\",\"oligarchs\",\"aggression\",\"knew\",\"position\",\"result\",\"met\",\"member\",\"channels\",\"text\",\"stories\",\"update\",\"stores\",\"economic\",\"pressure\",\"glory\",\"corruption\",\"poor\",\"civilian\",\"wanna\",\"british\",\"nations\",\"north\",\"quality\",\"forward\",\"prefer\",\"hotel\",\"translation\",\"letter\",\"stuck\",\"build\",\"telling\",\"visited\",\"higher\",\"terms\",\"ship\",\"nazis\",\"winter\",\"sound\",\"fellow\",\"cover\",\"stopped\",\"turkey\",\"background\",\"personally\",\"speakers\",\"status\",\"sounds\",\">_>\",\"streets\",\"transfer\",\"village\",\"kill\",\"okay\",\"shelter\",\"donetsk\",\"original\",\"studying\",\"pictures\",\"felt\",\"dm\",\"listen\",\"details\",\"spent\",\"knowing\",\"books\",\"closed\",\"cultural\",\"receive\",\"plans\",\"delete\",\"friendly\",\"banned\",\"quickly\",\"telegram\",\"costs\",\"battle\",\"democracy\",\"minutes\",\"policy\",\"ban\",\"immediately\",\"opportunity\",\"translated\",\"france\",\"items\",\"regular\",\"pick\",\"picture\",\"channel\",\"abroad\",\"grandparents\",\"slavic\",\"protest\",\"god\",\"mom\",\"invaded\",\"request\",\"complete\",\"necessary\",\"decent\",\"eat\",\"obvious\",\"invading\",\"december\",\"financial\",\"clothes\",\"tickets\",\"donbass\",\"bars\",\"calls\",\"station\",\"indian\",\"heavy\",\"leader\",\"anymore\",\"calling\",\"grandmother\",\"aircraft\",\"eyes\",\"respect\",\"opinions\",\"plus\",\"i've\",\"dear\",\"preferably\",\"lead\",\"turned\",\"health\",\"regime\",\"helps\",\"worse\",\"gives\",\"buying\",\"maidan\",\"dangerous\",\"active\",\"limited\",\"tour\",\"present\",\"reliable\",\"ministry\",\"paid\",\"august\",\"quick\",\"realize\",\"revolution\",\"sides\",\"crazy\",\"warfare\",\"donations\",\"millions\",\"radio\",\"negative\",\"feels\",\"feeling\",\"impossible\",\"greatly_appreciated\",\"biggest\",\"generally\",\"hearing\",\"capital\",\"learned\",\"destroy\",\"refugee\",\"buildings\",\"decide\",\"products\",\"operation\",\"interview\",\"dnipro\",\"eventually\",\"proof\",\"rule\",\"package\",\"units\",\"articles\",\"created\",\"bar\",\"white\",\"weak\",\"attacked\",\"regions\",\"easier\",\"loved\",\"weird\",\"killing\",\"netherlands\",\"somebody\",\"expected\",\"choose\",\"wanting\",\"code\",\"july\",\"mariupol\",\"games\",\"relatives\",\"body\",\"education\",\"updates\",\"evil\",\"civil\",\"document\",\"sweden\",\"reported\",\"innocent\",\"remove\",\"decision\",\"concerned\",\"honest\",\"offering\",\"clearly\",\"slow\",\"central\",\"offensive\",\"brave\",\"hour\",\"potential\",\"ethnic\",\"supposed\",\"extra\",\"christmas\",\"scared\",\"thinks\",\"bought\",\"center\",\"tourists\",\"direction\",\"previous\",\"drink\",\"degree\",\"morale\",\"space\",\"reality\",\"died\",\"announced\",\"effective\",\"meeting\",\"ukranians\",\"dark\",\"accounts\",\"spending\",\"additional\",\"push\",\"missiles\",\"highly\",\"uah\",\"exist\",\"driving\",\"worked\",\"truly\",\"joining\",\"eastern_europe\",\"despite\",\"mention\",\"honestly\",\"received\",\"break\",\"program\",\"terrible\",\"organizations\",\"movement\",\"mainly\",\"finland\",\"lack\",\"weekend\",\"biden\",\"historical\",\"worst\",\"shop\",\"mobile\",\"bunch\",\"folks\",\"trade\",\"spoke\",\"field\",\"resistance\",\"piece\",\"photos\",\"version\",\"vaccinated\",\"traditional\",\"planned\",\"grew\",\"brother\",\"planes\",\"charities\",\"suffering\",\"powerful\",\"enjoy\",\"romanian\",\"total\",\"moldova\",\"banks\",\"paper\",\"confused\",\"providing\",\"operations\",\"defending\",\"amazing\",\"ua\",\"possibility\",\"mail\",\"funds\",\"familiar\",\"taxes\",\"hot\",\"shooting\",\"attempt\",\"passed\",\"speaks\",\"event\",\"required\",\"doubt\",\"global\",\"results\",\"entry\",\"heroes\",\"consequences\",\"captured\",\"points\",\"swift\",\"beer\",\"worry\",\"allies\",\"greetings\",\"attention\",\"cards\",\"victory\",\"period\",\"arrive\",\"thread\",\"claims\",\"republic\",\"google_translate\",\"girls\",\"grateful\",\"laws\",\"straight\",\"positive\",\"dying\",\"dad\",\"assistance\",\"remain\",\"rights\",\"informed\",\"confirm\",\"agree\",\"brought\",\"restaurant\",\"prior\",\"random\",\"donbas\",\"daily\",\"jobs\",\"forget\",\"goal\",\"clubs\",\"occupied\",\"smaller\",\"september\",\"thousand\",\"french\",\"evidence\",\"officials\",\"network\",\"definitely\",\"losing\",\"immigration\",\"accepted\",\"u\",\"removed\",\"walking\",\"flights\",\"false\",\"purpose\",\"artillery\",\"skills\",\"connection\",\"footage\",\"federation\",\"brothers\",\"press\",\"listed\",\"drones\",\"bomb\",\"significant\",\"restrictions\",\"systems\",\"communication\",\"kinda\",\"attacking\",\"heading\",\"purchase\",\"forced\",\"certainly\",\"taxi\",\"class\",\"relations\",\"speech\",\"corrupt\",\"birth\",\"potentially\",\"governments\",\"weapon\",\"wars\",\"defence\",\"infrastructure\",\"compared\",\"poll\",\"roads\",\"photo\",\"protection\",\"relevant\",\"efforts\",\"plane\",\"perspective\",\"invaders\",\"february\",\"cheaper\",\"temporary\",\"seriously\",\"emergency\",\"everybody\",\"trains\",\"ass\",\"sleep\",\"claim\",\"phones\",\"dumb\",\"added\",\"users\",\"keeping\",\"black\",\"hurt\",\"selling\",\"route\",\"soviet_union\",\"currency\",\"church\",\"focus\",\"shelling\",\"intelligence\",\"payment\",\"tactics\",\"and/or\",\"letters\",\"losses\",\"proper\",\"regards\",\"legitimate\",\"weather\",\"impact\",\"managed\",\"meant\",\"georgia\",\"chat\",\"copy\",\"entering\",\"delivery\",\"strength\",\"authorities\",\"genuinely\",\"scale\",\"blame\",\"content\",\"instagram\",\"nazi\",\"particular\",\"fighters\",\"union\",\"surrender\",\"fund\",\"locations\",\"stream\",\"influence\",\"target\",\"walk\",\"shops\",\"sister\",\"messages\",\"universities\",\"older\",\"image\",\"record\",\"misinformation\",\"drop\",\"damage\",\"ww2\",\"cars\",\"urban\",\"fill\",\"reporting\",\"guide\",\"somewhat\",\"customs\",\"largest\",\"holding\",\"cross\",\"supports\",\"green\",\"speaker\",\"require\",\"apart\",\"carry\",\"missile\",\"hungary\",\"closer\",\"dictator\",\"donating\",\"vehicle\",\"exact\",\"kept\",\"provided\",\"affected\",\"shoot\",\"pray\",\"context\",\"development\",\"guns\",\"shipping\",\"surprised\",\"d\",\"plenty\",\"conversation\",\"key\",\"voice\",\"energy\",\"sharing\",\"accurate\",\"sadly\",\"prevent\",\"bbc\",\"playing\",\"belarusian\",\"november\",\"decades\",\"united\",\"prepared\",\"discussion\",\"lol\",\"convoy\",\"putting\",\"blocked\",\"paying\",\"originally\",\"towns\",\"male\",\"museums\",\"platform\",\"conditions\",\"earlier\",\"football\",\"stock\",\"ability\",\"effect\",\"homes\",\"nuclear_weapons\",\"starts\",\"apps\",\"crossing\",\"ended\",\"watched\",\"relationship\",\"wrote\",\"sick\",\"afghanistan\",\"certificate\",\"kherson\",\"shown\",\"range\",\"shared\",\"missing\",\"standing\",\"material\",\"begin\",\"spelling\",\"clean\",\"ve\",\"checked\",\"term\",\"june\",\"rich\",\"keeps\",\"organization\",\"cyrillic\",\"casualties\",\"slovakia\",\"throw\",\"meaning\",\"married\",\"square\",\"businesses\",\"son\",\"parties\",\"metro\",\"block\",\"brothers_sisters\",\"gun\",\"illegal\",\"hitler\",\"lets\",\"positions\",\"totally\",\"spreading\",\"amazon\",\"software\",\"built\",\"choice\",\"web\",\"latest\",\"flat\",\"include\",\"forever\",\"insight\",\"vacation\",\"minute\",\"clothing\",\"value\",\"miss\",\"ordered\",\"serbia\",\"ireland\",\"fly_zone\",\"wear\",\"lies\",\"fluent\",\"fell\",\"october\",\"humanity\",\"heavily\",\"airbnb\",\"alphabet\",\"heritage\",\"interests\",\"held\",\"israel\",\"crime\",\"danger\",\"partner\",\"ahead\",\"relatively\",\"=\",\"apologize\",\"perfect\",\"bombing\",\"occupation\",\"buses\",\"title_says\",\"neutral\",\"arrived\",\"hundreds\",\"hang\",\"prison\",\"km\",\"broken\",\"january\",\"located\",\"wound\",\"particularly\",\"jewish\",\"style\",\"sad\",\"assist\",\"fought\",\"scenario\",\"proud\",\"hospital\",\"oblast\",\"medicine\",\"tech\",\"growing\",\"plant\",\"quarantine\",\"fair\",\"internal\",\"transportation\",\"identity\",\"dating\",\"ensure\",\"zelenskyy\",\"afford\",\"began\",\"download\",\"sit\",\"abandoned\",\"reasonable\",\"husband\",\"long_term\",\"size\",\"wishes\",\"searching\",\"unable\",\"subject\",\"assuming\",\"alternative\",\"b\",\"empire\",\"opened\",\"japan\",\"talked\",\"discuss\",\"fucked\",\"horrible\",\"gain\",\"contribute\",\"strategy\",\"wikipedia\",\"subtitles\",\"natural\",\"ideally\",\"prove\",\"surely\",\"individual\",\"blue\",\"verify\",\"alive\",\"bottle\",\"genocide\",\"advantage\",\"anonymous\",\"earth\",\"orders\",\"ends\",\"teach\",\"respond\",\"leadership\",\"concern\",\"technology\",\"lithuania\",\"agreement\",\"charge\",\"century\",\"personnel\",\"nature\",\"territories\",\"secret\",\"touch\",\"raise\",\"rate\",\"separate\",\"surprise\",\"figured\",\"matters\",\"distance\",\"sitting\",\"larger\",\"facing\",\"applying\",\"views\",\"movie\",\"donation\",\"schools\",\"gotten\",\"everyday\",\"experiences\",\"threats\",\"budapest\",\"art\",\"includes\",\"assets\",\"nearby\",\"council\",\"deserve\",\"grandma\",\"daughter\",\"reply\",\"alcohol\",\"rus\",\"addition\",\"bombs\",\"valid\",\"burn\",\"evening\",\"digital\",\"croatia\",\"hospitals\",\"monday\",\"practice\",\"charity\",\"vpn\",\"turning\",\"ride\",\"benefit\",\"stations\",\"fit\",\"yeah\",\"legit\",\"suffer\",\"pre\",\"fan\",\"relative\",\"pull\",\"signs\",\"previously\",\"society\",\"armor\",\"likes\",\"criminal\",\"wire\",\"sold\",\"types\",\"victims\",\"requirements\",\"twice\",\"spoken\",\"bringing\",\"oh\",\"overall\",\"helped\",\"goods\",\"appropriate\",\"movies\",\"wonderful\",\"sanction\",\"mistake\",\"neighbors\",\"kid\",\"vladimir\",\"democratic\",\"collect\",\"moral\",\"puppet\",\"armed\",\"mad\",\"birthday\",\"jets\",\"permanent\",\"feed\",\"stayed\",\"wearing\",\"covid-19\",\"mass\",\"images\",\"breaking\",\"peoples\",\"application\",\"coverage\",\"assault\",\"favorite\",\"miles\",\"ww3\",\"track\",\"counter\",\"professional\",\"shall\",\"euros\",\"bag\",\"ongoing\",\"obtain\",\"stands\",\"ill\",\"glad\",\"donated\",\"demand\",\"cheers\",\"protesters\",\"situations\",\"3rd\",\"bigger\",\"discord\",\"election\",\"de\",\"pandemic\",\"agency\",\"deaths\",\"survey\",\"increase\",\"hide\",\"accepting\",\"constantly\",\"wounds\",\"incredibly\",\"secure\",\"narrative\",\"housing\",\"ukrain\",\"nearly\",\"angry\",\"communicate\",\"destruction\",\"trucks\",\"machine\",\"allows\",\"treated\",\"courage\",\"awesome\",\"followed\",\"sees\",\"prepare\",\"escape\",\"shut\",\"creating\",\"poroshenko\",\"match\",\"explore\",\"showed\",\"excited\",\"offered\",\"raised\",\"caused\",\"mess\",\"asap\",\"collapse\",\"markets\",\"tonight\",\"euro\",\"holiday\",\"rise\",\"island\",\"awareness\",\"turns\",\"examples\",\"alot\",\"minister\",\"struggling\",\"survive\",\"supported\",\"affairs\",\"entirely\",\"era\",\"actively\",\"allowing\",\"dutch\",\"staff\",\"statement\",\"hidden\",\"membership\",\"talks\",\"advise\",\"license\",\"recognize\",\"ships\",\"booked\",\"communications\",\"2nd\",\"registered\",\"x\",\"april\",\"measures\",\"aside\",\"host\",\"unit\",\"checking\",\"flags\",\"struggle\",\"tax\",\"register\",\"arriving\",\"failed\",\"feedback\",\"gear\",\"residents\",\"door\",\"solidarity\",\"careful\",\"czech\",\"confirmed\",\"houses\",\"table\",\"paypal\",\"reviews\",\"anti_tank\",\"latvia\",\"greatly\",\"metal\",\"trump\",\"e.g.\",\"uses\",\"shopping\",\"fleeing\",\"ammunition\",\"elections\",\"architecture\",\"bombed\",\"hotels\",\"critical\",\"desperate\",\"songs\",\"lower\",\"sovereign\",\"accommodation\",\"apartments\",\"campaign\",\"server\",\"spot\",\"england\",\"profile\",\"view_poll\",\"shame\",\"spare\",\"museum\",\"bank_account\",\"peaceful\",\"pages\",\"treatment\",\"engage\",\"identify\",\"facts\",\"condition\",\"winning\",\"harder\",\"click\",\"letting\",\"mixed\",\"protesting\",\"hire\",\"controlled\",\"values\",\"black_sea\",\"spring\",\"mix\",\"seek\",\"typical\",\"documentary\",\"deliver\",\"apple\",\"vaccination\",\"holodomor\",\"strongly\",\"ex\",\"regardless\",\"tracking\",\"redditors\",\"hungarian\",\"produce\",\"pain\",\"stronger\",\"agencies\",\"fairly\",\"tired\",\"ideal\",\"treat\",\"joined\",\"visas\",\"italian\",\"famous\",\"officially\",\"warm\",\"drone\",\"turkish\",\"uber\",\"bullshit\",\"responses\",\"grow\",\"sea\",\"individuals\",\"receiving\",\"brand\",\"deep\",\"trained\",\"strange\",\"1st\",\"ammo\",\"recommended\",\"listening\",\"band\",\"surname\",\"artists\",\"appears\",\"chances\",\"nights\",\"barely\",\"mid\",\"smart\",\"budget\",\"instructions\",\"affect\",\"credit\",\"orthodox\",\"insane\",\"anyways\",\"red_cross\",\"useless\",\"named\",\"pieces\",\"input\",\"won\",\"normally\",\"technical\",\"trips\",\"marriage\",\"treaty\",\"seeking\",\"ukraina\",\"window\",\"putins\",\"served\",\"film\",\"resource\",\"folk\",\"refused\",\"centre\",\"continues\",\"chose\",\"neo\",\"immediate\",\"driver\",\"traffic\",\"|\",\"vaccine\",\"appear\",\"spots\",\"windows\",\"board\",\"notice\",\"ukraini\",\"gather\",\"backed\",\"limit\",\"excuse\",\"bridge\",\"bulgaria\",\"requires\",\"iron\",\"stalin\",\"joke\",\"path\",\"agreed\",\"targets\",\"asylum\",\"loss\",\"computer\",\"realized\",\"item\",\"warsaw\",\"platforms\",\"trolls\",\"ternopil\",\"preparing\",\"arm\",\"workers\",\"fascist\",\"standard\",\"teaching\",\"tend\",\"industry\",\"handle\",\"persons\",\"attempts\",\"greater\",\"stated\",\"vs\",\"improve\",\"income\",\"lovely\",\"cases\",\"camera\",\"supposedly\",\"belgium\",\"lithuanian\",\"sovereignty\",\"disinformation\",\"crypto\",\"records\",\"ordinary\",\"violence\",\"series\",\"strike\",\"packages\",\"pcr_test\",\"zhytomyr\",\"essentially\",\"responsible\",\"consulate\",\"petition\",\"hryvnia\",\"cross_border\",\"phrases\",\"new_york\",\"methods\",\"e\",\"lie\",\"australia\",\"arrival\",\"racist\",\"drinks\",\"serve\",\"outlets\",\"capture\",\"korea\",\"eye\",\"cousin\",\"cell\",\"unlikely\",\"dual\",\"strategic\",\"fees\",\"property\",\"deleted\",\"released\",\"signed\",\"translator\",\"hair\",\"idk\",\"donetsk_luhansk\",\"club\",\"co\",\"dog\",\"god_bless\",\"offers\",\"audio\",\"credit_card\",\"signal\",\"college\",\"dealing\",\"southern\",\"rockets\",\"outcome\",\"firing\",\"fee\",\"updated\",\"guards\",\"permit\",\"guard\",\"europeans\",\"till\",\"generation\",\"engineer\",\"programs\",\"contacted\",\"i.e.\",\"presence\",\"apologies\",\"tells\",\"crimean\",\"spanish\",\"japanese\",\"tours\",\"health_insurance\",\"ignorant\",\"participate\",\"extended\",\"domestic\",\"bodies\",\"contacts\",\"leading\",\"responsibility\",\"ashamed\",\"usual\",\"molotov\",\"screen\",\"subreddits\",\"warning\",\"ton\",\"hearts\",\"fighter\",\"split\",\"iraq\",\"physical\",\"double\",\"sky\",\"committed\",\"tweet\",\"stops\",\"browser\",\"renting\",\"ice\",\"broke\",\"steps\",\"incredible\",\"instance\",\"billion\",\"movements\",\"desire\",\"sale\",\"developed\",\"hero\",\"mothers\",\"reached\",\"solution\",\"opposition\",\"cyber\",\"complex\",\"enemies\",\"wednesday\",\"homeland\",\"poles\",\"panic\",\"geopolitical\",\"wounded\",\"disaster\",\"jews\",\"strikes\",\"genuine\",\"success\",\"argument\",\"coffee\",\"opening\",\"experienced\",\"electricity\",\"separatists\",\"intervene\",\"declare\",\"foot\",\"approved\",\"threatening\",\"suggestion\",\"officers\",\"navy\",\"terrorists\",\"gf\",\"residency\",\"prayers\",\"voices\",\"owned\",\"territorial\",\"activity\",\"demands\",\"effectively\",\"absolute\",\"blow\",\"negotiations\",\"escalate\",\"acting\",\"grab\",\"netflix\",\"opportunities\",\"doctor\",\"develop\",\"denmark\",\"task\",\"method\",\"italy\",\"led\",\"smoke\",\"mark\",\"suddenly\",\"prime_minister\",\"sake\",\"rocket\",\"azov\",\"european_union\",\"included\",\"boots\",\"importantly\",\"box\",\"base\",\"t\",\"slowly\",\"troll\",\"institutions\",\"id\",\"adopted\",\"infantry\",\"recognized\",\"hopes\",\"stopping\",\"bleeding\",\"bill\",\"curiosity\",\"flee\",\"beat\",\"makes_sense\",\"busy\",\"sim_card\",\"role\",\"applied\",\"pushing\",\"legally\",\"properly\",\"boys\",\"priority\",\"rock\",\"cossacks\",\"materials\",\"activities\",\"air_raid\",\"representative\",\"vodka\",\"luhansk\",\"friday\",\"duty\",\"filled\",\"addresses\",\"parliament\",\"logistics\",\"deeply\",\"annexation\",\"paperwork\",\"battalion\",\"communist\",\"bed\",\"wing\",\"passports\",\"explosions\",\"traveled\",\"changing\",\"deleted][view_poll\",\"transit\",\"rt\",\"tinder\",\"physically\",\"intel\",\"cancel\",\"progress\",\"monthly\",\"intend\",\"roughly\",\"connect\",\"escalation\",\"suppose\",\"maintain\",\"cnn\",\"ties\",\"manage\",\"compare\",\"economically\",\"cutting\",\"financially\",\"estonia\",\"syria\",\"sunday\",\"release\",\"fault\",\"tiny\",\"colonel\",\"tied\",\"stress\",\"worldwide\",\"commander\",\"helmets\",\"bands\",\"maps\",\"x200b;*processing_video\",\"atrocities\",\"representatives\",\"reaching\",\"afternoon\",\"aggressive\",\"minimum\",\"fields\",\"successful\",\"dollar\",\"supporters\",\"latin\",\"file\",\"connected\",\"salary\",\"wake\",\"tested\",\"pack\",\"defeat\",\"equivalent\",\"oligarch\",\"drivers\",\"fix\",\"park\",\"spam\",\"unsure\",\"final\",\"claiming\",\"mountains\",\"tip\",\"helicopters\",\"chernivtsi\",\"contract\",\"denied\",\"deployed\",\"memes\",\"tradition\",\"topics\",\"wise\",\"interviews\",\"lockdown\",\"matches\",\"returned\",\"taught\",\"origin\",\"pilot\",\"thursday\",\"funny\",\"journalists\",\"bear\",\"referendum\",\"depending\",\"separatist\",\"comfortable\",\"user\",\"confusion\",\"forgive\",\"connections\",\"ivano_frankivsk\",\"tries\",\"grocery\",\"wins\",\"owner\",\"launched\",\"cultures\",\"sumy\",\"circumstances\",\"opposite\",\"advanced\",\"attend\",\"blocking\",\"design\",\"proven\",\"lawyer\",\"alliance\",\"requests\",\"tools\",\"kazakhstan\",\"boryspil\",\"booking\",\"bloody\",\"damn\",\"hiding\",\"greek\",\"engine\",\"officer\",\"destroying\",\"lately\",\"organized\",\"drinking\",\"chechen\",\"causing\",\"increasing\",\"badly\",\"shell\",\"studies\",\"necessarily\",\"shitty\",\"researching\",\"speed\",\"operating\",\"tough\",\"whatsapp\",\"bravery\",\"model\",\"brazilian\",\"differences\",\"caught\",\"phrase\",\"sim\",\"minor\",\"damaged\",\"wall\",\"tactical\",\"perfectly\",\"atm\",\"destination\",\"berlin\",\"ruble\",\"generals\",\"tattoo\",\"expand\",\"employees\",\"eating\",\"africa\",\"remotely\",\"ultimately\",\"court\",\"resolve\",\"stage\",\"forgot\",\"constant\",\"journalist\",\"stance\",\"primarily\",\"relief\",\"headed\",\"sooner\",\"upset\",\"policies\",\"repeat\",\"brings\",\"shocked\",\"finnish\",\"command\",\"expert\",\"shelters\",\"saturday\",\"shots\",\"searched\",\"airspace\",\"skin\",\"neighboring\",\"holidays\",\"disabled\",\"tuesday\",\"streams\",\"grand\",\"armored\",\"convince\",\"pows\",\"<3\",\"encourage\",\"bedroom\",\"testing\",\"tool\",\"tragedy\",\"capable\",\"theory\",\"chief\",\"czech_republic\",\"expecting\",\"closely\",\"count\",\"routes\",\"widely\",\"troop\",\"covered\",\"understood\",\"stick\",\"justice\",\"google_maps\",\"developer\",\"race\",\"decides\",\"subs\",\"communism\",\"glass\",\"harm\",\"parks\",\"roots\",\"organize\",\"focused\",\"remaining\",\"taiwan\",\"intention\",\"intervention\",\"explanation\",\"bonus\",\"volodymyr\",\"mod\",\"female\",\"resident\",\"wwii\",\"airlines\",\"cheapest\",\"targeting\",\"convoys\",\"humans\",\"express\",\"sirens\",\"elderly\",\"sight\",\"plastic\",\"refer\",\"leaves\",\"benefits\",\"gifts\",\"realistic\",\"tons\",\"nationals\",\"real_estate\",\"duolingo\",\"concerns\",\"k\",\"approach\",\"launch\",\"forcing\",\"mental\",\"finish\",\"setting\",\"pinned\",\"nightlife\",\"levels\",\":d\",\"production\",\"invitation\",\"bet\",\"switch\",\"kinds\",\"translations\",\"surrounded\",\"younger\",\"ally\",\"radios\",\"replies\",\"fans\",\"snake\",\"scam\",\"review\",\"nowadays\",\"plates\",\"suspect\",\"breaks\",\"profit\",\"ending\",\"chernihiv\",\"rental\",\"loves\",\"default\",\"survival\",\"capacity\",\"ambush\",\"engineering\",\"recipe\",\"honor\",\"withdraw\",\"favor\",\"missed\",\"played\",\"fired\",\"solid\",\"ddos\",\"inspired\",\"discussed\",\"typically\",\"teacher\",\"tracks\",\"suggested\",\"sticky\",\"irish\",\"volunteering\",\"btw\",\"veteran\",\"brands\",\"neighbor\",\"resist\",\"river\",\"achieve\",\"tourism\",\"z\",\"shipped\",\"saving\",\"master\",\"martial_law\",\"90s\",\"rebuild\",\"zero\",\"munitions\",\"religious\",\"guessing\",\"criminals\",\"unique\",\"diplomatic\",\"gladly\",\"fled\",\"norway\",\"terror\",\"involvement\",\"represent\",\"dude\",\"pc\",\"dream\",\"stating\",\"mouth\",\"welcomed\",\"foods\",\"truck\",\"organisation\",\"disgusting\",\"remote\",\"swedish\",\"description\",\"verified\",\"reduce\",\"leads\",\"permanently\",\"shirts\",\"cares\",\"journey\",\"roll\",\"generations\",\"boyfriend\",\"admit\",\"hat\",\"youth\",\"zones\",\"referring\",\"helpless\",\"chain\",\"pulled\",\"yellow\",\"memory\",\"follows\",\"declared\",\"rely\",\"conflicting\",\"arab\",\"tape\",\"import\",\"odd\",\"combined\",\"determination\",\"upper\",\"scene\",\"shape\",\"describe\",\"myguy\",\"heat\",\"balls\",\"threatened\",\"faced\",\"cook\",\"gathering\",\"coronavirus\",\"mayor\",\"weight\",\"holds\",\"amounts\",\"conference\",\"yacht\",\"sentiment\",\"electronic\",\"defensive\",\"rude\",\"poltava\",\"published\",\"switzerland\",\"dedicated\",\"intended\",\"praying\",\"conventional\",\"falling\",\"chocolate\",\"washington\",\"sector\",\"corner\",\"primary\",\"baby\",\"belongs\",\"warship\",\"spain\",\"courses\",\"waste\",\"sabotage\",\"villages\",\"tensions\",\"planet\",\"aim\",\"silly\",\"teachers\",\"austria\",\"impression\",\"procedure\",\"celebrate\",\"indians\",\"murdered\",\"studied\",\"rid\",\"wide\",\"safely\",\"load\",\"overwhelming\",\"sends\",\"radiation\",\"vast\",\"powers\",\"draw\",\"exists\",\"arrested\",\"largely\",\"prosperity\",\"partners\",\"severe\",\"sights\",\"forgotten\",\"complicated\",\"stolen\",\"refuge\",\"o\",\"terrorist\",\"heads\",\"vietnam\",\"boycott\",\"trusted\",\"sentence\",\"recorded\",\"euromaidan\",\"defeated\",\"pissed\",\"elected\",\"debt\",\"argue\",\"debate\",\"driven\",\"calm\",\"failing\",\"forth\",\"postal\",\"emotional\",\"kharkov\",\"ancestry\",\"nuke\",\"steam\",\"suffered\",\"traditions\",\"section\",\"london\",\"rates\",\"underground\",\"animals\",\"african\",\"classes\",\"papers\",\"safer\",\"wondered\",\"basis\",\"saved\",\"purchasing\",\"features\",\"discussions\",\"bags\",\"messaging\",\"tests\",\"trigger\",\"hostel\",\"picked\",\"attitude\",\"residential\",\"toys\",\"boost\",\"catch\",\"bucharest\",\"rough\",\"billions\",\"circle\",\"wealthy\",\"unity\",\"residence\",\"sports\",\"encrypted\",\"regional\",\"conversations\",\"column\",\"reserve\",\"entered\",\"emails\",\"vinnytsia\",\"fascists\",\"solo\",\"fb\",\"placed\",\"ignored\",\"ran\",\"silent\",\"orange\",\"whilst\",\"feet\",\"pakistan\",\"tourniquet\",\"evacuation\",\"soft\",\"murder\",\"karma\",\"feelings\",\"passing\",\"wild\",\"closing\",\"lying\",\"sucks\",\"voted\",\"expat\",\"delivered\",\"max\",\"walked\",\"resolution\",\"<\",\"round\",\"equipped\",\"republics\",\"behalf\",\"valuable\",\"openly\",\"purely\",\"armies\",\"scary\",\"brigade\",\"coordinate\",\"accessible\",\"mission\",\"standards\",\"outdated\",\"camp\",\"carpathian\",\"chechnya\",\"belt\",\"virus\",\"devices\",\"lay\",\"pdf\",\"remains\",\"soil\",\"norwegian\",\"crossed\",\"canadians\",\"siege\",\"opposed\",\"zelenskiy\",\"militia\",\"lukashenko\",\"dropped\",\"quiet\",\"australian\",\"singing\",\"conscripts\",\"im\",\"shed\",\"unlike\",\"mandatory\",\"tactic\",\"surrounding\",\"recipient\",\"burns\",\"seller\",\"c\",\"conflicts\",\"organisations\",\"injured\",\"technically\",\"agent\",\"loose\",\"rifles\",\"clarify\",\"dare\",\"drugs\",\"repost\",\"dry\",\"falls\",\"parcel\",\"alert\",\"developers\",\"googling\",\"offline\",\"residence_permit\",\"purposes\",\"attractions\",\"announcement\",\"politically\",\"additionally\",\"militarily\",\"luggage\",\"existing\",\"electric\",\"recipes\",\"stumbled\",\"adding\",\"clue\",\"closest\",\"shelled\",\"covering\",\"aggressor\",\"linked\",\"asian\",\"cameras\",\"dinner\",\"sleeping\",\"evacuate\",\"ps\",\"exclusion\",\"replace\",\"feature\",\"dropping\",\"banking\",\"maximum\",\"expats\",\"centuries\",\"dirty\",\"molotovs\",\"occupy\",\"someday\",\"wave\",\"ridiculous\",\"commit\",\"bot\",\"failure\",\"ppl\",\"disable\",\"odds\",\"refuse\",\"pride\",\"statements\",\"computer_science\",\"occupiers\",\"deny\",\"improvised\",\"association\",\"administration\",\"freezing\",\"airborne\",\"processing\",\"fed\",\"boy\",\"issued\",\"poorly\",\"significantly\",\"employment\",\"requirement\",\"lady\",\"solutions\",\"victim\",\"sms\",\"engineers\",\"partially\",\"serbian\",\"slightly\",\"pushed\",\"healthcare\",\"ru\",\"brief\",\"peninsula\",\"appeal\",\"fights\",\"inform\",\"blind\",\"yanukovych\",\"20th\",\"petersburg\",\"acceptable\",\"beauty\",\"faster\",\"invades\",\"aviation\",\"attempting\",\"liked\",\"belong\",\"forum\",\"cherkasy\",\"goals\",\"tires\",\"flowers\",\"concerning\",\"percentage\",\"continuing\",\"fresh\",\"shirt\",\"baltic\",\"outright\",\"tatars\",\"immigrant\",\"i'll\",\"affordable\",\"prescription\",\"setup\",\"temporarily\",\"uncle\",\"cloth\",\"immigrants\",\"croatian\",\"aunt\",\"professor\",\"dogs\",\"bills\",\"fears\",\"beaten\",\"offend\",\"petrol\",\"highest\",\"stable\",\"agenda\",\"reference\",\"techno\",\"product\",\"prisoners\",\"science\",\"picking\",\"carried\",\"pure\",\"signing\",\"amsterdam\",\"presumably\",\"churches\",\"inevitable\",\"season\",\"basement\",\"northern\",\"surrendering\",\"lethal\",\"committing\",\"initial\",\"siren\",\"department\",\"senior\",\"bitcoin\",\"sensitive\",\"streaming\",\"spirit\",\"pilots\",\"lands\",\"lyrics\",\"lessons\",\"magnesium\",\"locally\",\"tears\",\"promise\",\"hesitate\",\"anger\",\"correctly\",\"invest\",\"coast\",\"galicia\",\"handed\",\"snow\",\"authority\",\"newspaper\",\"uniforms\",\"numerous\",\"divided\",\"finished\",\"privacy\",\"bribes\",\"automatically\",\"educated\",\"feb\",\"objects\",\"confusing\",\"manual\",\"unite\",\"neighbours\",\"g\",\"oppression\",\"reaction\",\"pubs\",\"crucial\",\"needless\",\"fluently\",\"transfers\",\"buffer\",\"culturally\",\"bother\",\"returning\",\"blown\",\"brain\",\"export\",\"atleast\",\"insurgency\",\"essential\",\"nationality\",\"discussing\",\"networks\",\"foundation\",\"goverment\",\"concrete\",\"bribe\",\"judge\",\"implement\",\"california\",\"violent\",\"meal\",\"arsenal\",\"pulling\",\"deserves\",\"rob\",\"illegally\",\"explosives\",\"regulations\",\"whatsoever\",\"proceed\",\"protected\",\"successfully\",\"owners\",\"sing\",\"explained\",\"bike\",\"easiest\",\"colleagues\",\"tor\",\"invite\",\"registration\",\"memorandum\",\"steal\",\"enjoyed\",\"capabilities\",\"imposed\",\"stingers\",\"gym\",\"weaponry\",\"funding\",\"surgery\",\"reputable\",\"career\",\"descent\",\"guaranteed\",\"minds\",\"putler\",\"needing\",\"suggesting\",\"cm\",\"preferred\",\"guarantee\",\"sounding\",\"expired\",\"brazil\",\"provides\",\"justification\",\"league\",\"mode\",\"reserves\",\"gold\",\"equally\",\"masks\",\"bots\",\"satellite\",\"changes\",\"coup\",\"requested\",\"rescue\",\"hole\",\"bullets\",\"elements\",\"mum\",\"decisions\",\"communities\",\"trauma\",\"perform\",\"bankrupt\",\"paste\",\"psychological\",\"embassies\",\"jail\",\"f\",\"paris\",\"iphone\",\"advices\",\"recording\",\"cleaning\",\"expenses\",\"crying\",\"meat\",\"25th\",\"suspended\",\"godspeed\",\"historically\",\"notes\",\"ease\",\"divide\",\"thesis\",\"eurovision\",\"dose\",\"prevail\",\"frozen\",\"disappointed\",\"promoting\",\"cooking\",\"airports\",\"comparison\",\"st.\",\"pipeline\",\"don't\",\"guidance\",\"overnight\",\"ukraines\",\"ghost\",\"asia\",\"impose\",\"runs\",\"finds\",\"op\",\"inspiration\",\"israeli\",\"exploring\",\"burning\",\"button\",\"seat\",\"operational\",\"install\",\"lied\",\"clip\",\"edge\",\"comfort\",\"developing\",\"tho\",\"structures\",\"extend\",\"pipelines\",\"rural\",\"upvote\",\"climate\",\"paint\",\"bases\",\"barrier\",\"idiot\",\"peacefully\",\"logic\",\"robbed\",\"chest\",\"germans\",\"motivated\",\"corona\",\"entity\",\"gay\",\"4th\",\"script\",\"theirs\",\"programming\",\"retired\",\"animal\",\"traps\",\"lesson\",\"locked\",\"landing\",\"differently\",\"perception\",\"bs\",\"manager\",\"targeted\",\"happily\",\"ukr\",\"fakes\",\"britain\",\"rivne\",\"uzhhorod\",\"confirmation\",\"religion\",\"hits\",\"tl;dr\",\"intentions\",\"stealing\",\"bullet\",\"minorities\",\"confident\",\"collecting\",\"draft\",\"applications\",\"rounds\",\"hostile\",\"connecting\",\"eur\",\"collection\",\"answering\",\"operate\",\"recommendation\",\"defenders\",\"hardware\",\"ignore\",\"govt\",\"pop\",\"forums\",\"camps\",\"kick\",\"condemn\",\"construction\",\"immigrated\",\"tag\",\"adult\",\"medium\",\"survived\",\"lucky\",\"fallen\",\"fastest\",\"commanders\",\"claimed\",\"sufficient\",\"catholic\",\"crash\",\"outsider\",\"horrors\",\"grain\",\"collected\",\"cocktails\",\"squad\",\"slovak\",\"iran\",\"forest\",\"plate\",\"facility\",\"crowd\",\"jacket\",\"egypt\",\"feasible\",\"raising\",\"tie\",\"dependent\",\"fixed\",\"walls\",\"marine\",\"gdp\",\"economical\",\"quote\",\"device\",\"vulnerable\",\"carpathians\",\"dates\",\"displaced\",\"alongside\",\"frequencies\",\"color\",\"slavs\",\"pension\",\"publicly\",\"warned\",\"aka\",\"engaged\",\"kicking\",\"arguments\",\"shoes\",\"motor\",\"thier\",\"integrity\",\"scams\",\"azerbaijan\",\"attached\",\"seize\",\"beating\",\"rebel\",\"author\",\"carrying\",\"sons\",\"minimal\",\"pole\",\"westerners\",\"answered\",\"accident\",\"stadium\",\"worker\",\"promised\",\"nord\",\"moderators\",\"clarification\",\"joins\",\"skeptical\",\"sex\",\"backs\",\"discovered\",\"rope\",\"completed\",\"russias\",\"tweets\",\"models\",\"rebels\",\"ruled\",\"pripyat\",\"pointed\",\"en\",\"parking\",\"serving\",\"snacks\",\"division\",\"charged\",\"regard\",\"wiki\",\"pocket\",\"enlist\",\"cat\",\"competition\",\"piss\",\"vice\",\"racism\",\"hiking\",\"marketing\",\"experts\",\"acts\",\"sentences\",\"irrelevant\",\"factory\",\"minority\",\"furthermore\",\"increasingly\",\"brutal\",\"intent\",\"16th\",\"phd\",\"beach\",\"mercy\",\"character\",\"occurred\",\"responded\",\"convinced\",\"cafe\",\"strongest\",\"cossack\",\"sightseeing\",\"commercial\",\"trolling\",\"shevchenko\",\"approval\",\"unusual\",\"patient\",\"accidentally\",\"appointment\",\"pow\",\"skype\",\"strict\",\"agents\",\"ages\",\"medication\",\"veterans\",\"bordering\",\"senator\",\"advancing\",\"supermarket\",\"pointers\",\"translating\",\"annexed\",\"trustworthy\",\"suit\",\"gathered\",\"laugh\",\"degrees\",\"preventing\",\"dishes\",\"figures\",\"alexander\",\"powder\",\"gps\",\"dozens\",\"declaration\",\"retreat\",\"mafia\",\"giant\",\"uniform\",\"woke\",\"lend\",\"biased\",\"promote\",\"witness\",\"variety\",\"gained\",\"podcast\",\"academic\",\"shock\",\"kgb\",\"charges\",\"contacting\",\"analysis\",\"blankets\",\"oppose\",\"floor\",\"healthy\",\"plays\",\"salt\",\"imports\",\"select\",\"insult\",\"extreme\",\"portugal\",\"seconds\",\"checkpoint\",\"strictly\",\"throwing\",\"fate\",\"idiots\",\"sincerely\",\"farmers\",\"iceland\",\"hitting\",\"ie\",\"stamp\",\"investment\",\"merely\",\"ideology\",\"laptop\",\"orthodoxy\",\"travelled\",\"helloi\",\"tension\",\"meaningful\",\"smoking\",\"friendship\",\"ngos\",\"doctors\",\"removing\",\"refuses\",\"protecting\",\"peacekeepers\",\"controversial\",\"addressed\",\"raw\",\"chemical\",\"railway\",\"operates\",\"rhetoric\",\"yanukovich\",\"extent\",\"designed\",\"childhood\",\"greece\",\"pin\",\"batteries\",\"eligible\",\"thermite\",\"ii\",\"pretend\",\"searches\",\"farm\",\"wtf\",\"sport\",\"yo\",\"element\",\"bombings\",\"react\",\"schedule\",\"motivation\",\"effects\",\"corrupted\",\"investigation\",\"bottles\",\"conduct\",\"arrange\",\"believed\",\"fail\",\"gasoline\",\"flair\",\"p.s.\",\"wipe\",\"grandpa\",\"v\",\"viable\",\"superiority\",\"facilities\",\"iban\",\"tree\",\"environment\",\"votes\",\"adults\",\"meals\",\"annoying\",\"choosing\",\"kicked\",\"rooms\",\"rifle\",\"prague\",\"unknown\",\"focusing\",\"rada\",\"net\",\"soviets\",\"emigrated\",\"suspicious\",\"approximately\",\"hosted\",\"minded\",\"practical\",\"provider\",\"hackers\",\"estimated\",\"spaces\",\"ears\",\"wood\",\"n\",\"asks\",\"encounter\",\"neck\",\"ignorance\",\"wifi\",\"province\",\"noted\",\"avoiding\",\"jokes\",\"described\",\"tear\",\"crap\",\"profits\",\"grant\",\"basics\",\"maintained\",\"migs\",\"rumors\",\"\\\"i\",\"armenia\",\"consideration\",\"privatbank\",\"customer\",\"documentation\",\"teeth\",\"purchased\",\"recall\",\"prepaid\",\"provoke\",\"faces\",\"loosing\",\"reporters\",\"thrown\",\"mountain\",\"delivering\",\"hello!i\",\"admitted\",\"spell\",\"eachother\",\"holocaust\",\"pr\",\"procedures\",\"category\",\"etsy\",\"ir\",\"mh17\",\"challenge\",\"patriotic\",\"viewed\",\"borscht\",\"poster\",\"visibility\",\"creative\",\"institute\",\"unlimited\",\"kitchen\",\"cease\",\"removal\",\"radar\",\"haha\",\"rally\",\"kievan\",\"hacking\",\"wedding\",\"branch\",\"secretary\",\"roaming\",\"mentally\",\"unnecessary\",\"naval\",\"coat\",\"logo\",\"clinic\",\"desperately\",\"urge\",\"laying\",\"naive\",\"wrap\",\"believes\",\"understands\",\"audience\",\"/u\",\"liberty\",\"nose\",\"voting\",\"studio\",\"broadcast\",\"fox\",\"debit\",\"singer\",\"cruise\",\"hostels\",\"mask\",\"militaries\",\"sphere\",\"bunker\",\"experiencing\",\"sales\",\"georgian\",\"assumed\",\"mercenaries\",\"politician\",\"horror\",\"sun\",\"sells\",\"savings\",\"ad\",\"john\",\"countryside\",\"lugansk\",\"fancy\",\"exposed\",\"severely\",\"applies\",\"leg\",\"migration\",\"permission\",\"hosting\",\"directions\",\"regularly\",\"itinerary\",\"imminent\",\"mig\",\"nightclubs\",\"established\",\"corridor\",\"istanbul\",\"beliefs\",\"ancestors\",\"loses\",\"symbol\",\"poem\",\"keyboard\",\"brainwashed\",\"king\",\"drain\",\"ring\",\"atmosphere\",\"anytime\",\"justify\",\"suicide\",\"polite\",\"soul\",\"risks\",\"firstly\",\"presidential\",\"fence\",\"patrol\",\"classic\",\"pair\",\"participating\",\"necessities\",\"star\",\"stretch\",\"threads\",\"faith\",\"austrian\",\"storage\",\"nova\",\"bloc\",\"demanding\",\"nikolaev\",\"realise\",\"19th\",\"solve\",\"repeating\",\"ya\",\"conducting\",\"summary\",\"roman\",\"moves\",\"dictatorship\",\"overseas\",\"terminal\",\"corporation\",\"rentals\",\"grounds\",\"corps\",\"remind\",\"seized\",\"mykolaiv\",\"realistically\",\"meantime\",\"wealth\",\"downvote\",\"lists\",\"sanctioned\",\"hurts\",\"cancelled\",\"initially\",\"invited\",\"navigate\",\"pregnant\",\"yachts\",\"sorts\",\"insulting\",\"collective\",\"loud\",\"aluminum\",\"vs.\",\"existence\",\"worrying\",\"declaring\",\"korean\",\"explosion\",\"checkpoints\",\"exit\",\"vk\",\"isolate\",\"i'd\",\"kiyv\",\"mainstream\",\"medic\",\"pen\",\"pub\",\"factories\",\"print\",\"replaced\",\"handbook](-\",\"display\",\"jump\",\"household\",\"screenshot\",\"fires\",\"pronunciation\",\"threatens\",\"teams\",\"bukovel\",\"grown\",\"android\",\"oh_oh\",\"blanket\",\"pact\",\"bridges\",\"importance\",\"attempted\",\"van\",\"ethnically\",\"blogs\",\"payments\",\"depend\",\"mentality\",\"eve\",\"involve\",\"industrial\",\"confrontation\",\"increased\",\"checks\",\"vests\",\"mcdonald\",\"casualty\",\"greedy\",\"pathetic\",\"congress\",\"awful\",\"a.\",\"spray\",\"internationally\",\"motherland\",\"taste\",\"adhd\",\"buried\",\"carriers\",\"sponsor\",\"overthrow\",\"memories\",\"rapid\",\"arrest\",\"ads\",\"mines\",\"acted\",\"advocate\",\"countless\",\"surrendered\",\"usb\",\"winner\",\"rail\",\"silence\",\"senators\",\"disagree\",\"fabric\",\"conclusion\",\"delicious\",\"pet\",\"neutrality\",\"unfair\",\"treating\",\"ups\",\"mentions\",\"achieved\",\"authentic\",\"associated\",\"contain\",\"geneva\",\"function\",\"y\",\"gaining\",\"dish\",\"secondly\",\"exposure\",\"behavior\",\"courier\",\"rejected\",\"produced\",\"8th\",\"pretext\",\"servers\",\"dentist\",\"excellent\",\"implemented\",\"travelers\",\"centers\",\"fathers\",\"rozetka\",\"lastly\",\"kindly\",\"bluff\",\"detailed\",\"discount\",\"favourite\",\"exercises\",\"madness\",\"uprising\",\"knock\",\"deputy\",\"burned\",\"hardly\",\"freely\",\"buddy\",\"isolated\",\"error\",\"handled\",\"troubles\",\"credible\",\"portion\",\"voluntary\",\"devil\",\"implications\",\"naturally\",\"cellular\",\"joint\",\"signals\",\"deploying\",\"respected\",\"plain\",\"chisinau\",\"rarely\",\"isolation\",\"journalism\",\"deals\",\"ratings\",\"jet\",\"artist\",\"exports\",\"interior\",\"explaining\",\"detail\",\"thankful\",\"requesting\",\"begun\",\"explosive\",\"flow\",\"profiles\",\"bits\",\"armoured\",\"gang\",\"airline\",\"refusing\",\"widespread\",\"seats\",\"tap\",\"facto\",\"militias\",\"activists\",\"precise\",\"repel\",\"employed\",\"founded\",\"virtually\",\"objective\",\"ivan\",\"files\",\"fsb\",\"wheat\",\"titles\",\"navalny\",\"bandages\",\"stays\",\"6th\",\"gods\",\"processed\",\"relocate\",\"danish\",\"slaves\",\"departure\",\"suggests\",\"tyrant\",\"analyst\",\"superior\",\"wage\",\"uncomfortable\",\"pickup\",\"fleet\",\"minsk\",\"downed\",\"fingers\",\"mood\",\"trace\",\"bald\",\"specially\",\"boarding\",\"controls\",\"informations\",\"loads\",\"legion\",\"hiring\",\"treats\",\"diesel\",\"rooting\",\"versions\",\"confidence\",\"costly\",\"locate\",\"khreshchatyk\",\"ethnicity\",\"weekends\",\"chill\",\"tone\",\"regiment\",\"proved\",\"trash\",\"nuts\",\"filmed\",\"frankly\",\"trees\",\"succeed\",\"torn\",\"stranded\",\"pennies\",\"recognition\",\"convention\",\"genealogy\",\"gaming\",\"evacuated\",\"trial\",\"diplomacy\",\"antigen\",\"flew\",\"presented\",\"tragic\",\"pointless\",\"russo\",\"accusations\",\"inappropriate\",\"baltics\",\"superpower\",\"chechens\",\"tube\",\"struck\",\"motorbike\",\"chosen\",\"capturing\",\"rising\",\"comedian\",\"lake\",\"validity\",\"hates\",\"worries\",\"vague\",\"liberal\",\"mile\",\"unconventional\",\"uni\",\"meters\",\"hungry\",\"guerrilla\",\"dozen\",\"replacement\",\"similarly\",\"suitable\",\"rubles\",\"supportive\",\"height\",\"sweet\",\"ball\",\"filter\",\"submit\",\"cranes\",\"convey\",\"settled\",\"musicians\",\"savvy\",\"accordance\",\"appeared\",\"vision\",\"socks\",\"palestine\",\"googled\",\"dont\",\"lock\",\"imperialism\",\"awkward\",\"practically\",\"dnieper\",\"riding\",\"disrespectful\",\"assured\",\"17th\",\"reminded\",\"meme\",\"pressing\",\"gate\",\"stood\",\"justified\",\"cuisine\",\"advertising\",\"operator\",\"anxiety\",\"television\",\"bosnian\",\"urgent\",\"firm\",\"worlds\",\"legs\",\"stinger\",\"negotiate\",\"reuters\",\"unfold\",\"painting\",\"multi\",\"geolocation\",\"ancient\",\"measure\",\"district\",\"uia\",\"mixture\",\"upload\",\"engaging\",\"gov\",\"causes\",\"muslim\",\"crashed\",\"integration\",\"occur\",\"organizing\",\"ministers\",\"distribute\",\"granted\",\"afghan\",\"aimed\",\"violating\",\"propoganda\",\"assessment\",\"counts\",\"famine\",\"innocents\",\"24/7\",\"guilty\",\"cargo\",\"semi\",\"participation\",\"steel\",\"shares\",\"drawn\",\"abandon\",\"settings\",\"fiance\",\"bulgarian\",\"nonsense\",\"apparent\",\"quit\",\"menu\",\"boxes\",\"offices\",\"aswell\",\"supplying\",\"accountable\",\"reminder\",\"marines\",\"blowing\",\"patreon\",\"joe\",\"terrorism\",\"container\",\"universal\",\"horrific\",\"battery\",\"krakow\",\"sink\",\"federal\",\"delusional\",\"firmly\",\"players\",\"approaching\",\"yuliya\",\"helicopter\",\"camping\",\"pets\",\"usb_usb\",\"violation\",\"plants\",\"promises\",\"trick\",\"pattern\",\"rebuilding\",\"aa\",\"scarf\",\"waited\",\"warrior\",\"supplier\",\"belief\",\"terrain\",\"revenge\",\"guerilla\",\"assure\",\"webpage\",\"soap\",\"external\",\"`\",\"resisting\",\"spies\",\"courts\",\"precisely\",\"scroll\",\"javelins\",\"masters\",\"steve\",\"payed\",\"cs\",\"rubber\",\"earnings\",\"interact\",\"wheel\",\"stored\",\"dictators\",\"creates\",\"logistical\",\"visible\",\"comms\",\"risking\",\"hague\",\"shrapnel\",\"bully\",\"catastrophe\",\"javelin\",\"retire\",\"dnr\",\"surface\",\"edited\",\"sanctioning\",\"insights\",\"cabinet\",\"overcome\",\"kills\",\"belarusians\",\"punishment\",\"immigrate\",\"coal\",\"bonds\",\"frame\",\"kit\",\"intercepted\",\"mall\",\"coordination\",\"palace\",\"hockey\",\"cocktail\",\"redditor\",\"pronounced\",\"mr\",\"listened\",\"socialist\",\"renounce\",\"respectful\",\"limits\",\"grenade\",\"ultra\",\"reaches\",\"performance\",\"nationalist\",\"reportedly\",\"propagandists\",\"selfish\",\"stone\",\"instantly\",\"chaos\",\"pounds\",\"rapidly\",\"episode\",\"buk\",\"spirits\",\"suck\",\"kg\",\"loaded\",\"risky\",\"rusyn\",\"st\",\"rain\",\"1.5\",\"port\",\"protestors\",\"stranger\",\"resort\",\"adoption\",\"duck\",\"frustrated\",\"100,000\",\"concert\",\"occupying\",\"employer\",\"wishing\",\"l'viv\",\"luxury\",\"sidebar\",\"reveal\",\"lonely\",\"broadcasting\",\"nationalists\",\"begins\",\"bright\",\"jan\",\"liberate\",\"garbage\",\"beneficial\",\"designer\",\"ebay\",\"browsing\",\"saint\",\"offended\",\"usps\",\"newspapers\",\"vibe\",\"database\",\"dig\",\"stake\",\"boxing\",\"pulls\",\"grasp\",\"recognise\",\"format\",\"mobilization\",\"objectives\",\"gmt\",\"christian\",\"shift\",\"candidate\",\"nearest\",\"occasionally\",\"hatred\",\"reputation\",\"criticism\",\"hating\",\"presidency\",\"custom\",\"conscripted\",\"meetings\",\"boss\",\"reverse\",\"20s\",\"ceasefire\",\"welcoming\",\"forms\",\"broad\",\"management\",\"sum\",\"conquer\",\"zealand\",\"conversational\",\"documentaries\",\"playlist\",\"photography\",\"trading\",\"destinations\",\"texts\",\"med\",\"cry\",\"dental\",\"pays\",\"messaged\",\"viktor\",\"appearance\",\"puts\",\"scammed\",\"gains\",\"duration\",\"enforced\",\"struggles\",\"battlefield\",\"grammar\",\"shipment\",\"pronounce\",\"statistics\",\"equal\",\"convert\",\"expertise\",\"entrance\",\"adventure\",\"kbp\",\"earn\",\"cigarettes\",\"dated\",\"scare\",\"expression\",\"graphic\",\"paranoid\",\"drug\",\"institution\",\"mistakes\",\"remembered\",\"characters\",\"sacrifice\",\"doors\",\"realy\",\"21st\",\"hygiene\",\"realised\",\"owns\",\"boat\",\"alternatives\",\"pizza\",\"formal\",\"punished\",\"cooperation\",\"explains\",\"censorship\",\"ect\",\"spelled\",\"aggressors\",\"precious\",\"listing\",\"trillion\",\"fuse\",\"bread\",\"males\",\"strips\",\"newly\",\"columns\",\"interviewed\",\"victorious\",\"warn\",\"bulk\",\"lavrov\",\"dust\",\"bow\",\"accent\",\"salaries\",\"trapped\",\"reader\",\"deaf\",\"decisive\",\"diverse\",\"interfere\",\"refusal\",\"waves\",\"preserve\",\"reads\",\"reasonably\",\"rolling\",\"vital\",\"viral\",\"extension\",\"hostage\",\"dc\",\"actor\",\"spokesman\",\"passes\",\"kiew\",\"pockets\",\"integrate\",\"asshole\",\"coordinates\",\"documenting\",\"unrest\",\"baba\",\"farther\",\"bucks\",\"citizenships\",\"maintaining\",\"battalions\",\"violently\",\"similarities\",\"ccp\",\"gyms\",\"semitic\",\"motorcycle\",\"geopolitics\",\"rations\",\"mr.\",\"inspiring\",\"portuguese\",\"sample\",\"approve\",\"beaches\",\"bachelor\",\"oleg\",\"strengthen\",\"developments\",\"contribution\",\"commitment\",\"factor\",\"begging\",\"elite\",\"ww1\",\"impressed\",\"wine\",\"xi\",\"paratroopers\",\"execute\",\"escalating\",\"shortly\",\"defenses\",\"chatting\",\"utter\",\"worldnews\",\"ordering\",\"covers\",\"upvotes\",\"drag\",\"constitution\",\"mistaken\",\"lunch\",\"pic\",\"cute\",\"guides\",\"b.\",\"mentioning\",\"assurances\",\"upa\",\"compile\",\"seemingly\",\"linkedin\",\"yugoslavia\",\"touristy\",\"frontline\",\"fundraising\",\"tiktok\",\"hassle\",\"cup\",\"clients\",\"loving\",\"agricultural\",\"daughters\",\"demonstrate\",\"cam\",\"randomly\",\"taras\",\"discover\",\"contains\",\"aligned\",\"kyivstar\",\"bombarded\",\"booby\",\"references\",\"ny\",\"revenue\",\"industries\",\"progressive\",\"dmitry\",\"3.5\",\"clueless\",\"sam\",\"noise\",\"demonstration\",\"disgusted\",\"barbaric\",\"automatic\",\"rage\",\"understandable\",\"asses\",\"rare\",\"absurd\",\"wwiii\",\"researchers\",\"advised\",\"monitor\",\"specialists\",\"protocol\",\"canned\",\"upcoming\",\"involving\",\"neighbour\",\"cleared\",\"communicating\",\"yield\",\"u.s\",\"forming\",\"denial\",\"emotions\",\"settle\",\"expanding\",\"hints\",\"hostomel\",\"subway\",\"nyc\",\"generic\",\"candidates\",\"discrimination\",\"30th\",\"usage\",\"painted\",\"steady\",\"alright\",\"elaborate\",\"communists\",\"x200b;i\",\"luckily\",\"czechia\",\"excuses\",\"outrage\",\"massacre\",\"shady\",\"florida\",\"accused\",\"monetary\",\"passenger\",\"boring\",\"unprovoked\",\"neighborhood\",\"theater\",\"conservative\",\"geography\",\"accepts\",\"wallet\",\"mukachevo\",\"initiative\",\"manner\",\"relation\",\"cake\",\"ranks\",\"bound\",\"soup\",\"crushed\",\"deeper\",\"hated\",\"mexico\",\"transactions\",\"strip\",\"gap\",\"collage\",\"url\",\"providers\",\"scheduled\",\"replied\",\"romanians\",\"conscription\",\"ladies\",\"veto\",\"ranking\",\"staged\",\"al\",\"hometown\",\"electrical\",\"factors\",\"slovenia\",\"overstay\",\"poshta\",\"switched\",\"unbiased\",\"bored\",\"loyal\",\"injury\",\"mutually\",\"drawing\",\"professionals\",\"beers\",\"attending\",\"packed\",\"blast\",\"questionable\",\"qr\",\"15th\",\"pi\",\"rented\",\"determined\",\"lebanon\",\"entertainment\",\"tiraspol\",\"vet\",\"attach\",\"dpr\",\"inner\",\"surprisingly\",\"tall\",\"labor\",\"magazine\",\"literature\",\"syrian\",\"ultimate\",\"warzone\",\"pose\",\"earning\",\"pour\",\"censored\",\"temperature\",\"sympathy\",\"layers\",\"demonstrations\",\"shake\",\"parcels\",\"fits\",\"weaken\",\"spin\",\"swipe\",\"outsiders\",\"halt\",\"admission\",\"visitor\",\"naked\",\"stamps\",\"estimate\",\"printed\",\"formed\",\"misleading\",\"graduated\",\"altogether\",\"rip\",\"selected\",\"flooded\",\"debris\",\"customers\",\"scientists\",\"trap\",\"disguise\",\"launching\",\"renew\",\"nationalism\",\"tens\",\"dump\",\"skill\",\"czechoslovakia\",\"fat\",\"diapers\",\"olympics\",\"punish\",\"significance\",\"shine\",\"crush\",\"entirety\",\"ego\",\"nz\",\"cronies\",\"lighter\",\"emigrate\",\"scenes\",\"recruitment\",\"presidents\",\"literal\",\"writer\",\"machinery\",\"practicing\",\"bosnia\",\"mini\",\"roof\",\"aspects\",\"layover\",\"lunatic\",\"humble\",\"btc\",\"ambassador\",\"exposing\",\"flood\",\"speeches\",\"reforms\",\"countrymen\",\"boris\",\"structure\",\"injuries\",\"siberia\",\"saboteurs\",\"determine\",\"uman\",\"colors\",\"tought\",\"natives\",\"hanging\",\"corridors\",\"corporate\",\"questions:1\",\"drafted\",\"unencrypted\",\"comrades\",\"handful\",\"kupyansk\",\"prime\",\"authors\",\"cousins\",\"fascism\",\"ingredients\",\"butter\",\"stingray\",\"nbu\",\"probability\",\"grind\",\"oxide\",\"offense\",\"utilities\",\"russophobia\",\"blocks\",\"player\",\"sniper\",\"dot\",\"zaporizhzhia\",\"bastards\",\"spamming\",\"upstairs\",\"occasion\",\"threaten\",\"berkut\",\"humor\",\"resulting\",\"recruit\",\"absent\",\"grid\",\"acknowledge\",\"investments\",\"porn\",\"executed\",\"signatures\",\"historic\",\"walks\",\"peacekeeping\",\"ivano\",\"clips\",\"client\",\"olx\",\"apologise\",\"cloudflare\",\"biometric\",\"commonly\",\"awhile\",\"battles\",\"toilet\",\"unaware\",\"boards\",\"dressed\",\"propose\",\"24th\",\"brown\",\"incidents\",\"mcdonalds\",\"reminds\",\"pcr\",\"travels\",\"shower\",\"genre\",\"groceries\",\"totalitarian\",\"surnames\",\"fool\",\"greatest\",\"stockholm\",\"relocation\",\"wheels\",\"opens\",\"edition\",\"quoted\",\"enable\",\"unclear\",\"min\",\"tymoshenko\",\"confuse\",\"monitoring\",\"bathroom\",\"chats\",\"string\",\"kia\",\"5th\",\"difficulties\",\"fantastic\",\"forbidden\",\"establish\",\"combination\",\"formatting\",\"introduce\",\"relax\",\"firearms\",\"lights\",\"cloud\",\"cents\",\"ukraine?i\",\"lesser\",\"actors\",\"concept\",\"potato\",\"parent\",\"steadily\",\"reward\",\"crew\",\"reside\",\"endure\",\"cis\",\"shaking\",\"kits\",\"medications\",\"editor\",\"yandex\",\"moments\",\"allegedly\",\"pls\",\"charging\",\"mortar\",\"romantic\",\"avoided\",\"currencies\",\"watches\",\"unrelated\",\"calendar\",\"posters\",\"surround\",\"thermal\",\"expense\",\"directed\",\"expectations\",\"films\",\"properties\",\"sympathetic\",\"bandera\",\"balance\",\"followers\",\"we're\",\"skip\",\"empathy\",\"infections\",\"relationships\",\"sudden\",\"touristic\",\"entitled\",\"acquired\",\"lift\",\"landmarks\",\"distant\",\"laughing\",\"escalates\",\"pleasant\",\"sounded\",\"rant\",\"piano\",\"graduate\",\"prosecutor\",\"kilometers\",\"d.\",\"marijuana\",\"worn\",\"delta\",\"transaction\",\"conscript\",\"delivers\",\"overwhelmed\",\"unbelievable\",\"percent\",\"dick\",\"aiming\",\"arguing\",\"schengen\",\"frustrating\",\"llc\",\"tower\",\"orphanage\",\"ukrposhta\",\"seed\",\"submitted\",\"p.s\",\"publish\",\"burden\",\"agrees\",\"tyranny\",\"garden\",\"accommodations\",\"hesitant\",\"redirect\",\"don\",\"patterns\",\"28th\",\"subscribe\",\"celebration\",\"seeds\",\"strategies\",\"charter\",\"sticking\",\"poverty\",\"chase\",\"11th\",\"affects\",\"munich\",\"confirms\",\"periods\",\"smartphone\",\"gates\",\"mindset\",\"filling\",\"depth\",\"pfizer\",\"refrain\",\"wet\",\"patriotism\",\"agreements\",\"decade\",\"sorted\",\"sets\",\"ownership\",\"rostov\",\"incident\"],\"x\":{\"__ndarray__\":\"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\",\"dtype\":\"float32\",\"order\":\"little\",\"shape\":[4909]},\"y\":{\"__ndarray__\":\"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\",\"dtype\":\"float32\",\"order\":\"little\",\"shape\":[4909]}},\"selected\":{\"id\":\"1055\"},\"selection_policy\":{\"id\":\"1054\"}},\"id\":\"1004\",\"type\":\"ColumnDataSource\"},{\"attributes\":{\"coordinates\":null,\"formatter\":{\"id\":\"1052\"},\"group\":null,\"major_label_policy\":{\"id\":\"1053\"},\"ticker\":{\"id\":\"1017\"},\"visible\":false},\"id\":\"1016\",\"type\":\"LinearAxis\"},{\"attributes\":{},\"id\":\"1052\",\"type\":\"BasicTickFormatter\"},{\"attributes\":{},\"id\":\"1014\",\"type\":\"LinearScale\"},{\"attributes\":{},\"id\":\"1053\",\"type\":\"AllLabels\"},{\"attributes\":{\"fill_alpha\":{\"value\":0.1},\"fill_color\":{\"value\":\"blue\"},\"hatch_color\":{\"value\":\"blue\"},\"line_alpha\":{\"value\":0.2},\"size\":{\"value\":10},\"x\":{\"field\":\"x\"},\"y\":{\"field\":\"y\"}},\"id\":\"1043\",\"type\":\"Circle\"},{\"attributes\":{},\"id\":\"1049\",\"type\":\"BasicTickFormatter\"},{\"attributes\":{\"coordinates\":null,\"formatter\":{\"id\":\"1049\"},\"group\":null,\"major_label_policy\":{\"id\":\"1050\"},\"ticker\":{\"id\":\"1021\"},\"visible\":false},\"id\":\"1020\",\"type\":\"LinearAxis\"},{\"attributes\":{},\"id\":\"1010\",\"type\":\"DataRange1d\"},{\"attributes\":{},\"id\":\"1050\",\"type\":\"AllLabels\"}],\"root_ids\":[\"1005\"]},\"title\":\"Bokeh Application\",\"version\":\"2.4.3\"}};\n",
       "  const render_items = [{\"docid\":\"2372efc8-7e50-4237-84d1-153a6b171fe5\",\"root_ids\":[\"1005\"],\"roots\":{\"1005\":\"6a92e0b7-b37a-40f8-90a0-815c3aaadd64\"}}];\n",
       "  root.Bokeh.embed.embed_items_notebook(docs_json, render_items);\n",
       "  }\n",
       "  if (root.Bokeh !== undefined) {\n",
       "    embed_document(root);\n",
       "  } else {\n",
       "    let attempts = 0;\n",
       "    const timer = setInterval(function(root) {\n",
       "      if (root.Bokeh !== undefined) {\n",
       "        clearInterval(timer);\n",
       "        embed_document(root);\n",
       "      } else {\n",
       "        attempts++;\n",
       "        if (attempts > 100) {\n",
       "          clearInterval(timer);\n",
       "          console.log(\"Bokeh: ERROR: Unable to run BokehJS code because BokehJS library is missing\");\n",
       "        }\n",
       "      }\n",
       "    }, 10, root)\n",
       "  }\n",
       "})(window);"
      ],
      "application/vnd.bokehjs_exec.v0+json": ""
     },
     "metadata": {
      "application/vnd.bokehjs_exec.v0+json": {
       "id": "1005"
      }
     },
     "output_type": "display_data"
    }
   ],
   "source": [
    "# Add our DataFrame as a ColumnDataSource for Bokeh\n",
    "plot_data = ColumnDataSource(tsne_vectors)\n",
    "\n",
    "# Create the plot and configure the title, dimensions, and tools\n",
    "tsne_plot = figure(title='t-SNE Word Embeddings',\n",
    "                   plot_width=800,\n",
    "                   plot_height=800)\n",
    "\n",
    "# Add a hover tool to display words on roll-over\n",
    "tsne_plot.add_tools(HoverTool(tooltips='@index') )\n",
    "\n",
    "# Draw the words as circles on the plot\n",
    "tsne_plot.circle('x', 'y',\n",
    "                 source=plot_data,\n",
    "                 color='blue',\n",
    "                 line_alpha=0.2,\n",
    "                 fill_alpha=0.1,\n",
    "                 size=10,\n",
    "                 hover_line_color='black')\n",
    "\n",
    "# Configure visual elements of the plot\n",
    "tsne_plot.xaxis.visible = False\n",
    "tsne_plot.yaxis.visible = False\n",
    "tsne_plot.grid.grid_line_color = None\n",
    "tsne_plot.outline_line_color = None\n",
    "\n",
    "# Engage!\n",
    "show(tsne_plot)"
   ]
  },
  {
   "cell_type": "code",
   "execution_count": null,
   "id": "4a7e2188-76fa-4011-ab53-ecdd51baccaf",
   "metadata": {},
   "outputs": [],
   "source": []
  }
 ],
 "metadata": {
  "kernelspec": {
   "display_name": "Python 3 (ipykernel)",
   "language": "python",
   "name": "python3"
  },
  "language_info": {
   "codemirror_mode": {
    "name": "ipython",
    "version": 3
   },
   "file_extension": ".py",
   "mimetype": "text/x-python",
   "name": "python",
   "nbconvert_exporter": "python",
   "pygments_lexer": "ipython3",
   "version": "3.8.13"
  }
 },
 "nbformat": 4,
 "nbformat_minor": 5
}
