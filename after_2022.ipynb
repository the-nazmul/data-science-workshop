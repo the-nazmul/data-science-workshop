{
 "cells": [
  {
   "cell_type": "markdown",
   "id": "3420d09f-c2ba-4aea-b74d-d7d576c2a0ce",
   "metadata": {},
   "source": [
    "## Topic Modeling (after 2022)"
   ]
  },
  {
   "cell_type": "code",
   "execution_count": 53,
   "id": "33f01f7b-dea9-4022-9fad-d679e2cfd048",
   "metadata": {},
   "outputs": [],
   "source": [
    "import os\n",
    "import pandas as pd\n",
    "import pickle"
   ]
  },
  {
   "cell_type": "code",
   "execution_count": 3,
   "id": "b43e8969-c7ea-4220-8828-97ad5e17d6c6",
   "metadata": {},
   "outputs": [
    {
     "name": "stdout",
     "output_type": "stream",
     "text": [
      "/Users/nazmulahasan/Desktop/Professional/Data Science Course/Data-Science-Social-Justice-main/notebooks/module02\n"
     ]
    }
   ],
   "source": [
    "!pwd"
   ]
  },
  {
   "cell_type": "code",
   "execution_count": 4,
   "id": "1a56b513-11c5-4921-a1d8-aff678d7a413",
   "metadata": {},
   "outputs": [],
   "source": [
    "os.chdir(\"../../data\")"
   ]
  },
  {
   "cell_type": "code",
   "execution_count": 54,
   "id": "3e18dbb3-71d3-46c0-9241-465d77a58065",
   "metadata": {},
   "outputs": [
    {
     "name": "stdout",
     "output_type": "stream",
     "text": [
      "(6515, 15)\n"
     ]
    }
   ],
   "source": [
    "# Import dataset before 2022\n",
    "df = pd.read_csv('df_a2022.csv')\n",
    "print(df.shape)"
   ]
  },
  {
   "cell_type": "code",
   "execution_count": 55,
   "id": "99ef70d5-dc64-4dfc-b7e5-dc7e02bc196a",
   "metadata": {},
   "outputs": [
    {
     "data": {
      "text/plain": [
       "6515"
      ]
     },
     "execution_count": 55,
     "metadata": {},
     "output_type": "execute_result"
    }
   ],
   "source": [
    "len(df)"
   ]
  },
  {
   "cell_type": "code",
   "execution_count": 56,
   "id": "6a03ecc4-d93f-43a0-b5cf-9bb32d88f712",
   "metadata": {},
   "outputs": [],
   "source": [
    "import spacy\n",
    "nlp = spacy.load('en_core_web_sm')\n",
    "from gensim.models.phrases import Phrases, Phraser"
   ]
  },
  {
   "cell_type": "code",
   "execution_count": 57,
   "id": "9816bd22-cec4-49e1-be8e-e9f7a7a70522",
   "metadata": {},
   "outputs": [],
   "source": [
    "def clean(token):\n",
    "    \"\"\"Helper function that specifies whether a token is:\n",
    "        - punctuation\n",
    "        - space\n",
    "        - digit\n",
    "    \"\"\"\n",
    "    return token.is_punct or token.is_space or token.is_digit\n",
    "\n",
    "def line_read(df, text_col='selftext'):\n",
    "    \"\"\"Generator function to read in text from df and get rid of line breaks.\"\"\"    \n",
    "    for text in df[text_col]:\n",
    "        yield text.replace('\\n', '')\n",
    "\n",
    "def preprocess(df, text_col='selftext', allowed_postags=['NOUN', 'ADJ']):\n",
    "    \"\"\"Preprocessing function to apply to a dataframe.\"\"\"\n",
    "    for parsed in nlp.pipe(line_read(df, text_col), batch_size=1000, disable=[\"tok2vec\", \"ner\"]):\n",
    "        # Gather lowercased, lemmatized tokens\n",
    "        tokens = [token.lemma_.lower() if token.lemma_ != '-PRON-'\n",
    "                  else token.lower_ \n",
    "                  for token in parsed if not clean(token)]\n",
    "        # Remove specific lemmatizations, and words that are not nouns or adjectives\n",
    "        tokens = [lemma\n",
    "                  for lemma in tokens\n",
    "                  if not lemma in [\"'s\",  \"’s\", \"’\"] and not lemma in allowed_postags]\n",
    "        # Remove stop words\n",
    "        tokens = [token for token in tokens if token not in spacy.lang.en.stop_words.STOP_WORDS]\n",
    "        yield tokens"
   ]
  },
  {
   "cell_type": "code",
   "execution_count": 58,
   "id": "f5bbc2b8-db4b-4d24-969e-7d5e4b2c8e42",
   "metadata": {},
   "outputs": [],
   "source": [
    "docs = [line for line in preprocess(df, text_col='selftext')]"
   ]
  },
  {
   "cell_type": "code",
   "execution_count": 59,
   "id": "8aabfcf2-58cb-4b0a-9592-6fbd8a94e3f3",
   "metadata": {},
   "outputs": [],
   "source": [
    "# Create bigram model: pass docs into Phrases class\n",
    "bigrams = Phrases(docs, min_count=20, threshold=300)\n",
    "# Create a \"frozen\" bigram model using the Phraser class\n",
    "bigram_phraser = Phraser(bigrams)\n",
    "# Now, create bigrams \n",
    "docs_bigrams = [bigram_phraser[doc] for doc in docs]"
   ]
  },
  {
   "cell_type": "code",
   "execution_count": 60,
   "id": "62a73f21-ef05-4b1a-b379-e5145b0b80bf",
   "metadata": {},
   "outputs": [],
   "source": [
    "trigrams = Phrases(bigrams[docs], min_count=20, threshold=100)  \n",
    "trigram_phraser = Phraser(trigrams)\n",
    "docs_trigrams = [trigram_phraser[doc] for doc in docs_bigrams]"
   ]
  },
  {
   "cell_type": "code",
   "execution_count": 61,
   "id": "a6bbdd10-8fc4-469b-af61-74fc6f41b662",
   "metadata": {},
   "outputs": [],
   "source": [
    "# Let's save the data to an external JSON file:\n",
    "\n",
    "import json\n",
    "with open('a2022.json', 'w') as write:\n",
    "    json.dump(docs_trigrams, write)\n",
    "# Opening the same file works as follows:\n",
    "with open(\"a2022.json\") as f:\n",
    "    trigrams = json.load(f)"
   ]
  },
  {
   "cell_type": "markdown",
   "id": "155b3c31-fd0d-4a0d-a371-d1ce115e8cb6",
   "metadata": {},
   "source": [
    "### Constructing a Word2Vec Model"
   ]
  },
  {
   "cell_type": "code",
   "execution_count": 63,
   "id": "756bf0a8-d2f3-4d67-ae7a-6124c3a6b6be",
   "metadata": {},
   "outputs": [],
   "source": [
    "from gensim.models import Word2Vec\n",
    "import multiprocessing"
   ]
  },
  {
   "cell_type": "code",
   "execution_count": 64,
   "id": "b9d9bf53-48f1-4aeb-b3c0-d5f40428cd72",
   "metadata": {},
   "outputs": [],
   "source": [
    "# Count the number of cores you have at your disposal\n",
    "cores = multiprocessing.cpu_count()\n",
    "# Word vector dimensionality (how many features each word will be given)\n",
    "n_features = 300\n",
    "# Minimum word count to be taken into account\n",
    "min_word_count = 10\n",
    "# Number of threads to run in parallel (equal to your amount of cores)\n",
    "n_workers = cores\n",
    "# Context window size\n",
    "window = 5\n",
    "# Downsample setting for frequent words\n",
    "downsampling = 1e-2\n",
    "# Seed for the random number generator (to create reproducible results)\n",
    "seed = 1 \n",
    "# Skip-gram = 1, CBOW = 0\n",
    "sg = 1\n",
    "epochs = 20\n",
    "\n",
    "model = Word2Vec(\n",
    "    sentences=trigrams,\n",
    "    workers=n_workers,\n",
    "    vector_size=n_features,\n",
    "    min_count=min_word_count,\n",
    "    window=window,\n",
    "    sample=downsampling,\n",
    "    seed=seed,\n",
    "    sg=sg)"
   ]
  },
  {
   "cell_type": "code",
   "execution_count": 65,
   "id": "97de80bc-0a60-432d-aa86-2e561ce3601f",
   "metadata": {},
   "outputs": [],
   "source": [
    "model.train(trigrams, total_examples=model.corpus_count, epochs=10)        \n",
    "model.save('a2022.emb')\n",
    "model = Word2Vec.load('a2022.emb')"
   ]
  },
  {
   "cell_type": "code",
   "execution_count": 66,
   "id": "6a1a273b-eeb5-424e-87e2-b6a857fa5c88",
   "metadata": {},
   "outputs": [
    {
     "data": {
      "text/plain": [
       "3393"
      ]
     },
     "execution_count": 66,
     "metadata": {},
     "output_type": "execute_result"
    }
   ],
   "source": [
    "len(model.wv)"
   ]
  },
  {
   "cell_type": "code",
   "execution_count": 69,
   "id": "8655a8fd-b482-47bb-960c-a14e72160318",
   "metadata": {},
   "outputs": [
    {
     "data": {
      "text/plain": [
       "'ukraine'"
      ]
     },
     "execution_count": 69,
     "metadata": {},
     "output_type": "execute_result"
    }
   ],
   "source": [
    "model.wv.index_to_key[0]"
   ]
  },
  {
   "cell_type": "code",
   "execution_count": 70,
   "id": "242768aa-c228-4b3c-a9ef-f8ff07e2a7ac",
   "metadata": {},
   "outputs": [
    {
     "data": {
      "text/plain": [
       "array([-0.11286732,  0.02318297,  0.16201086,  0.19806772, -0.2607417 ,\n",
       "       -0.21206419,  0.17596273,  0.51064426,  0.07546037, -0.0386712 ,\n",
       "       -0.10286175, -0.26760715,  0.1908857 ,  0.05626771, -0.21060555,\n",
       "       -0.2567893 , -0.17143895,  0.11890506,  0.21027036, -0.1573991 ,\n",
       "        0.253609  ,  0.03955222,  0.09953902, -0.09201608,  0.23690325,\n",
       "       -0.2747531 ,  0.19681962,  0.2854803 , -0.20427658, -0.18852924,\n",
       "       -0.0805032 ,  0.07863539,  0.26740685, -0.09275786, -0.09555019,\n",
       "       -0.20133194,  0.14035143, -0.37230876,  0.05244995, -0.08375604,\n",
       "       -0.17710797, -0.00849129, -0.20222142, -0.18366799,  0.01186204,\n",
       "        0.10820254,  0.00147515,  0.15124762,  0.03632816,  0.11624506,\n",
       "        0.0678018 ,  0.05620463,  0.12625216, -0.08363765, -0.00323798,\n",
       "        0.12605946,  0.24680418,  0.01325781,  0.01866217,  0.09327708,\n",
       "        0.12750626,  0.12991562, -0.14469546, -0.12818141, -0.2508934 ,\n",
       "       -0.05595501,  0.00527939,  0.13695192, -0.06274804,  0.01513083,\n",
       "        0.19476137,  0.15109704,  0.06482806, -0.17115477,  0.18586789,\n",
       "        0.04767163,  0.11185065,  0.1028726 , -0.06371567, -0.15765308,\n",
       "       -0.07090355, -0.12450013,  0.098521  ,  0.29646575, -0.00243009,\n",
       "        0.04681135,  0.01629222, -0.10806898, -0.19113128, -0.2179257 ,\n",
       "        0.23080714, -0.07885094, -0.18121155,  0.26511183,  0.02668219,\n",
       "       -0.01352888, -0.09850947, -0.19013773, -0.19229124, -0.06567376,\n",
       "       -0.27626902,  0.14289513,  0.19197904,  0.06930131,  0.11653984,\n",
       "        0.00379132, -0.08214655,  0.02428414,  0.15228948, -0.10336386,\n",
       "       -0.01182715,  0.00956403, -0.18978521,  0.19697143,  0.19915216,\n",
       "        0.11350992,  0.01898309,  0.06716606,  0.08404496, -0.10499957,\n",
       "        0.05752217, -0.20536245,  0.07327326, -0.14240691,  0.08982612,\n",
       "       -0.05305675, -0.02007792,  0.12864643,  0.1099536 ,  0.01133503,\n",
       "        0.09221531,  0.02687065, -0.09729827,  0.17999946, -0.08403359,\n",
       "       -0.08364198,  0.02632746,  0.16948168,  0.17906104,  0.04439675,\n",
       "        0.11610477, -0.20512818, -0.20365638,  0.11702751, -0.12099374,\n",
       "        0.1435865 , -0.10001778, -0.05628171,  0.20111856,  0.08034246,\n",
       "        0.09152179, -0.05666858, -0.10059788,  0.0805601 ,  0.00560291,\n",
       "       -0.01018315,  0.24618712,  0.1158786 ,  0.00524247,  0.0028371 ,\n",
       "       -0.13129586,  0.24334706, -0.17165084, -0.1744339 ,  0.14116262,\n",
       "        0.13280132,  0.24802805, -0.19770561,  0.28362933,  0.22730835,\n",
       "       -0.12398527, -0.20401843,  0.14634083,  0.23305708,  0.12011363,\n",
       "       -0.06379239, -0.2187078 , -0.15657054,  0.11135268, -0.08898067,\n",
       "       -0.34057888,  0.12164725,  0.09339864, -0.14650728, -0.00148577,\n",
       "       -0.01704659, -0.04025033, -0.1433028 , -0.09703747, -0.0887423 ,\n",
       "        0.14307417, -0.16555122, -0.00355624, -0.15897869, -0.2388677 ,\n",
       "       -0.13083857,  0.05182264,  0.09577584, -0.1563304 ,  0.05830016,\n",
       "        0.0908116 ,  0.10276401, -0.13748609, -0.06834796,  0.05364522,\n",
       "        0.08849709, -0.08067203, -0.09748262, -0.0401371 ,  0.05999902,\n",
       "       -0.033273  , -0.0129757 ,  0.05289224, -0.04089687,  0.02791484,\n",
       "       -0.09212261, -0.07695027,  0.08335365, -0.02482609, -0.18618247,\n",
       "       -0.02035796, -0.16045004, -0.15590307,  0.02474887,  0.10815825,\n",
       "       -0.21406895,  0.28352144,  0.20285387,  0.0645374 ,  0.06818761,\n",
       "        0.13425946, -0.22888876, -0.14892402, -0.12240237, -0.05739514,\n",
       "        0.07755122, -0.11829379,  0.3592894 ,  0.02601667, -0.23162696,\n",
       "       -0.04890331, -0.03842843, -0.15143232,  0.038608  ,  0.11270697,\n",
       "        0.13911106, -0.01964059, -0.15838596, -0.00489966,  0.08223911,\n",
       "       -0.06124494,  0.00344368, -0.02467343, -0.11960992, -0.16626494,\n",
       "       -0.01632976,  0.09706643, -0.03151   , -0.21115927, -0.3139803 ,\n",
       "        0.19570713, -0.04052164,  0.14925319, -0.2588908 , -0.17322797,\n",
       "        0.03332978,  0.06865953,  0.17488001,  0.01040901, -0.05532119,\n",
       "        0.09090664,  0.05790535,  0.23105615,  0.0362713 ,  0.22193007,\n",
       "        0.15515518,  0.20355596,  0.06829941, -0.04422402,  0.01861395,\n",
       "        0.10175699,  0.05100879, -0.0326164 ,  0.03625634, -0.05010191,\n",
       "       -0.09366051, -0.17180546, -0.08775485, -0.05837149,  0.06434748,\n",
       "       -0.024696  ,  0.14993031,  0.39763725, -0.07804393,  0.15370657,\n",
       "        0.10961334,  0.07074693, -0.0413911 ,  0.06101516, -0.05427678],\n",
       "      dtype=float32)"
      ]
     },
     "execution_count": 70,
     "metadata": {},
     "output_type": "execute_result"
    }
   ],
   "source": [
    "model.wv.vectors[0]"
   ]
  },
  {
   "cell_type": "markdown",
   "id": "53177aa7-9188-4e4d-b0fb-845cb0879d83",
   "metadata": {},
   "source": [
    "### Word Similarity"
   ]
  },
  {
   "cell_type": "code",
   "execution_count": 71,
   "id": "0107df14-45dc-45f5-a6ac-93ba93870105",
   "metadata": {},
   "outputs": [],
   "source": [
    "def get_most_similar_terms(model, token, topn=20):\n",
    "    \"\"\"Look up the top N most similar terms to the token.\"\"\"\n",
    "    for word, similarity in model.wv.most_similar(positive=[token], topn=topn):\n",
    "        print(f\"{word}: {round(similarity, 3)}\")"
   ]
  },
  {
   "cell_type": "code",
   "execution_count": 100,
   "id": "d60a2222-d70b-4f90-b401-2cd18bccc6e4",
   "metadata": {},
   "outputs": [
    {
     "name": "stdout",
     "output_type": "stream",
     "text": [
      "wwiii: 0.515\n",
      "economically: 0.515\n",
      "halt: 0.506\n",
      "ideology: 0.499\n",
      "deleted][view: 0.497\n",
      "achieve: 0.485\n",
      "smart: 0.483\n",
      "sees: 0.479\n",
      "comparison: 0.466\n",
      "cease: 0.465\n",
      "pathetic: 0.463\n",
      "committing: 0.462\n",
      "draw: 0.46\n",
      "sanction: 0.459\n",
      "baltic: 0.456\n",
      "genocide: 0.455\n",
      "annexation: 0.455\n",
      "annexed: 0.454\n",
      "favor: 0.454\n",
      "iran: 0.454\n"
     ]
    }
   ],
   "source": [
    "get_most_similar_terms(model, 'russia')"
   ]
  },
  {
   "cell_type": "code",
   "execution_count": 74,
   "id": "55640f8d-4a34-4818-a1f2-2a7ef822976e",
   "metadata": {},
   "outputs": [
    {
     "name": "stdout",
     "output_type": "stream",
     "text": [
      "ukraina: 0.523\n",
      "moves: 0.489\n",
      "refusing: 0.488\n",
      "justify: 0.479\n",
      "inspired: 0.477\n",
      "unprovoked: 0.476\n",
      "temporarily: 0.458\n",
      "alongside: 0.457\n",
      "favor: 0.455\n",
      "wanting: 0.453\n",
      "pretext: 0.453\n",
      "mercenaries: 0.453\n",
      "donbas: 0.452\n",
      "promise: 0.451\n",
      "express: 0.45\n",
      "ukrain: 0.448\n",
      "justice: 0.448\n",
      "aggressor: 0.448\n",
      "capable: 0.447\n",
      "sees: 0.446\n"
     ]
    }
   ],
   "source": [
    "get_most_similar_terms(model, 'ukraine')"
   ]
  },
  {
   "cell_type": "code",
   "execution_count": 77,
   "id": "6b581139-42ac-4b77-a97d-01b611059f81",
   "metadata": {},
   "outputs": [
    {
     "name": "stdout",
     "output_type": "stream",
     "text": [
      "donbass: 0.748\n",
      "annexation: 0.73\n",
      "dnr: 0.694\n",
      "annexed: 0.681\n",
      "donbas: 0.664\n",
      "territories: 0.625\n",
      "luhansk: 0.62\n",
      "attempted: 0.607\n",
      "separatist: 0.602\n",
      "occupied: 0.6\n",
      "recognize: 0.587\n",
      "republics: 0.587\n",
      "donetsk_luhansk: 0.574\n",
      "seize: 0.574\n",
      "eastern: 0.57\n",
      "separatists: 0.562\n",
      "sea: 0.543\n",
      "rebel: 0.534\n",
      "region: 0.527\n",
      "southern: 0.52\n"
     ]
    }
   ],
   "source": [
    "get_most_similar_terms(model, 'crimea')"
   ]
  },
  {
   "cell_type": "code",
   "execution_count": 78,
   "id": "194da0dc-3e5f-4927-b016-ddfcb0e413ee",
   "metadata": {},
   "outputs": [
    {
     "name": "stdout",
     "output_type": "stream",
     "text": [
      "lunatic: 0.556\n",
      "coup: 0.551\n",
      "insane: 0.533\n",
      "madness: 0.532\n",
      "lie: 0.53\n",
      "mad: 0.527\n",
      "regime: 0.524\n",
      "bs: 0.521\n",
      "dictator: 0.512\n",
      "justification: 0.511\n",
      "genocide: 0.505\n",
      "escalating: 0.504\n",
      "dictatorship: 0.502\n",
      "rhetoric: 0.5\n",
      "dictators: 0.498\n",
      "fascists: 0.497\n",
      "wwiii: 0.495\n",
      "nuke: 0.495\n",
      "delusional: 0.492\n",
      "excuse: 0.486\n"
     ]
    }
   ],
   "source": [
    "get_most_similar_terms(model, 'putin')"
   ]
  },
  {
   "cell_type": "code",
   "execution_count": 103,
   "id": "3e98c3f9-94ff-4bad-9d05-87fd01cb7028",
   "metadata": {},
   "outputs": [
    {
     "name": "stdout",
     "output_type": "stream",
     "text": [
      "booked: 0.743\n",
      "residence: 0.719\n",
      "portugal: 0.695\n",
      "flights: 0.687\n",
      "persons: 0.683\n",
      "permit: 0.675\n",
      "lawyer: 0.674\n",
      "certificate: 0.673\n",
      "tourists: 0.667\n",
      "hotels: 0.663\n",
      "volunteering: 0.661\n",
      "accommodation: 0.651\n",
      "refuge: 0.651\n",
      "visa: 0.647\n",
      "pets: 0.646\n",
      "traveling: 0.645\n",
      "trains: 0.645\n",
      "zhytomyr: 0.642\n",
      "entry: 0.64\n",
      "ireland: 0.64\n"
     ]
    }
   ],
   "source": [
    "get_most_similar_terms(model, 'travel')"
   ]
  },
  {
   "cell_type": "code",
   "execution_count": 81,
   "id": "93668c9e-f412-4d0a-a24b-09fbf68e7e2f",
   "metadata": {},
   "outputs": [
    {
     "name": "stdout",
     "output_type": "stream",
     "text": [
      "volodymyr: 0.733\n",
      "jewish: 0.703\n",
      "elected: 0.681\n",
      "politician: 0.675\n",
      "speech: 0.645\n",
      "vladimir: 0.639\n",
      "prime_minister: 0.639\n",
      "inspiring: 0.635\n",
      "zelensky: 0.632\n",
      "president: 0.63\n",
      "trump: 0.618\n",
      "holocaust: 0.617\n",
      "votes: 0.614\n",
      "spelling: 0.608\n",
      "nazi: 0.606\n",
      "supporters: 0.603\n",
      "rising: 0.601\n",
      "neo: 0.595\n",
      "leader: 0.585\n",
      "referring: 0.584\n"
     ]
    }
   ],
   "source": [
    "get_most_similar_terms(model, 'zelenskyy')"
   ]
  },
  {
   "cell_type": "markdown",
   "id": "baabde26-37a4-4934-be7d-cfb5f4cc1394",
   "metadata": {},
   "source": [
    "### Visualizing High Dimensional Spaces with 𝑡 -SNE"
   ]
  },
  {
   "cell_type": "code",
   "execution_count": 82,
   "id": "0b4f6e65-55ad-451e-a038-c7f444a5df3d",
   "metadata": {},
   "outputs": [],
   "source": [
    "from sklearn.manifold import TSNE"
   ]
  },
  {
   "cell_type": "code",
   "execution_count": 83,
   "id": "8f952aed-f47f-4223-aee4-3d78da88a8a2",
   "metadata": {},
   "outputs": [],
   "source": [
    "# Create some filepaths to save our model\n",
    "tsne_path = 'tsne_model'\n",
    "tsne_vectors_path = 'tsne_vectors.pkl'"
   ]
  },
  {
   "cell_type": "code",
   "execution_count": 84,
   "id": "695e9b87-9e98-4771-80b3-d36840c23ca0",
   "metadata": {},
   "outputs": [
    {
     "name": "stderr",
     "output_type": "stream",
     "text": [
      "/Users/nazmulahasan/Library/jupyterlab-desktop/jlab_server/lib/python3.8/site-packages/sklearn/manifold/_t_sne.py:991: FutureWarning: The PCA initialization in TSNE will change to have the standard deviation of PC1 equal to 1e-4 in 1.2. This will ensure better convergence.\n",
      "  warnings.warn(\n"
     ]
    }
   ],
   "source": [
    "tsne = TSNE(init='pca', learning_rate='auto')\n",
    "tsne_vectors = tsne.fit_transform(model.wv.vectors)"
   ]
  },
  {
   "cell_type": "code",
   "execution_count": 85,
   "id": "df0d6395-61fd-4392-9b06-b82e4ba74136",
   "metadata": {},
   "outputs": [],
   "source": [
    "# Store the t-SNE vectors\n",
    "tsne_vectors = pd.DataFrame(tsne_vectors,\n",
    "                            index=pd.Index(model.wv.index_to_key),\n",
    "                            columns=['x', 'y'])"
   ]
  },
  {
   "cell_type": "code",
   "execution_count": 86,
   "id": "563cca7a-b412-4b05-8384-fda8071bae28",
   "metadata": {},
   "outputs": [],
   "source": [
    "with open(tsne_path, 'wb') as f:\n",
    "    pickle.dump(tsne, f)\n",
    "\n",
    "tsne_vectors.to_pickle(tsne_vectors_path)"
   ]
  },
  {
   "cell_type": "code",
   "execution_count": 87,
   "id": "12496668-9519-4eca-b0b0-e62337bf792b",
   "metadata": {},
   "outputs": [],
   "source": [
    "with open(tsne_path, 'rb') as f:\n",
    "    tsne = pickle.load(f)\n",
    "    \n",
    "tsne_vectors = pd.read_pickle(tsne_vectors_path)"
   ]
  },
  {
   "cell_type": "code",
   "execution_count": 88,
   "id": "3750e0d5-dbd0-4662-85aa-e788ccaf53d5",
   "metadata": {},
   "outputs": [
    {
     "data": {
      "text/html": [
       "<div class=\"bk-root\">\n",
       "        <a href=\"https://bokeh.org\" target=\"_blank\" class=\"bk-logo bk-logo-small bk-logo-notebook\"></a>\n",
       "        <span id=\"1107\">Loading BokehJS ...</span>\n",
       "    </div>\n"
      ]
     },
     "metadata": {},
     "output_type": "display_data"
    },
    {
     "data": {
      "application/javascript": [
       "(function(root) {\n",
       "  function now() {\n",
       "    return new Date();\n",
       "  }\n",
       "\n",
       "  const force = true;\n",
       "\n",
       "  if (typeof root._bokeh_onload_callbacks === \"undefined\" || force === true) {\n",
       "    root._bokeh_onload_callbacks = [];\n",
       "    root._bokeh_is_loading = undefined;\n",
       "  }\n",
       "\n",
       "const JS_MIME_TYPE = 'application/javascript';\n",
       "  const HTML_MIME_TYPE = 'text/html';\n",
       "  const EXEC_MIME_TYPE = 'application/vnd.bokehjs_exec.v0+json';\n",
       "  const CLASS_NAME = 'output_bokeh rendered_html';\n",
       "\n",
       "  /**\n",
       "   * Render data to the DOM node\n",
       "   */\n",
       "  function render(props, node) {\n",
       "    const script = document.createElement(\"script\");\n",
       "    node.appendChild(script);\n",
       "  }\n",
       "\n",
       "  /**\n",
       "   * Handle when an output is cleared or removed\n",
       "   */\n",
       "  function handleClearOutput(event, handle) {\n",
       "    const cell = handle.cell;\n",
       "\n",
       "    const id = cell.output_area._bokeh_element_id;\n",
       "    const server_id = cell.output_area._bokeh_server_id;\n",
       "    // Clean up Bokeh references\n",
       "    if (id != null && id in Bokeh.index) {\n",
       "      Bokeh.index[id].model.document.clear();\n",
       "      delete Bokeh.index[id];\n",
       "    }\n",
       "\n",
       "    if (server_id !== undefined) {\n",
       "      // Clean up Bokeh references\n",
       "      const cmd_clean = \"from bokeh.io.state import curstate; print(curstate().uuid_to_server['\" + server_id + \"'].get_sessions()[0].document.roots[0]._id)\";\n",
       "      cell.notebook.kernel.execute(cmd_clean, {\n",
       "        iopub: {\n",
       "          output: function(msg) {\n",
       "            const id = msg.content.text.trim();\n",
       "            if (id in Bokeh.index) {\n",
       "              Bokeh.index[id].model.document.clear();\n",
       "              delete Bokeh.index[id];\n",
       "            }\n",
       "          }\n",
       "        }\n",
       "      });\n",
       "      // Destroy server and session\n",
       "      const cmd_destroy = \"import bokeh.io.notebook as ion; ion.destroy_server('\" + server_id + \"')\";\n",
       "      cell.notebook.kernel.execute(cmd_destroy);\n",
       "    }\n",
       "  }\n",
       "\n",
       "  /**\n",
       "   * Handle when a new output is added\n",
       "   */\n",
       "  function handleAddOutput(event, handle) {\n",
       "    const output_area = handle.output_area;\n",
       "    const output = handle.output;\n",
       "\n",
       "    // limit handleAddOutput to display_data with EXEC_MIME_TYPE content only\n",
       "    if ((output.output_type != \"display_data\") || (!Object.prototype.hasOwnProperty.call(output.data, EXEC_MIME_TYPE))) {\n",
       "      return\n",
       "    }\n",
       "\n",
       "    const toinsert = output_area.element.find(\".\" + CLASS_NAME.split(' ')[0]);\n",
       "\n",
       "    if (output.metadata[EXEC_MIME_TYPE][\"id\"] !== undefined) {\n",
       "      toinsert[toinsert.length - 1].firstChild.textContent = output.data[JS_MIME_TYPE];\n",
       "      // store reference to embed id on output_area\n",
       "      output_area._bokeh_element_id = output.metadata[EXEC_MIME_TYPE][\"id\"];\n",
       "    }\n",
       "    if (output.metadata[EXEC_MIME_TYPE][\"server_id\"] !== undefined) {\n",
       "      const bk_div = document.createElement(\"div\");\n",
       "      bk_div.innerHTML = output.data[HTML_MIME_TYPE];\n",
       "      const script_attrs = bk_div.children[0].attributes;\n",
       "      for (let i = 0; i < script_attrs.length; i++) {\n",
       "        toinsert[toinsert.length - 1].firstChild.setAttribute(script_attrs[i].name, script_attrs[i].value);\n",
       "        toinsert[toinsert.length - 1].firstChild.textContent = bk_div.children[0].textContent\n",
       "      }\n",
       "      // store reference to server id on output_area\n",
       "      output_area._bokeh_server_id = output.metadata[EXEC_MIME_TYPE][\"server_id\"];\n",
       "    }\n",
       "  }\n",
       "\n",
       "  function register_renderer(events, OutputArea) {\n",
       "\n",
       "    function append_mime(data, metadata, element) {\n",
       "      // create a DOM node to render to\n",
       "      const toinsert = this.create_output_subarea(\n",
       "        metadata,\n",
       "        CLASS_NAME,\n",
       "        EXEC_MIME_TYPE\n",
       "      );\n",
       "      this.keyboard_manager.register_events(toinsert);\n",
       "      // Render to node\n",
       "      const props = {data: data, metadata: metadata[EXEC_MIME_TYPE]};\n",
       "      render(props, toinsert[toinsert.length - 1]);\n",
       "      element.append(toinsert);\n",
       "      return toinsert\n",
       "    }\n",
       "\n",
       "    /* Handle when an output is cleared or removed */\n",
       "    events.on('clear_output.CodeCell', handleClearOutput);\n",
       "    events.on('delete.Cell', handleClearOutput);\n",
       "\n",
       "    /* Handle when a new output is added */\n",
       "    events.on('output_added.OutputArea', handleAddOutput);\n",
       "\n",
       "    /**\n",
       "     * Register the mime type and append_mime function with output_area\n",
       "     */\n",
       "    OutputArea.prototype.register_mime_type(EXEC_MIME_TYPE, append_mime, {\n",
       "      /* Is output safe? */\n",
       "      safe: true,\n",
       "      /* Index of renderer in `output_area.display_order` */\n",
       "      index: 0\n",
       "    });\n",
       "  }\n",
       "\n",
       "  // register the mime type if in Jupyter Notebook environment and previously unregistered\n",
       "  if (root.Jupyter !== undefined) {\n",
       "    const events = require('base/js/events');\n",
       "    const OutputArea = require('notebook/js/outputarea').OutputArea;\n",
       "\n",
       "    if (OutputArea.prototype.mime_types().indexOf(EXEC_MIME_TYPE) == -1) {\n",
       "      register_renderer(events, OutputArea);\n",
       "    }\n",
       "  }\n",
       "  if (typeof (root._bokeh_timeout) === \"undefined\" || force === true) {\n",
       "    root._bokeh_timeout = Date.now() + 5000;\n",
       "    root._bokeh_failed_load = false;\n",
       "  }\n",
       "\n",
       "  const NB_LOAD_WARNING = {'data': {'text/html':\n",
       "     \"<div style='background-color: #fdd'>\\n\"+\n",
       "     \"<p>\\n\"+\n",
       "     \"BokehJS does not appear to have successfully loaded. If loading BokehJS from CDN, this \\n\"+\n",
       "     \"may be due to a slow or bad network connection. Possible fixes:\\n\"+\n",
       "     \"</p>\\n\"+\n",
       "     \"<ul>\\n\"+\n",
       "     \"<li>re-rerun `output_notebook()` to attempt to load from CDN again, or</li>\\n\"+\n",
       "     \"<li>use INLINE resources instead, as so:</li>\\n\"+\n",
       "     \"</ul>\\n\"+\n",
       "     \"<code>\\n\"+\n",
       "     \"from bokeh.resources import INLINE\\n\"+\n",
       "     \"output_notebook(resources=INLINE)\\n\"+\n",
       "     \"</code>\\n\"+\n",
       "     \"</div>\"}};\n",
       "\n",
       "  function display_loaded() {\n",
       "    const el = document.getElementById(\"1107\");\n",
       "    if (el != null) {\n",
       "      el.textContent = \"BokehJS is loading...\";\n",
       "    }\n",
       "    if (root.Bokeh !== undefined) {\n",
       "      if (el != null) {\n",
       "        el.textContent = \"BokehJS \" + root.Bokeh.version + \" successfully loaded.\";\n",
       "      }\n",
       "    } else if (Date.now() < root._bokeh_timeout) {\n",
       "      setTimeout(display_loaded, 100)\n",
       "    }\n",
       "  }\n",
       "\n",
       "  function run_callbacks() {\n",
       "    try {\n",
       "      root._bokeh_onload_callbacks.forEach(function(callback) {\n",
       "        if (callback != null)\n",
       "          callback();\n",
       "      });\n",
       "    } finally {\n",
       "      delete root._bokeh_onload_callbacks\n",
       "    }\n",
       "    console.debug(\"Bokeh: all callbacks have finished\");\n",
       "  }\n",
       "\n",
       "  function load_libs(css_urls, js_urls, callback) {\n",
       "    if (css_urls == null) css_urls = [];\n",
       "    if (js_urls == null) js_urls = [];\n",
       "\n",
       "    root._bokeh_onload_callbacks.push(callback);\n",
       "    if (root._bokeh_is_loading > 0) {\n",
       "      console.debug(\"Bokeh: BokehJS is being loaded, scheduling callback at\", now());\n",
       "      return null;\n",
       "    }\n",
       "    if (js_urls == null || js_urls.length === 0) {\n",
       "      run_callbacks();\n",
       "      return null;\n",
       "    }\n",
       "    console.debug(\"Bokeh: BokehJS not loaded, scheduling load and callback at\", now());\n",
       "    root._bokeh_is_loading = css_urls.length + js_urls.length;\n",
       "\n",
       "    function on_load() {\n",
       "      root._bokeh_is_loading--;\n",
       "      if (root._bokeh_is_loading === 0) {\n",
       "        console.debug(\"Bokeh: all BokehJS libraries/stylesheets loaded\");\n",
       "        run_callbacks()\n",
       "      }\n",
       "    }\n",
       "\n",
       "    function on_error(url) {\n",
       "      console.error(\"failed to load \" + url);\n",
       "    }\n",
       "\n",
       "    for (let i = 0; i < css_urls.length; i++) {\n",
       "      const url = css_urls[i];\n",
       "      const element = document.createElement(\"link\");\n",
       "      element.onload = on_load;\n",
       "      element.onerror = on_error.bind(null, url);\n",
       "      element.rel = \"stylesheet\";\n",
       "      element.type = \"text/css\";\n",
       "      element.href = url;\n",
       "      console.debug(\"Bokeh: injecting link tag for BokehJS stylesheet: \", url);\n",
       "      document.body.appendChild(element);\n",
       "    }\n",
       "\n",
       "    for (let i = 0; i < js_urls.length; i++) {\n",
       "      const url = js_urls[i];\n",
       "      const element = document.createElement('script');\n",
       "      element.onload = on_load;\n",
       "      element.onerror = on_error.bind(null, url);\n",
       "      element.async = false;\n",
       "      element.src = url;\n",
       "      console.debug(\"Bokeh: injecting script tag for BokehJS library: \", url);\n",
       "      document.head.appendChild(element);\n",
       "    }\n",
       "  };\n",
       "\n",
       "  function inject_raw_css(css) {\n",
       "    const element = document.createElement(\"style\");\n",
       "    element.appendChild(document.createTextNode(css));\n",
       "    document.body.appendChild(element);\n",
       "  }\n",
       "\n",
       "  const js_urls = [\"https://cdn.bokeh.org/bokeh/release/bokeh-2.4.3.min.js\", \"https://cdn.bokeh.org/bokeh/release/bokeh-gl-2.4.3.min.js\", \"https://cdn.bokeh.org/bokeh/release/bokeh-widgets-2.4.3.min.js\", \"https://cdn.bokeh.org/bokeh/release/bokeh-tables-2.4.3.min.js\", \"https://cdn.bokeh.org/bokeh/release/bokeh-mathjax-2.4.3.min.js\"];\n",
       "  const css_urls = [];\n",
       "\n",
       "  const inline_js = [    function(Bokeh) {\n",
       "      Bokeh.set_log_level(\"info\");\n",
       "    },\n",
       "function(Bokeh) {\n",
       "    }\n",
       "  ];\n",
       "\n",
       "  function run_inline_js() {\n",
       "    if (root.Bokeh !== undefined || force === true) {\n",
       "          for (let i = 0; i < inline_js.length; i++) {\n",
       "      inline_js[i].call(root, root.Bokeh);\n",
       "    }\n",
       "if (force === true) {\n",
       "        display_loaded();\n",
       "      }} else if (Date.now() < root._bokeh_timeout) {\n",
       "      setTimeout(run_inline_js, 100);\n",
       "    } else if (!root._bokeh_failed_load) {\n",
       "      console.log(\"Bokeh: BokehJS failed to load within specified timeout.\");\n",
       "      root._bokeh_failed_load = true;\n",
       "    } else if (force !== true) {\n",
       "      const cell = $(document.getElementById(\"1107\")).parents('.cell').data().cell;\n",
       "      cell.output_area.append_execute_result(NB_LOAD_WARNING)\n",
       "    }\n",
       "  }\n",
       "\n",
       "  if (root._bokeh_is_loading === 0) {\n",
       "    console.debug(\"Bokeh: BokehJS loaded, going straight to plotting\");\n",
       "    run_inline_js();\n",
       "  } else {\n",
       "    load_libs(css_urls, js_urls, function() {\n",
       "      console.debug(\"Bokeh: BokehJS plotting callback run at\", now());\n",
       "      run_inline_js();\n",
       "    });\n",
       "  }\n",
       "}(window));"
      ],
      "application/vnd.bokehjs_load.v0+json": "(function(root) {\n  function now() {\n    return new Date();\n  }\n\n  const force = true;\n\n  if (typeof root._bokeh_onload_callbacks === \"undefined\" || force === true) {\n    root._bokeh_onload_callbacks = [];\n    root._bokeh_is_loading = undefined;\n  }\n\n\n  if (typeof (root._bokeh_timeout) === \"undefined\" || force === true) {\n    root._bokeh_timeout = Date.now() + 5000;\n    root._bokeh_failed_load = false;\n  }\n\n  const NB_LOAD_WARNING = {'data': {'text/html':\n     \"<div style='background-color: #fdd'>\\n\"+\n     \"<p>\\n\"+\n     \"BokehJS does not appear to have successfully loaded. If loading BokehJS from CDN, this \\n\"+\n     \"may be due to a slow or bad network connection. Possible fixes:\\n\"+\n     \"</p>\\n\"+\n     \"<ul>\\n\"+\n     \"<li>re-rerun `output_notebook()` to attempt to load from CDN again, or</li>\\n\"+\n     \"<li>use INLINE resources instead, as so:</li>\\n\"+\n     \"</ul>\\n\"+\n     \"<code>\\n\"+\n     \"from bokeh.resources import INLINE\\n\"+\n     \"output_notebook(resources=INLINE)\\n\"+\n     \"</code>\\n\"+\n     \"</div>\"}};\n\n  function display_loaded() {\n    const el = document.getElementById(\"1107\");\n    if (el != null) {\n      el.textContent = \"BokehJS is loading...\";\n    }\n    if (root.Bokeh !== undefined) {\n      if (el != null) {\n        el.textContent = \"BokehJS \" + root.Bokeh.version + \" successfully loaded.\";\n      }\n    } else if (Date.now() < root._bokeh_timeout) {\n      setTimeout(display_loaded, 100)\n    }\n  }\n\n  function run_callbacks() {\n    try {\n      root._bokeh_onload_callbacks.forEach(function(callback) {\n        if (callback != null)\n          callback();\n      });\n    } finally {\n      delete root._bokeh_onload_callbacks\n    }\n    console.debug(\"Bokeh: all callbacks have finished\");\n  }\n\n  function load_libs(css_urls, js_urls, callback) {\n    if (css_urls == null) css_urls = [];\n    if (js_urls == null) js_urls = [];\n\n    root._bokeh_onload_callbacks.push(callback);\n    if (root._bokeh_is_loading > 0) {\n      console.debug(\"Bokeh: BokehJS is being loaded, scheduling callback at\", now());\n      return null;\n    }\n    if (js_urls == null || js_urls.length === 0) {\n      run_callbacks();\n      return null;\n    }\n    console.debug(\"Bokeh: BokehJS not loaded, scheduling load and callback at\", now());\n    root._bokeh_is_loading = css_urls.length + js_urls.length;\n\n    function on_load() {\n      root._bokeh_is_loading--;\n      if (root._bokeh_is_loading === 0) {\n        console.debug(\"Bokeh: all BokehJS libraries/stylesheets loaded\");\n        run_callbacks()\n      }\n    }\n\n    function on_error(url) {\n      console.error(\"failed to load \" + url);\n    }\n\n    for (let i = 0; i < css_urls.length; i++) {\n      const url = css_urls[i];\n      const element = document.createElement(\"link\");\n      element.onload = on_load;\n      element.onerror = on_error.bind(null, url);\n      element.rel = \"stylesheet\";\n      element.type = \"text/css\";\n      element.href = url;\n      console.debug(\"Bokeh: injecting link tag for BokehJS stylesheet: \", url);\n      document.body.appendChild(element);\n    }\n\n    for (let i = 0; i < js_urls.length; i++) {\n      const url = js_urls[i];\n      const element = document.createElement('script');\n      element.onload = on_load;\n      element.onerror = on_error.bind(null, url);\n      element.async = false;\n      element.src = url;\n      console.debug(\"Bokeh: injecting script tag for BokehJS library: \", url);\n      document.head.appendChild(element);\n    }\n  };\n\n  function inject_raw_css(css) {\n    const element = document.createElement(\"style\");\n    element.appendChild(document.createTextNode(css));\n    document.body.appendChild(element);\n  }\n\n  const js_urls = [\"https://cdn.bokeh.org/bokeh/release/bokeh-2.4.3.min.js\", \"https://cdn.bokeh.org/bokeh/release/bokeh-gl-2.4.3.min.js\", \"https://cdn.bokeh.org/bokeh/release/bokeh-widgets-2.4.3.min.js\", \"https://cdn.bokeh.org/bokeh/release/bokeh-tables-2.4.3.min.js\", \"https://cdn.bokeh.org/bokeh/release/bokeh-mathjax-2.4.3.min.js\"];\n  const css_urls = [];\n\n  const inline_js = [    function(Bokeh) {\n      Bokeh.set_log_level(\"info\");\n    },\nfunction(Bokeh) {\n    }\n  ];\n\n  function run_inline_js() {\n    if (root.Bokeh !== undefined || force === true) {\n          for (let i = 0; i < inline_js.length; i++) {\n      inline_js[i].call(root, root.Bokeh);\n    }\nif (force === true) {\n        display_loaded();\n      }} else if (Date.now() < root._bokeh_timeout) {\n      setTimeout(run_inline_js, 100);\n    } else if (!root._bokeh_failed_load) {\n      console.log(\"Bokeh: BokehJS failed to load within specified timeout.\");\n      root._bokeh_failed_load = true;\n    } else if (force !== true) {\n      const cell = $(document.getElementById(\"1107\")).parents('.cell').data().cell;\n      cell.output_area.append_execute_result(NB_LOAD_WARNING)\n    }\n  }\n\n  if (root._bokeh_is_loading === 0) {\n    console.debug(\"Bokeh: BokehJS loaded, going straight to plotting\");\n    run_inline_js();\n  } else {\n    load_libs(css_urls, js_urls, function() {\n      console.debug(\"Bokeh: BokehJS plotting callback run at\", now());\n      run_inline_js();\n    });\n  }\n}(window));"
     },
     "metadata": {},
     "output_type": "display_data"
    },
    {
     "data": {
      "text/html": [
       "<div class=\"bk-root\">\n",
       "        <a href=\"https://bokeh.org\" target=\"_blank\" class=\"bk-logo bk-logo-small bk-logo-notebook\"></a>\n",
       "        <span id=\"1108\">Loading BokehJS ...</span>\n",
       "    </div>\n"
      ]
     },
     "metadata": {},
     "output_type": "display_data"
    },
    {
     "data": {
      "application/javascript": [
       "(function(root) {\n",
       "  function now() {\n",
       "    return new Date();\n",
       "  }\n",
       "\n",
       "  const force = true;\n",
       "\n",
       "  if (typeof root._bokeh_onload_callbacks === \"undefined\" || force === true) {\n",
       "    root._bokeh_onload_callbacks = [];\n",
       "    root._bokeh_is_loading = undefined;\n",
       "  }\n",
       "\n",
       "const JS_MIME_TYPE = 'application/javascript';\n",
       "  const HTML_MIME_TYPE = 'text/html';\n",
       "  const EXEC_MIME_TYPE = 'application/vnd.bokehjs_exec.v0+json';\n",
       "  const CLASS_NAME = 'output_bokeh rendered_html';\n",
       "\n",
       "  /**\n",
       "   * Render data to the DOM node\n",
       "   */\n",
       "  function render(props, node) {\n",
       "    const script = document.createElement(\"script\");\n",
       "    node.appendChild(script);\n",
       "  }\n",
       "\n",
       "  /**\n",
       "   * Handle when an output is cleared or removed\n",
       "   */\n",
       "  function handleClearOutput(event, handle) {\n",
       "    const cell = handle.cell;\n",
       "\n",
       "    const id = cell.output_area._bokeh_element_id;\n",
       "    const server_id = cell.output_area._bokeh_server_id;\n",
       "    // Clean up Bokeh references\n",
       "    if (id != null && id in Bokeh.index) {\n",
       "      Bokeh.index[id].model.document.clear();\n",
       "      delete Bokeh.index[id];\n",
       "    }\n",
       "\n",
       "    if (server_id !== undefined) {\n",
       "      // Clean up Bokeh references\n",
       "      const cmd_clean = \"from bokeh.io.state import curstate; print(curstate().uuid_to_server['\" + server_id + \"'].get_sessions()[0].document.roots[0]._id)\";\n",
       "      cell.notebook.kernel.execute(cmd_clean, {\n",
       "        iopub: {\n",
       "          output: function(msg) {\n",
       "            const id = msg.content.text.trim();\n",
       "            if (id in Bokeh.index) {\n",
       "              Bokeh.index[id].model.document.clear();\n",
       "              delete Bokeh.index[id];\n",
       "            }\n",
       "          }\n",
       "        }\n",
       "      });\n",
       "      // Destroy server and session\n",
       "      const cmd_destroy = \"import bokeh.io.notebook as ion; ion.destroy_server('\" + server_id + \"')\";\n",
       "      cell.notebook.kernel.execute(cmd_destroy);\n",
       "    }\n",
       "  }\n",
       "\n",
       "  /**\n",
       "   * Handle when a new output is added\n",
       "   */\n",
       "  function handleAddOutput(event, handle) {\n",
       "    const output_area = handle.output_area;\n",
       "    const output = handle.output;\n",
       "\n",
       "    // limit handleAddOutput to display_data with EXEC_MIME_TYPE content only\n",
       "    if ((output.output_type != \"display_data\") || (!Object.prototype.hasOwnProperty.call(output.data, EXEC_MIME_TYPE))) {\n",
       "      return\n",
       "    }\n",
       "\n",
       "    const toinsert = output_area.element.find(\".\" + CLASS_NAME.split(' ')[0]);\n",
       "\n",
       "    if (output.metadata[EXEC_MIME_TYPE][\"id\"] !== undefined) {\n",
       "      toinsert[toinsert.length - 1].firstChild.textContent = output.data[JS_MIME_TYPE];\n",
       "      // store reference to embed id on output_area\n",
       "      output_area._bokeh_element_id = output.metadata[EXEC_MIME_TYPE][\"id\"];\n",
       "    }\n",
       "    if (output.metadata[EXEC_MIME_TYPE][\"server_id\"] !== undefined) {\n",
       "      const bk_div = document.createElement(\"div\");\n",
       "      bk_div.innerHTML = output.data[HTML_MIME_TYPE];\n",
       "      const script_attrs = bk_div.children[0].attributes;\n",
       "      for (let i = 0; i < script_attrs.length; i++) {\n",
       "        toinsert[toinsert.length - 1].firstChild.setAttribute(script_attrs[i].name, script_attrs[i].value);\n",
       "        toinsert[toinsert.length - 1].firstChild.textContent = bk_div.children[0].textContent\n",
       "      }\n",
       "      // store reference to server id on output_area\n",
       "      output_area._bokeh_server_id = output.metadata[EXEC_MIME_TYPE][\"server_id\"];\n",
       "    }\n",
       "  }\n",
       "\n",
       "  function register_renderer(events, OutputArea) {\n",
       "\n",
       "    function append_mime(data, metadata, element) {\n",
       "      // create a DOM node to render to\n",
       "      const toinsert = this.create_output_subarea(\n",
       "        metadata,\n",
       "        CLASS_NAME,\n",
       "        EXEC_MIME_TYPE\n",
       "      );\n",
       "      this.keyboard_manager.register_events(toinsert);\n",
       "      // Render to node\n",
       "      const props = {data: data, metadata: metadata[EXEC_MIME_TYPE]};\n",
       "      render(props, toinsert[toinsert.length - 1]);\n",
       "      element.append(toinsert);\n",
       "      return toinsert\n",
       "    }\n",
       "\n",
       "    /* Handle when an output is cleared or removed */\n",
       "    events.on('clear_output.CodeCell', handleClearOutput);\n",
       "    events.on('delete.Cell', handleClearOutput);\n",
       "\n",
       "    /* Handle when a new output is added */\n",
       "    events.on('output_added.OutputArea', handleAddOutput);\n",
       "\n",
       "    /**\n",
       "     * Register the mime type and append_mime function with output_area\n",
       "     */\n",
       "    OutputArea.prototype.register_mime_type(EXEC_MIME_TYPE, append_mime, {\n",
       "      /* Is output safe? */\n",
       "      safe: true,\n",
       "      /* Index of renderer in `output_area.display_order` */\n",
       "      index: 0\n",
       "    });\n",
       "  }\n",
       "\n",
       "  // register the mime type if in Jupyter Notebook environment and previously unregistered\n",
       "  if (root.Jupyter !== undefined) {\n",
       "    const events = require('base/js/events');\n",
       "    const OutputArea = require('notebook/js/outputarea').OutputArea;\n",
       "\n",
       "    if (OutputArea.prototype.mime_types().indexOf(EXEC_MIME_TYPE) == -1) {\n",
       "      register_renderer(events, OutputArea);\n",
       "    }\n",
       "  }\n",
       "  if (typeof (root._bokeh_timeout) === \"undefined\" || force === true) {\n",
       "    root._bokeh_timeout = Date.now() + 5000;\n",
       "    root._bokeh_failed_load = false;\n",
       "  }\n",
       "\n",
       "  const NB_LOAD_WARNING = {'data': {'text/html':\n",
       "     \"<div style='background-color: #fdd'>\\n\"+\n",
       "     \"<p>\\n\"+\n",
       "     \"BokehJS does not appear to have successfully loaded. If loading BokehJS from CDN, this \\n\"+\n",
       "     \"may be due to a slow or bad network connection. Possible fixes:\\n\"+\n",
       "     \"</p>\\n\"+\n",
       "     \"<ul>\\n\"+\n",
       "     \"<li>re-rerun `output_notebook()` to attempt to load from CDN again, or</li>\\n\"+\n",
       "     \"<li>use INLINE resources instead, as so:</li>\\n\"+\n",
       "     \"</ul>\\n\"+\n",
       "     \"<code>\\n\"+\n",
       "     \"from bokeh.resources import INLINE\\n\"+\n",
       "     \"output_notebook(resources=INLINE)\\n\"+\n",
       "     \"</code>\\n\"+\n",
       "     \"</div>\"}};\n",
       "\n",
       "  function display_loaded() {\n",
       "    const el = document.getElementById(\"1108\");\n",
       "    if (el != null) {\n",
       "      el.textContent = \"BokehJS is loading...\";\n",
       "    }\n",
       "    if (root.Bokeh !== undefined) {\n",
       "      if (el != null) {\n",
       "        el.textContent = \"BokehJS \" + root.Bokeh.version + \" successfully loaded.\";\n",
       "      }\n",
       "    } else if (Date.now() < root._bokeh_timeout) {\n",
       "      setTimeout(display_loaded, 100)\n",
       "    }\n",
       "  }\n",
       "\n",
       "  function run_callbacks() {\n",
       "    try {\n",
       "      root._bokeh_onload_callbacks.forEach(function(callback) {\n",
       "        if (callback != null)\n",
       "          callback();\n",
       "      });\n",
       "    } finally {\n",
       "      delete root._bokeh_onload_callbacks\n",
       "    }\n",
       "    console.debug(\"Bokeh: all callbacks have finished\");\n",
       "  }\n",
       "\n",
       "  function load_libs(css_urls, js_urls, callback) {\n",
       "    if (css_urls == null) css_urls = [];\n",
       "    if (js_urls == null) js_urls = [];\n",
       "\n",
       "    root._bokeh_onload_callbacks.push(callback);\n",
       "    if (root._bokeh_is_loading > 0) {\n",
       "      console.debug(\"Bokeh: BokehJS is being loaded, scheduling callback at\", now());\n",
       "      return null;\n",
       "    }\n",
       "    if (js_urls == null || js_urls.length === 0) {\n",
       "      run_callbacks();\n",
       "      return null;\n",
       "    }\n",
       "    console.debug(\"Bokeh: BokehJS not loaded, scheduling load and callback at\", now());\n",
       "    root._bokeh_is_loading = css_urls.length + js_urls.length;\n",
       "\n",
       "    function on_load() {\n",
       "      root._bokeh_is_loading--;\n",
       "      if (root._bokeh_is_loading === 0) {\n",
       "        console.debug(\"Bokeh: all BokehJS libraries/stylesheets loaded\");\n",
       "        run_callbacks()\n",
       "      }\n",
       "    }\n",
       "\n",
       "    function on_error(url) {\n",
       "      console.error(\"failed to load \" + url);\n",
       "    }\n",
       "\n",
       "    for (let i = 0; i < css_urls.length; i++) {\n",
       "      const url = css_urls[i];\n",
       "      const element = document.createElement(\"link\");\n",
       "      element.onload = on_load;\n",
       "      element.onerror = on_error.bind(null, url);\n",
       "      element.rel = \"stylesheet\";\n",
       "      element.type = \"text/css\";\n",
       "      element.href = url;\n",
       "      console.debug(\"Bokeh: injecting link tag for BokehJS stylesheet: \", url);\n",
       "      document.body.appendChild(element);\n",
       "    }\n",
       "\n",
       "    for (let i = 0; i < js_urls.length; i++) {\n",
       "      const url = js_urls[i];\n",
       "      const element = document.createElement('script');\n",
       "      element.onload = on_load;\n",
       "      element.onerror = on_error.bind(null, url);\n",
       "      element.async = false;\n",
       "      element.src = url;\n",
       "      console.debug(\"Bokeh: injecting script tag for BokehJS library: \", url);\n",
       "      document.head.appendChild(element);\n",
       "    }\n",
       "  };\n",
       "\n",
       "  function inject_raw_css(css) {\n",
       "    const element = document.createElement(\"style\");\n",
       "    element.appendChild(document.createTextNode(css));\n",
       "    document.body.appendChild(element);\n",
       "  }\n",
       "\n",
       "  const js_urls = [\"https://cdn.bokeh.org/bokeh/release/bokeh-2.4.3.min.js\", \"https://cdn.bokeh.org/bokeh/release/bokeh-gl-2.4.3.min.js\", \"https://cdn.bokeh.org/bokeh/release/bokeh-widgets-2.4.3.min.js\", \"https://cdn.bokeh.org/bokeh/release/bokeh-tables-2.4.3.min.js\", \"https://cdn.bokeh.org/bokeh/release/bokeh-mathjax-2.4.3.min.js\"];\n",
       "  const css_urls = [];\n",
       "\n",
       "  const inline_js = [    function(Bokeh) {\n",
       "      Bokeh.set_log_level(\"info\");\n",
       "    },\n",
       "function(Bokeh) {\n",
       "    }\n",
       "  ];\n",
       "\n",
       "  function run_inline_js() {\n",
       "    if (root.Bokeh !== undefined || force === true) {\n",
       "          for (let i = 0; i < inline_js.length; i++) {\n",
       "      inline_js[i].call(root, root.Bokeh);\n",
       "    }\n",
       "if (force === true) {\n",
       "        display_loaded();\n",
       "      }} else if (Date.now() < root._bokeh_timeout) {\n",
       "      setTimeout(run_inline_js, 100);\n",
       "    } else if (!root._bokeh_failed_load) {\n",
       "      console.log(\"Bokeh: BokehJS failed to load within specified timeout.\");\n",
       "      root._bokeh_failed_load = true;\n",
       "    } else if (force !== true) {\n",
       "      const cell = $(document.getElementById(\"1108\")).parents('.cell').data().cell;\n",
       "      cell.output_area.append_execute_result(NB_LOAD_WARNING)\n",
       "    }\n",
       "  }\n",
       "\n",
       "  if (root._bokeh_is_loading === 0) {\n",
       "    console.debug(\"Bokeh: BokehJS loaded, going straight to plotting\");\n",
       "    run_inline_js();\n",
       "  } else {\n",
       "    load_libs(css_urls, js_urls, function() {\n",
       "      console.debug(\"Bokeh: BokehJS plotting callback run at\", now());\n",
       "      run_inline_js();\n",
       "    });\n",
       "  }\n",
       "}(window));"
      ],
      "application/vnd.bokehjs_load.v0+json": "(function(root) {\n  function now() {\n    return new Date();\n  }\n\n  const force = true;\n\n  if (typeof root._bokeh_onload_callbacks === \"undefined\" || force === true) {\n    root._bokeh_onload_callbacks = [];\n    root._bokeh_is_loading = undefined;\n  }\n\n\n  if (typeof (root._bokeh_timeout) === \"undefined\" || force === true) {\n    root._bokeh_timeout = Date.now() + 5000;\n    root._bokeh_failed_load = false;\n  }\n\n  const NB_LOAD_WARNING = {'data': {'text/html':\n     \"<div style='background-color: #fdd'>\\n\"+\n     \"<p>\\n\"+\n     \"BokehJS does not appear to have successfully loaded. If loading BokehJS from CDN, this \\n\"+\n     \"may be due to a slow or bad network connection. Possible fixes:\\n\"+\n     \"</p>\\n\"+\n     \"<ul>\\n\"+\n     \"<li>re-rerun `output_notebook()` to attempt to load from CDN again, or</li>\\n\"+\n     \"<li>use INLINE resources instead, as so:</li>\\n\"+\n     \"</ul>\\n\"+\n     \"<code>\\n\"+\n     \"from bokeh.resources import INLINE\\n\"+\n     \"output_notebook(resources=INLINE)\\n\"+\n     \"</code>\\n\"+\n     \"</div>\"}};\n\n  function display_loaded() {\n    const el = document.getElementById(\"1108\");\n    if (el != null) {\n      el.textContent = \"BokehJS is loading...\";\n    }\n    if (root.Bokeh !== undefined) {\n      if (el != null) {\n        el.textContent = \"BokehJS \" + root.Bokeh.version + \" successfully loaded.\";\n      }\n    } else if (Date.now() < root._bokeh_timeout) {\n      setTimeout(display_loaded, 100)\n    }\n  }\n\n  function run_callbacks() {\n    try {\n      root._bokeh_onload_callbacks.forEach(function(callback) {\n        if (callback != null)\n          callback();\n      });\n    } finally {\n      delete root._bokeh_onload_callbacks\n    }\n    console.debug(\"Bokeh: all callbacks have finished\");\n  }\n\n  function load_libs(css_urls, js_urls, callback) {\n    if (css_urls == null) css_urls = [];\n    if (js_urls == null) js_urls = [];\n\n    root._bokeh_onload_callbacks.push(callback);\n    if (root._bokeh_is_loading > 0) {\n      console.debug(\"Bokeh: BokehJS is being loaded, scheduling callback at\", now());\n      return null;\n    }\n    if (js_urls == null || js_urls.length === 0) {\n      run_callbacks();\n      return null;\n    }\n    console.debug(\"Bokeh: BokehJS not loaded, scheduling load and callback at\", now());\n    root._bokeh_is_loading = css_urls.length + js_urls.length;\n\n    function on_load() {\n      root._bokeh_is_loading--;\n      if (root._bokeh_is_loading === 0) {\n        console.debug(\"Bokeh: all BokehJS libraries/stylesheets loaded\");\n        run_callbacks()\n      }\n    }\n\n    function on_error(url) {\n      console.error(\"failed to load \" + url);\n    }\n\n    for (let i = 0; i < css_urls.length; i++) {\n      const url = css_urls[i];\n      const element = document.createElement(\"link\");\n      element.onload = on_load;\n      element.onerror = on_error.bind(null, url);\n      element.rel = \"stylesheet\";\n      element.type = \"text/css\";\n      element.href = url;\n      console.debug(\"Bokeh: injecting link tag for BokehJS stylesheet: \", url);\n      document.body.appendChild(element);\n    }\n\n    for (let i = 0; i < js_urls.length; i++) {\n      const url = js_urls[i];\n      const element = document.createElement('script');\n      element.onload = on_load;\n      element.onerror = on_error.bind(null, url);\n      element.async = false;\n      element.src = url;\n      console.debug(\"Bokeh: injecting script tag for BokehJS library: \", url);\n      document.head.appendChild(element);\n    }\n  };\n\n  function inject_raw_css(css) {\n    const element = document.createElement(\"style\");\n    element.appendChild(document.createTextNode(css));\n    document.body.appendChild(element);\n  }\n\n  const js_urls = [\"https://cdn.bokeh.org/bokeh/release/bokeh-2.4.3.min.js\", \"https://cdn.bokeh.org/bokeh/release/bokeh-gl-2.4.3.min.js\", \"https://cdn.bokeh.org/bokeh/release/bokeh-widgets-2.4.3.min.js\", \"https://cdn.bokeh.org/bokeh/release/bokeh-tables-2.4.3.min.js\", \"https://cdn.bokeh.org/bokeh/release/bokeh-mathjax-2.4.3.min.js\"];\n  const css_urls = [];\n\n  const inline_js = [    function(Bokeh) {\n      Bokeh.set_log_level(\"info\");\n    },\nfunction(Bokeh) {\n    }\n  ];\n\n  function run_inline_js() {\n    if (root.Bokeh !== undefined || force === true) {\n          for (let i = 0; i < inline_js.length; i++) {\n      inline_js[i].call(root, root.Bokeh);\n    }\nif (force === true) {\n        display_loaded();\n      }} else if (Date.now() < root._bokeh_timeout) {\n      setTimeout(run_inline_js, 100);\n    } else if (!root._bokeh_failed_load) {\n      console.log(\"Bokeh: BokehJS failed to load within specified timeout.\");\n      root._bokeh_failed_load = true;\n    } else if (force !== true) {\n      const cell = $(document.getElementById(\"1108\")).parents('.cell').data().cell;\n      cell.output_area.append_execute_result(NB_LOAD_WARNING)\n    }\n  }\n\n  if (root._bokeh_is_loading === 0) {\n    console.debug(\"Bokeh: BokehJS loaded, going straight to plotting\");\n    run_inline_js();\n  } else {\n    load_libs(css_urls, js_urls, function() {\n      console.debug(\"Bokeh: BokehJS plotting callback run at\", now());\n      run_inline_js();\n    });\n  }\n}(window));"
     },
     "metadata": {},
     "output_type": "display_data"
    }
   ],
   "source": [
    "import bokeh\n",
    "from bokeh.plotting import figure, show, output_notebook\n",
    "from bokeh.models import HoverTool, ColumnDataSource\n",
    "\n",
    "output_notebook()\n",
    "bokeh.io.output_notebook()"
   ]
  },
  {
   "cell_type": "code",
   "execution_count": 89,
   "id": "ee5cefd9-3824-4a68-a620-deab01b8017b",
   "metadata": {},
   "outputs": [
    {
     "data": {
      "text/html": [
       "\n",
       "  <div class=\"bk-root\" id=\"9b20a3d6-cc94-4e7f-8a25-2e1be64af2db\" data-root-id=\"1110\"></div>\n"
      ]
     },
     "metadata": {},
     "output_type": "display_data"
    },
    {
     "data": {
      "application/javascript": [
       "(function(root) {\n",
       "  function embed_document(root) {\n",
       "  const docs_json = {\"fd7de03a-378d-4b2d-a0ca-d6804dabf9e3\":{\"defs\":[],\"roots\":{\"references\":[{\"attributes\":{\"below\":[{\"id\":\"1121\"}],\"center\":[{\"id\":\"1124\"},{\"id\":\"1128\"}],\"height\":800,\"left\":[{\"id\":\"1125\"}],\"outline_line_color\":null,\"renderers\":[{\"id\":\"1150\"}],\"title\":{\"id\":\"1111\"},\"toolbar\":{\"id\":\"1136\"},\"width\":800,\"x_range\":{\"id\":\"1113\"},\"x_scale\":{\"id\":\"1117\"},\"y_range\":{\"id\":\"1115\"},\"y_scale\":{\"id\":\"1119\"}},\"id\":\"1110\",\"subtype\":\"Figure\",\"type\":\"Plot\"},{\"attributes\":{},\"id\":\"1164\",\"type\":\"BasicTickFormatter\"},{\"attributes\":{\"coordinates\":null,\"group\":null,\"text\":\"t-SNE Word Embeddings\"},\"id\":\"1111\",\"type\":\"Title\"},{\"attributes\":{\"tools\":[{\"id\":\"1129\"},{\"id\":\"1130\"},{\"id\":\"1131\"},{\"id\":\"1132\"},{\"id\":\"1133\"},{\"id\":\"1134\"},{\"id\":\"1143\"}]},\"id\":\"1136\",\"type\":\"Toolbar\"},{\"attributes\":{\"coordinates\":null,\"formatter\":{\"id\":\"1164\"},\"group\":null,\"major_label_policy\":{\"id\":\"1165\"},\"ticker\":{\"id\":\"1126\"},\"visible\":false},\"id\":\"1125\",\"type\":\"LinearAxis\"},{\"attributes\":{},\"id\":\"1165\",\"type\":\"AllLabels\"},{\"attributes\":{},\"id\":\"1117\",\"type\":\"LinearScale\"},{\"attributes\":{},\"id\":\"1130\",\"type\":\"WheelZoomTool\"},{\"attributes\":{},\"id\":\"1113\",\"type\":\"DataRange1d\"},{\"attributes\":{\"fill_alpha\":{\"value\":0.1},\"fill_color\":{\"value\":\"blue\"},\"hatch_color\":{\"value\":\"blue\"},\"line_alpha\":{\"value\":0.2},\"size\":{\"value\":10},\"x\":{\"field\":\"x\"},\"y\":{\"field\":\"y\"}},\"id\":\"1148\",\"type\":\"Circle\"},{\"attributes\":{},\"id\":\"1170\",\"type\":\"Selection\"},{\"attributes\":{},\"id\":\"1134\",\"type\":\"HelpTool\"},{\"attributes\":{},\"id\":\"1122\",\"type\":\"BasicTicker\"},{\"attributes\":{},\"id\":\"1126\",\"type\":\"BasicTicker\"},{\"attributes\":{},\"id\":\"1129\",\"type\":\"PanTool\"},{\"attributes\":{},\"id\":\"1119\",\"type\":\"LinearScale\"},{\"attributes\":{\"bottom_units\":\"screen\",\"coordinates\":null,\"fill_alpha\":0.5,\"fill_color\":\"lightgrey\",\"group\":null,\"left_units\":\"screen\",\"level\":\"overlay\",\"line_alpha\":1.0,\"line_color\":\"black\",\"line_dash\":[4,4],\"line_width\":2,\"right_units\":\"screen\",\"syncable\":false,\"top_units\":\"screen\"},\"id\":\"1135\",\"type\":\"BoxAnnotation\"},{\"attributes\":{\"overlay\":{\"id\":\"1135\"}},\"id\":\"1131\",\"type\":\"BoxZoomTool\"},{\"attributes\":{\"axis\":{\"id\":\"1125\"},\"coordinates\":null,\"dimension\":1,\"grid_line_color\":null,\"group\":null,\"ticker\":null},\"id\":\"1128\",\"type\":\"Grid\"},{\"attributes\":{\"callback\":null,\"tooltips\":\"@index\"},\"id\":\"1143\",\"type\":\"HoverTool\"},{\"attributes\":{\"fill_alpha\":{\"value\":0.2},\"fill_color\":{\"value\":\"blue\"},\"hatch_alpha\":{\"value\":0.2},\"hatch_color\":{\"value\":\"blue\"},\"line_alpha\":{\"value\":0.2},\"line_color\":{\"value\":\"blue\"},\"size\":{\"value\":10},\"x\":{\"field\":\"x\"},\"y\":{\"field\":\"y\"}},\"id\":\"1149\",\"type\":\"Circle\"},{\"attributes\":{},\"id\":\"1133\",\"type\":\"ResetTool\"},{\"attributes\":{\"data\":{\"index\":[\"ukraine\",\"russian\",\"russia\",\"people\",\"war\",\"like\",\"know\",\"ukrainian\",\"help\",\"putin\",\"want\",\"country\",\"world\",\"time\",\"need\",\"think\",\"going\",\"military\",\"way\",\"russians\",\"support\",\"nato\",\"ukrainians\",\"right\",\"use\",\"post\",\"news\",\"fight\",\"good\",\"hope\",\"information\",\"let\",\"countries\",\"find\",\"government\",\"lot\",\"kyiv\",\"army\",\"things\",\"soldiers\",\"money\",\"sure\",\"invasion\",\"border\",\"family\",\"feel\",\"etc\",\"west\",\"nt\",\"send\",\"possible\",\"situation\",\"long\",\"said\",\"guys\",\"best\",\"live\",\"trying\",\"free\",\"poland\",\"day\",\"troops\",\"able\",\"europe\",\"seen\",\"place\",\"days\",\"sanctions\",\"stop\",\"new\",\"come\",\"forces\",\"fighting\",\"far\",\"maybe\",\"getting\",\"years\",\"understand\",\"actually\",\"nuclear\",\"weapons\",\"video\",\"work\",\"today\",\"try\",\"life\",\"edit\",\"end\",\"eu\",\"propaganda\",\"looking\",\"power\",\"wo\",\"better\",\"friends\",\"conflict\",\"english\",\"thing\",\"believe\",\"city\",\"got\",\"love\",\"american\",\"link\",\"point\",\"civilians\",\"start\",\"history\",\"ask\",\"food\",\"question\",\"western\",\"stay\",\"attack\",\"leave\",\"read\",\"source\",\"thank\",\"idea\",\"saying\",\"share\",\"posts\",\"president\",\"look\",\"state\",\"refugees\",\"real\",\"donate\",\"friend\",\"probably\",\"tell\",\"sorry\",\"safe\",\"especially\",\"aid\",\"media\",\"open\",\"small\",\"happening\",\"currently\",\"home\",\"china\",\"fuck\",\"needs\",\"old\",\"videos\",\"wanted\",\"case\",\"belarus\",\"stand\",\"join\",\"happen\",\"citizens\",\"lives\",\"great\",\"important\",\"contact\",\"kind\",\"person\",\"saw\",\"hello\",\"little\",\"heard\",\"enemy\",\"x200b\",\"speak\",\"making\",\"bad\",\"mean\",\"germany\",\"children\",\"sub\",\"wants\",\"thought\",\"provide\",\"likely\",\"wish\",\"international\",\"reddit\",\"big\",\"air\",\"coming\",\"peace\",\"sending\",\"kiev\",\"ukranian\",\"m\",\"reason\",\"hi\",\"started\",\"man\",\"soon\",\"list\",\"care\",\"away\",\"thanks\",\"true\",\"tanks\",\"means\",\"having\",\"foreign\",\"wondering\",\"force\",\"hard\",\"shit\",\"asking\",\"willing\",\"phone\",\"sources\",\"message\",\"info\",\"uk\",\"current\",\"talk\",\"seeing\",\"times\",\"control\",\"told\",\"freedom\",\"different\",\"ground\",\"crimea\",\"found\",\"equipment\",\"internet\",\"cities\",\"pro\",\"left\",\"remember\",\"website\",\"lost\",\"high\",\"usa\",\"living\",\"taking\",\"slava_ukraini\",\"comments\",\"stuff\",\"experience\",\"polish\",\"taken\",\"ago\",\"hear\",\"fear\",\"sent\",\"european\",\"nation\",\"vehicles\",\"course\",\"defense\",\"wrong\",\"twitter\",\"subreddit\",\"hours\",\"group\",\"killed\",\"needed\",\"cause\",\"gas\",\"near\",\"general\",\"change\",\"helping\",\"moment\",\"matter\",\"language\",\"future\",\"strong\",\"bit\",\"close\",\"talking\",\"pretty\",\"turn\",\"account\",\"companies\",\"completely\",\"local\",\"spread\",\"directly\",\"makes\",\"water\",\"add\",\"non\",\"anti\",\"win\",\"pay\",\"ones\",\"land\",\"mind\",\"including\",\"major\",\"thinking\",\"political\",\"bring\",\"access\",\"fact\",\"combat\",\"available\",\"large\",\"fire\",\"removed][view_poll\",\"instead\",\"says\",\"watching\",\"area\",\"number\",\"continue\",\"economy\",\"service\",\"past\",\"r\",\"oil\",\"bank\",\"working\",\"crimes\",\"following\",\"problem\",\"happened\",\"online\",\"families\",\"example\",\"men\",\"rest\",\"medical\",\"borders\",\"public\",\"posted\",\"article\",\"basically\",\"hold\",\"india\",\"given\",\"ways\",\"security\",\"set\",\"single\",\"entire\",\"supplies\",\"aware\",\"defend\",\"official\",\"outside\",\"based\",\"similar\",\"allowed\",\"hit\",\"giving\",\"imagine\",\"easy\",\"buy\",\"volunteers\",\"posting\",\"clear\",\"nukes\",\"reports\",\"hand\",\"week\",\"called\",\"invade\",\"un\",\"huge\",\"die\",\"hate\",\"knows\",\"youtube\",\"order\",\"truth\",\"resources\",\"zelensky\",\"google\",\"tried\",\"thoughts\",\"links\",\"citizen\",\"obviously\",\"chance\",\"check\",\"report\",\"armed_forces\",\"humanitarian\",\"face\",\"looks\",\"fake\",\"supply\",\"opinion\",\"months\",\"arms\",\"head\",\"population\",\"eastern\",\"according\",\"happens\",\"america\",\"night\",\"german\",\"location\",\"areas\",\"hell\",\"watch\",\"reach\",\"cut\",\"tank\",\"death\",\"couple\",\"national\",\"stay_strong\",\"welcome\",\"lose\",\"second\",\"worth\",\"house\",\"afraid\",\"threat\",\"advance\",\"training\",\"hey\",\"fuel\",\"offer\",\"$\",\"asked\",\"kharkiv\",\"run\",\"light\",\"slava\",\"create\",\"plan\",\"allow\",\"blood\",\"train\",\"year\",\"fucking\",\"goes\",\"advice\",\"risk\",\"east\",\"tv\",\"territory\",\"difficult\",\"involved\",\"heart\",\"civilian\",\"comes\",\"went\",\"chinese\",\"yes\",\"option\",\"ready\",\"view\",\"community\",\"guy\",\"human\",\"simply\",\"yesterday\",\"massive\",\"actions\",\"response\",\"romania\",\"glory\",\"common\",\"shot\",\"useful\",\"car\",\"came\",\"places\",\"took\",\"soldier\",\"supporting\",\"shelter\",\"pressure\",\"million\",\"company\",\"s\",\"site\",\"united_states\",\"region\",\"canada\",\"groups\",\"gets\",\"states\",\"words\",\"social_media\",\"independent\",\"hopefully\",\"destroyed\",\"longer\",\"visa\",\"ideas\",\"avoid\",\"action\",\"comment\",\"embassy\",\"protect\",\"questions\",\"fully\",\"protests\",\"stay_safe\",\"attacks\",\"special\",\"kids\",\"line\",\"volunteer\",\"page\",\"young\",\"travel\",\"leaders\",\"weeks\",\"showing\",\"reading\",\"mods\",\"numbers\",\"battle\",\"websites\",\"literally\",\"normal\",\"hands\",\"absolutely\",\"save\",\"telegram\",\"stupid\",\"trust\",\"thousands\",\"law\",\"decided\",\"basic\",\"curious\",\"dead\",\"extremely\",\"warfare\",\"aircraft\",\"write\",\"nations\",\"takes\",\"immediately\",\"members\",\"moscow\",\"happy\",\"level\",\"follow\",\"short\",\"direct\",\"easily\",\"refugee\",\"aggression\",\">_>\",\"fall\",\"step\",\"worried\",\"democracy\",\"kill\",\"form\",\"effort\",\">\",\"lines\",\"kremlin\",\"quickly\",\"title\",\"unfortunately\",\"knowledge\",\"destroy\",\"multiple\",\"sense\",\"speaking\",\"facebook\",\"issue\",\"recently\",\"return\",\"missiles\",\"finally\",\"i'm\",\"simple\",\"passport\",\"luck\",\"sign\",\"delete\",\"act\",\"system\",\"invading\",\"issues\",\"exactly\",\"running\",\"actual\",\"building\",\"learn\",\"word\",\"map\",\"donations\",\"morale\",\"innocent\",\"services\",\"consider\",\"march\",\"position\",\"interested\",\"sort\",\"update\",\"possibly\",\"rules\",\"channels\",\"play\",\"note\",\"leader\",\"moving\",\"women\",\"inside\",\"brave\",\"drive\",\"personal\",\"leaving\",\"certain\",\"gone\",\"evil\",\"member\",\"answer\",\"economic\",\"stopped\",\"helpful\",\"modern\",\"invaded\",\"soviet\",\"units\",\"calling\",\"waiting\",\"card\",\"story\",\"defending\",\"odessa\",\"month\",\"operation\",\"covid\",\"republic\",\"enter\",\"later\",\"planes\",\"main\",\"allies\",\"shows\",\"reported\",\"half\",\"appreciate\",\"charities\",\"radio\",\"explain\",\"god\",\"resistance\",\"mother\",\"announced\",\"anybody\",\"lead\",\"transport\",\"guess\",\"planning\",\"remove\",\"safety\",\"north\",\"lviv\",\"recent\",\"morning\",\"south\",\"attacked\",\"killing\",\"organizations\",\"police\",\"tomorrow\",\"business\",\"americans\",\"politicians\",\"email\",\"poll\",\"dm\",\"stuck\",\"wife\",\"ban\",\"pm\",\"wait\",\"providing\",\"self\",\"expect\",\"fast\",\"updates\",\"bomb\",\"swift\",\"streets\",\"data\",\"accept\",\"flag\",\"operations\",\"options\",\"regime\",\"translate\",\"deal\",\"sides\",\"cover\",\"accounts\",\"weak\",\"nazis\",\"slow\",\"pass\",\"result\",\"job\",\"visit\",\"captured\",\"app\",\"crisis\",\"offering\",\"consequences\",\"pictures\",\"oligarchs\",\"push\",\"indian\",\"low\",\"attacking\",\"buildings\",\"considering\",\"school\",\"lots\",\"surrender\",\"game\",\"politics\",\"heavy\",\"dying\",\"personally\",\"artillery\",\"drones\",\"weapon\",\"reality\",\"realize\",\"invaders\",\"heroes\",\"effective\",\"funds\",\"footage\",\"fighters\",\"obvious\",\"telling\",\"losses\",\"road\",\"vote\",\"correct\",\"turned\",\"street\",\"federation\",\"text\",\"joining\",\"sounds\",\"clearly\",\"sites\",\"appreciated\",\"additional\",\"biden\",\"gave\",\"average\",\"donating\",\"hoping\",\"global\",\"false\",\"france\",\"emergency\",\"events\",\"regular\",\"pray\",\"helps\",\"systems\",\"transfer\",\"tactics\",\"shelling\",\"losing\",\"crazy\",\"noticed\",\"u.s.\",\"feeling\",\"respect\",\"gives\",\"eyes\",\"banned\",\"defence\",\"misinformation\",\"calls\",\"body\",\"convoy\",\"considered\",\"ministry\",\"finland\",\"known\",\"closed\",\"break\",\"suffering\",\"biggest\",\"phones\",\"starting\",\"wonder\",\"strength\",\"ussr\",\"cross\",\"target\",\"ukranians\",\"decision\",\"majority\",\"intelligence\",\"project\",\"dictator\",\"truly\",\"protest\",\"reporting\",\"request\",\"offensive\",\"cold\",\"years_ago\",\"millions\",\"died\",\"fly_zone\",\"casualties\",\"sound\",\"search\",\"scared\",\"financial\",\"victory\",\"reasons\",\"movement\",\"bbc\",\"process\",\"culture\",\"mentioned\",\"suggestions\",\"network\",\"picture\",\"woman\",\"blame\",\"efforts\",\"independence\",\"missile\",\"union\",\"worse\",\"potential\",\"hurt\",\"claims\",\"dangerous\",\"field\",\"channel\",\"status\",\"largest\",\"understanding\",\"afghanistan\",\"expected\",\"parents\",\"claim\",\"airport\",\"bombing\",\"communication\",\"build\",\"image\",\"cost\",\"shooting\",\"translation\",\"higher\",\"humanity\",\"assume\",\"born\",\"quick\",\"feels\",\"beginning\",\"civil\",\"impossible\",\"damage\",\"problems\",\"banks\",\"vehicle\",\"wanna\",\"stories\",\"market\",\"thousand\",\"wound\",\"forget\",\"lack\",\"worst\",\"attempt\",\"supports\",\"brothers\",\"type\",\"active\",\"clothes\",\"apparently\",\"anymore\",\"fellow\",\"difference\",\"infrastructure\",\"evidence\",\"guns\",\"room\",\"writing\",\"despite\",\"removed\",\"fly\",\"rule\",\"remain\",\"users\",\"fund\",\"hearing\",\"recommend\",\"nice\",\"sweden\",\"zone\",\"names\",\"thinks\",\"space\",\"neutral\",\"governments\",\"complete\",\"ok\",\"drop\",\"created\",\"apply\",\"child\",\"middle\",\"purpose\",\"decide\",\"team\",\"speech\",\"zelenskyy\",\"potentially\",\"putting\",\"press\",\"positions\",\"tips\",\"pick\",\"messages\",\"assistance\",\"details\",\"wars\",\"ass\",\"homes\",\"parts\",\"scale\",\"nazi\",\"translated\",\"+\",\"significant\",\"works\",\"everybody\",\"white\",\"possibility\",\"term\",\"listen\",\"limited\",\"policy\",\"receive\",\"total\",\"bombs\",\"articles\",\"points\",\"specifically\",\"forced\",\"attention\",\"content\",\"terms\",\"protection\",\"impact\",\"specific\",\"spreading\",\"interesting\",\"agree\",\"highly\",\"sharing\",\"shoot\",\"hour\",\"capital\",\"topic\",\"opportunity\",\"gun\",\"knew\",\"legal\",\"related\",\"brothers_sisters\",\"rights\",\"mention\",\"age\",\"powerful\",\"choose\",\"added\",\"earlier\",\"code\",\"students\",\"products\",\"doubt\",\"prepared\",\"ability\",\"keeping\",\"necessary\",\"private\",\"donation\",\"alive\",\"effect\",\"direction\",\"donbass\",\"prevent\",\"sleep\",\"ww3\",\"knowing\",\"georgia\",\"price\",\"roads\",\"goal\",\"minutes\",\"personnel\",\"holding\",\"assets\",\"easier\",\"terrible\",\"jets\",\"finding\",\"urban\",\"written\",\"address\",\"late\",\"puppet\",\"health\",\"plus\",\"threats\",\"blocked\",\"proof\",\"armor\",\"original\",\"donetsk\",\"lived\",\"occupied\",\"friendly\",\"exist\",\"genuinely\",\"shown\",\"date\",\"vladimir\",\"romanian\",\"regions\",\"united\",\"deserve\",\"piece\",\"figure\",\"reliable\",\"looked\",\"photos\",\"suffer\",\"worry\",\"dear\",\"moldova\",\"fine\",\"ends\",\"turning\",\"sanction\",\"armed\",\"suggest\",\"bombed\",\"starts\",\"belarusian\",\"hungary\",\"moral\",\"officials\",\"changed\",\"office\",\"exchange\",\"block\",\"red\",\"moved\",\"anti_tank\",\"poor\",\"managed\",\"assist\",\"lies\",\"donated\",\"seriously\",\"donbas\",\"burn\",\"throw\",\"plant\",\"ua\",\"allowing\",\"platform\",\"destruction\",\"background\",\"provided\",\"u\",\"minute\",\"straight\",\"thread\",\"keeps\",\"spent\",\"shared\",\"scenario\",\"ww2\",\"version\",\"sell\",\"slovakia\",\"usually\",\"courage\",\"fleeing\",\"french\",\"miles\",\"dollars\",\"sad\",\"orders\",\"legitimate\",\"previous\",\"ammunition\",\"wanting\",\"assault\",\"japan\",\"hundreds\",\"super\",\"feed\",\"brother\",\"informed\",\"honestly\",\"mariupol\",\"leadership\",\"material\",\"confirm\",\"danger\",\"plans\",\"eventually\",\"ammo\",\"wounds\",\"kherson\",\"israel\",\"totally\",\"serbia\",\"felt\",\"standing\",\"authorities\",\"interest\",\"communications\",\"instagram\",\"ensure\",\"concerned\",\"bunch\",\"flying\",\"voice\",\"credit\",\"okay\",\"meeting\",\"locations\",\"beautiful\",\"critical\",\"apartment\",\"ukraini\",\"forward\",\"apps\",\"soviet_union\",\"prove\",\"station\",\"context\",\"chernobyl\",\"cash\",\"social\",\"books\",\"discussion\",\"staying\",\"stream\",\"forever\",\"individual\",\"businesses\",\"dumb\",\"quality\",\"temporary\",\"honest\",\"occupation\",\"dark\",\"sovereign\",\"mad\",\"hitler\",\"british\",\"organization\",\"narrative\",\"relevant\",\"year_old\",\"loved\",\"flight\",\"mom\",\"strategy\",\"surely\",\"disinformation\",\"vpn\",\"images\",\"received\",\"km\",\"solidarity\",\"latest\",\"energy\",\"putins\",\"research\",\"ireland\",\"red_cross\",\"wire\",\"foreigners\",\"buying\",\"anonymous\",\"asylum\",\"netherlands\",\"trucks\",\"decades\",\"earth\",\"proud\",\"contribute\",\"wishes\",\"unable\",\"confirmed\",\"items\",\"apart\",\"kept\",\"turkey\",\"desperate\",\"lets\",\"key\",\"fucked\",\"facing\",\"sick\",\"iron\",\"breaking\",\"crime\",\"heavily\",\"range\",\"conditions\",\"greatly\",\"shall\",\"supposed\",\"trouble\",\"technology\",\"trained\",\"heading\",\"fill\",\"charity\",\"relations\",\"positive\",\"focus\",\"secure\",\"copy\",\"deaths\",\"popular\",\"mobile\",\"stands\",\"speakers\",\"corruption\",\"horrible\",\"fought\",\"opinions\",\"stock\",\"hot\",\"historical\",\"targets\",\"pull\",\"victims\",\"larger\",\"rise\",\"held\",\"test\",\"extra\",\"influence\",\"father\",\"student\",\"genocide\",\"folks\",\"neighbors\",\"insane\",\"stronger\",\"begin\",\"usd\",\"regardless\",\"blow\",\"ship\",\"signal\",\"book\",\"early\",\"exact\",\"apologize\",\"perspective\",\"council\",\"mass\",\"canadian\",\"donetsk_luhansk\",\"engage\",\"closer\",\"and/or\",\"prepare\",\"browser\",\"advantage\",\"town\",\"controlled\",\"tweet\",\"unit\",\"shut\",\"random\",\"gear\",\"music\",\"meant\",\"relatives\",\"rockets\",\"bottle\",\"paid\",\"campaign\",\"trade\",\"hide\",\"carry\",\"ahead\",\"sit\",\"god_bless\",\"capture\",\"verify\",\"escape\",\"island\",\"sky\",\"costs\",\"joke\",\"trip\",\"demand\",\"bleeding\",\"crossing\",\"fighter\",\"yeah\",\"began\",\"winning\",\"accurate\",\"trains\",\"accepting\",\"currency\",\"title_says\",\"cards\",\"skills\",\"addition\",\"black\",\"affected\",\"university\",\"documents\",\"angry\",\"central\",\"x\",\"girlfriend\",\"built\",\"program\",\"somebody\",\"planned\",\"wrote\",\"immediate\",\"treated\",\"individuals\",\"value\",\"iraq\",\"harder\",\"growing\",\"joined\",\"intel\",\"raise\",\"i've\",\"actively\",\"proper\",\"kinda\",\"strikes\",\"movements\",\"event\",\"intervene\",\"meet\",\"firing\",\"google_translate\",\"maps\",\"clothing\",\"caused\",\"square\",\"surprised\",\"certainly\",\"internal\",\"profile\",\"air_raid\",\"continues\",\"paper\",\"czech\",\"explosions\",\"clean\",\"brought\",\"answers\",\"cyber\",\"spend\",\"click\",\"revolution\",\"gain\",\"letting\",\"useless\",\"stations\",\"sadly\",\"smaller\",\"molotov\",\"ended\",\"trolls\",\"infantry\",\"de\",\"collapse\",\"responsibility\",\"daily\",\"track\",\"sovereignty\",\"windows\",\"games\",\"maintain\",\"party\",\"democratic\",\"reply\",\"d\",\"agreement\",\"definitely\",\"asap\",\"minister\",\"talks\",\"ukrain\",\"strike\",\"enemies\",\"payment\",\"sitting\",\"tonight\",\"download\",\"instructions\",\"seek\",\"chat\",\"learned\",\"reviews\",\"outcome\",\"record\",\"survive\",\"prayers\",\"incredible\",\"strategic\",\"counter\",\"amazing\",\"assuming\",\"transportation\",\"period\",\"bigger\",\"host\",\"statement\",\"representatives\",\"sees\",\"includes\",\"communicate\",\"hearts\",\"wins\",\"tech\",\"helicopters\",\"territories\",\"peaceful\",\"chechen\",\"empire\",\"subreddits\",\"supported\",\"respond\",\"worked\",\"prior\",\"increase\",\"billion\",\"abandoned\",\"prime_minister\",\"machine\",\"benefit\",\"cell\",\"x200b;*processing_video\",\"hospitals\",\"perfect\",\"interview\",\"prison\",\"letter\",\"methods\",\"colonel\",\"native\",\"uses\",\"ethnic\",\"monday\",\"logistics\",\"matters\",\"prices\",\"mess\",\"server\",\"strongly\",\"officially\",\"walking\",\"fault\",\"compared\",\"fair\",\"produce\",\"fell\",\"affairs\",\"staff\",\"criminal\",\"crypto\",\"mainly\",\"shell\",\"wounded\",\"deleted\",\"ordinary\",\"lie\",\"attempts\",\"/r\",\"mail\",\"bus\",\"plenty\",\"escalate\",\"seeking\",\"types\",\"plane\",\"winter\",\"everyday\",\"ruble\",\"accommodation\",\"ex\",\"include\",\"pain\",\"pieces\",\"broken\",\"learning\",\"bullshit\",\"greater\",\"essentially\",\"commander\",\"drone\",\"=\",\"dealing\",\"require\",\"cnn\",\"airspace\",\"store\",\"immigration\",\"unlikely\",\"excuse\",\"spare\",\"creating\",\"deep\",\"rich\",\"rt\",\"destroying\",\"spam\",\"document\",\"discord\",\"responsible\",\"signs\",\"accepted\",\"grandmother\",\"voices\",\"sirens\",\"pows\",\"present\",\"tired\",\"photo\",\"armored\",\"playing\",\"leading\",\"japanese\",\"flee\",\"generals\",\"february\",\"shame\",\"window\",\"loss\",\"ukraina\",\"peoples\",\"ongoing\",\"threatening\",\"letters\",\"mistake\",\"glad\",\"panic\",\"charge\",\"navy\",\"helmets\",\"ashamed\",\"generally\",\"prefer\",\"song\",\"bridge\",\"preparing\",\"size\",\"sister\",\"demands\",\"protesting\",\"platforms\",\"croatia\",\"goods\",\"won\",\"pinned\",\"fun\",\"fit\",\"warning\",\"bravery\",\"alliance\",\"table\",\"lithuania\",\"atrocities\",\"connected\",\"ddos\",\"conversation\",\"resource\",\"required\",\"appear\",\"convoys\",\"snake\",\"turns\",\"defeat\",\"command\",\"software\",\"hero\",\"met\",\"dad\",\"awareness\",\"troop\",\"houses\",\"pack\",\"pushing\",\"latvia\",\"deployed\",\"flags\",\"beat\",\"oh\",\"facts\",\"absolute\",\"incredibly\",\"measures\",\"ambush\",\"century\",\"guards\",\"tactical\",\"korea\",\"situations\",\"village\",\"failed\",\"blocking\",\"smoke\",\"recognize\",\"wake\",\"launched\",\"addresses\",\"son\",\"azov\",\"grandparents\",\"engine\",\"mothers\",\"europeans\",\"proven\",\"study\",\"chief\",\"flights\",\"citizenship\",\"preferably\",\"watched\",\"choice\",\"defensive\",\"examples\",\"supposedly\",\"appears\",\"budapest\",\"geopolitical\",\"weather\",\"ve\",\"territorial\",\"connection\",\"constant\",\"stops\",\"housing\",\"escalation\",\"arm\",\"targeting\",\"tracks\",\"reaching\",\"pilot\",\"tools\",\"updated\",\"mod\",\"camera\",\"foot\",\"cars\",\"nearly\",\"residents\",\"development\",\"separate\",\"tape\",\"confusion\",\"bodies\",\"outlets\",\"warship\",\"munitions\",\"laws\",\"radios\",\"owned\",\"syria\",\"disaster\",\"signed\",\"fascist\",\"activity\",\"materials\",\"homeland\",\"desire\",\"shelters\",\"blue\",\"encrypted\",\"pages\",\"sooner\",\"results\",\"tries\",\"mental\",\"subject\",\"path\",\"nuke\",\"mix\",\"visas\",\"entirely\",\"locals\",\"boys\",\"sake\",\"double\",\"stance\",\"sabotage\",\"treat\",\"audio\",\"importantly\",\"technical\",\"argument\",\"selling\",\"society\",\"committed\",\"violence\",\"launch\",\"contacts\",\"yacht\",\"causing\",\"distance\",\"survival\",\"recognized\",\"warm\",\"daughter\",\"petition\",\"column\",\"bear\",\"cousin\",\"agency\",\"paying\",\"expert\",\"alternative\",\"listed\",\"entering\",\"kazakhstan\",\"terrorists\",\"previously\",\"alot\",\"listening\",\"bought\",\"troll\",\"checked\",\"z\",\"driving\",\"taiwan\",\"method\",\"illegal\",\"effectively\",\"route\",\"hiding\",\"located\",\"traffic\",\"membership\",\"cultural\",\"lower\",\"upset\",\"burns\",\"struggle\",\"guide\",\"parties\",\"trigger\",\"affect\",\"rus\",\"praying\",\"negotiations\",\"stopping\",\"stores\",\"evacuation\",\"mark\",\"allows\",\"sold\",\"bloody\",\"careful\",\"wear\",\"agreed\",\"discuss\",\"solution\",\"institutions\",\"followed\",\"ties\",\"missing\",\"hospital\",\"concern\",\"steps\",\"harm\",\"chernihiv\",\"relief\",\"progress\",\"weird\",\"disabled\",\"elderly\",\"spoke\",\"familiar\",\"electricity\",\"threatened\",\"schools\",\"secret\",\"tourniquet\",\"abroad\",\"veteran\",\"determination\",\"advanced\",\"neo\",\"tragedy\",\"opened\",\"humans\",\"spoken\",\"web\",\"representative\",\"coordinate\",\"encourage\",\"cases\",\"stated\",\"badly\",\"tinder\",\"refuge\",\"black_sea\",\"resist\",\"views\",\"role\",\"chechnya\",\"touch\",\"somewhat\",\"workers\",\"evacuate\",\"ally\",\"alert\",\"grow\",\"boots\",\"included\",\"heat\",\"green\",\"levels\",\"opposition\",\"capable\",\"valid\",\"acting\",\"twice\",\"molotovs\",\"physically\",\"metal\",\"treatment\",\"requirements\",\"decent\",\"rebuild\",\"refused\",\"eye\",\"circumstances\",\"battalion\",\"ton\",\"surrounded\",\"tool\",\"unity\",\"claiming\",\"combined\",\"organize\",\"gather\",\"ideal\",\"diplomatic\",\"conscripts\",\"passed\",\"remaining\",\"damaged\",\"user\",\"reached\",\"warsaw\",\"shape\",\"finnish\",\"rocket\",\"bag\",\"saving\",\"coverage\",\"worldwide\",\"balls\",\"ticket\",\"terror\",\"showed\",\"complex\",\"grateful\",\"originally\",\"supporters\",\"planet\",\"requests\",\"boost\",\"b\",\"surrendering\",\"equipped\",\"programs\",\"openly\",\"church\",\"constantly\",\"tactic\",\"intervention\",\"hopes\",\"offered\",\"improvised\",\"deeply\",\"values\",\"nationals\",\"resolve\",\"reduce\",\"appropriate\",\"chain\",\"cheap\",\"reserve\",\"bulgaria\",\"committing\",\"improve\",\"style\",\"subs\",\"emails\",\"requires\",\"corrupt\",\"occupy\",\"verified\",\"legit\",\"argue\",\"militarily\",\"magnesium\",\"conventional\",\"identity\",\"lay\",\"helpless\",\"success\",\"rifles\",\"identify\",\"damn\",\"residential\",\"greetings\",\"expensive\",\"karma\",\"indians\",\"sticky\",\"girl\",\"sea\",\"physical\",\"financially\",\"siren\",\"release\",\"inspired\",\"walk\",\"ships\",\"dog\",\"released\",\"relatively\",\"shelled\",\"overall\",\"ordered\",\"tend\",\"memes\",\"stress\",\"agencies\",\"soil\",\"afford\",\"dutch\",\"deny\",\"reasonable\",\"approved\",\"york\",\"honor\",\"stingers\",\"speaks\",\"natural\",\"opening\",\"capacity\",\"duty\",\"devices\",\"rate\",\"declare\",\"era\",\"nearby\",\"visiting\",\"pilots\",\"streams\",\"helped\",\"amazon\",\"declared\",\"chances\",\"default\",\"industry\",\"occupiers\",\"injured\",\"experienced\",\"medicine\",\"falls\",\"truck\",\"gladly\",\"<\",\"holds\",\"sends\",\"italy\",\"racist\",\"degree\",\"engineer\",\"withdraw\",\"odds\",\"opposite\",\"journalists\",\"professional\",\"lukashenko\",\"cool\",\"airbnb\",\"kid\",\"teach\",\"animals\",\"generations\",\"center\",\"ride\",\"heads\",\"tor\",\"disable\",\"focused\",\"martial\",\"suggesting\",\"prisoners\",\"bots\",\"cloth\",\"capabilities\",\"boycott\",\"economically\",\"aggressor\",\"breaks\",\"armies\",\"older\",\"organized\",\"entry\",\"relative\",\"2nd\",\"languages\",\"closing\",\"interests\",\"severe\",\"checking\",\"raised\",\"volodymyr\",\"talked\",\"fired\",\"serve\",\"invades\",\"vodka\",\"suddenly\",\"organisations\",\"paste\",\"miss\",\"weaponry\",\"pakistan\",\"vs\",\"recommendations\",\"objects\",\"package\",\"amounts\",\"barely\",\"commit\",\"placed\",\"bringing\",\"falling\",\"convince\",\"collect\",\"mayor\",\"defeated\",\"setting\",\"lethal\",\"republics\",\"delivery\",\"movie\",\"dare\",\"trump\",\"putler\",\"task\",\"southern\",\"wednesday\",\"<3\",\"bed\",\"zero\",\"gathering\",\"grandfather\",\"aim\",\"receiving\",\"race\",\"dnipro\",\"aggressive\",\"bet\",\"petrol\",\"orthodox\",\"failing\",\"memorandum\",\"corner\",\"rescue\",\"roll\",\"ultimately\",\"idk\",\"broke\",\"trauma\",\"tiny\",\"brigade\",\"computer\",\"legally\",\"explosives\",\"grew\",\"bot\",\"pre\",\"airborne\",\"failure\",\"stage\",\"figured\",\"manage\",\"parliament\",\"subtitles\",\"condemn\",\"relationship\",\"siege\",\"disgusting\",\"count\",\"negative\",\"review\",\"commanders\",\"tons\",\"dropping\",\"safer\",\"calm\",\"suffered\",\"increasing\",\"ill\",\"election\",\"bill\",\"messaging\",\"fled\",\"plates\",\"fights\",\"officers\",\"particular\",\"court\",\"explanation\",\"practice\",\"sumy\",\"australia\",\"feature\",\"gotten\",\"fan\",\"bullet\",\"wearing\",\"1st\",\"yellow\",\"officer\",\"justification\",\"frequencies\",\"partner\",\"properly\",\"roughly\",\"spirit\",\"unlike\",\"minds\",\"recommended\",\"priority\",\"hungarian\",\"repeat\",\"insurgency\",\"wave\",\"cutting\",\"normally\",\"ru\",\"packages\",\"handle\",\"defenders\",\"hidden\",\"pdf\",\"ideally\",\"conference\",\"separatists\",\"thier\",\"shots\",\"connect\",\"thursday\",\"announcement\",\"guarantee\",\"separatist\",\"fix\",\"sight\",\"significantly\",\"match\",\"decides\",\"funding\",\"cocktails\",\"initial\",\"saved\",\"wikipedia\",\"belt\",\"norway\",\"horrors\",\"sentiment\",\"protesters\",\"freezing\",\"emotional\",\"confused\",\"likes\",\"upper\",\"carried\",\"arrived\",\"deliver\",\"backed\",\"shocked\",\"brand\",\"digital\",\"limit\",\"presence\",\"chose\",\"silent\",\"bs\",\"instance\",\"wipe\",\"expecting\",\"seize\",\"wise\",\"income\",\"manual\",\"foreigner\",\"wide\",\"art\",\"speaker\",\"condition\",\"processing\",\"hole\",\"lied\",\"upvote\",\"oligarch\",\"arsenal\",\"motor\",\"discussed\",\"denied\",\"forgive\",\"understood\",\"godspeed\",\"tie\",\"psychological\",\"thermite\",\"stating\",\"jewish\",\"hardware\",\"bar\",\"estonia\",\"paypal\",\"speed\",\"feet\",\"journalist\",\"italian\",\"wwii\",\"rounds\",\"purchase\",\"victim\",\"unite\",\"imposed\",\"gasoline\",\"deleted][view\",\"application\",\"nature\",\"approach\",\"busy\",\"pipelines\",\"blankets\",\"tweets\",\"stick\",\"zones\",\"luhansk\",\"neighbor\",\"oppression\",\"co\",\"profit\",\"paint\",\"switzerland\",\"shop\",\"pow\",\"k\",\"pulled\",\"stalin\",\"loose\",\"property\",\"suspect\",\"advancing\",\"volunteering\",\"rely\",\"neighbours\",\"atleast\",\"concrete\",\"faced\",\"traps\",\"powers\",\"radiation\",\"expand\",\"screen\",\"elections\",\"football\",\"tensions\",\"retreat\",\"deserves\",\"tires\",\"regards\",\"statements\",\"section\",\"spot\",\"peacekeepers\",\"aside\",\"persons\",\"missed\",\"inevitable\",\"belgium\",\"strongest\",\"soft\",\"restaurants\",\"filled\",\"guard\",\"brands\",\"draw\",\"shitty\",\"e.g.\",\"participate\",\"successful\",\"restrictions\",\"criminals\",\"glass\",\"insight\",\"fakes\",\"tough\",\"depending\",\"fields\",\"networks\",\"follows\",\"theory\",\"minimum\",\"operational\",\"chemical\",\"superiority\",\"load\",\"preventing\",\"loses\",\"idiot\",\"bunker\",\"cancel\",\"traditional\",\"headed\",\"poorly\",\"repost\",\"apologies\",\"corridor\",\"arab\",\"underground\",\"river\",\"migs\",\"russias\",\"brutal\",\"conflicts\",\"en\",\"education\",\"mixed\",\"returned\",\"aunt\",\"vulnerable\",\"alongside\",\"oblast\",\"caught\",\"towns\",\"covered\",\"reporters\",\"remains\",\"universities\",\"waste\",\"blown\",\"realized\",\"cameras\",\"anger\",\"stayed\",\"mouth\",\"vast\",\"recorded\",\"trusted\",\"voted\",\"annexation\",\"lying\",\"debt\",\"tourist\",\"plastic\",\"overwhelming\",\"fb\",\"enjoy\",\"class\",\"applying\",\"squad\",\"traveling\",\"scary\",\"chest\",\"powder\",\"quote\",\"decisions\",\"eat\",\"protected\",\"sleeping\",\"declaration\",\"forgotten\",\"locked\",\"militia\",\"consulate\",\"northern\",\"norwegian\",\"replace\",\"surprise\",\"marine\",\"safely\",\"advise\",\"matches\",\"animal\",\"extended\",\"dollar\",\"division\",\"inform\",\"bombings\",\"tears\",\"device\",\"pushed\",\"slowly\",\"grandma\",\"implement\",\"interviews\",\"intended\",\"reserves\",\"prevail\",\"skin\",\"perfectly\",\"january\",\"domestic\",\"ir\",\"base\",\"netflix\",\"wing\",\"denmark\",\"jobs\",\"brings\",\"canadians\",\"kicking\",\"file\",\"i.e.\",\"led\",\"bordering\",\"increasingly\",\"noted\",\"britain\",\"notice\",\"minor\",\"mission\",\"bullets\",\"documentary\",\"merely\",\"metro\",\"lol\",\"tells\",\"fears\",\"box\",\"shops\",\"toys\",\"sports\",\"batteries\",\"rope\",\"silly\",\"blind\",\"masks\",\"split\",\"dirty\",\"casualty\",\"dry\",\"embassies\",\"frozen\",\"exists\",\"blanket\",\"impose\",\"alcohol\",\"satellite\",\"brain\",\"displaced\",\"named\",\"pulling\",\"closely\",\"arrested\",\"birth\",\"senator\",\"employees\",\"hotel\",\"needing\",\"heritage\",\"paperwork\",\"pretend\",\"baltic\",\"rough\",\"arrive\",\"bridges\",\"offline\",\"fallen\",\"unsure\",\"wrap\",\"kick\",\"mig\",\"oh_oh\",\"pride\",\"checkpoint\",\"fees\",\"cruise\",\"resolution\",\"tied\",\"neighboring\",\"salt\",\"medic\",\"suggestion\",\"achieve\",\"logic\",\"refer\",\"sms\",\"purely\",\"youth\",\"treaty\",\"liberty\",\"ghost\",\"owners\",\"forth\",\"genuine\",\"cares\",\"vests\",\"slightly\",\"arriving\",\"driver\",\"effects\",\"neck\",\"landing\",\"im\",\"yachts\",\"fed\",\"terrorist\",\"contacted\",\"aluminum\",\"provides\",\"hackers\",\"contract\",\"particularly\",\"ending\",\"nord\",\"westerners\",\"surrendered\",\"naval\",\"rally\",\"serbian\",\"elected\",\"colleagues\",\"crossed\",\"croatian\",\"visibility\",\"a.\",\"publicly\",\"backs\",\"f\",\"dependent\",\"essential\",\"berlin\",\"kinds\",\"funny\",\"murdered\",\"veterans\",\"script\",\"convinced\",\"v\",\"obtain\",\"orthodoxy\",\"sale\",\"vietnam\",\"designed\",\"friday\",\"profits\",\"feb\",\"served\",\"till\",\"dedicated\",\"attempting\",\"visited\",\"militaries\",\"partners\",\"door\",\"cease\",\"mentally\",\"adding\",\"solutions\",\"confirmation\",\"deploying\",\"necessarily\",\"conduct\",\"foundation\",\"handbook](-\",\"senior\",\"pipeline\",\"explosion\",\"debate\",\"spanish\",\"welcomed\",\"woke\",\"applied\",\"realistic\",\"steam\",\"wall\",\"feedback\",\"rubles\",\"changing\",\"dont\",\"measure\",\"ignored\",\"centuries\",\"seized\",\"iban\",\"songs\",\"bitcoin\",\"euros\",\"clip\",\"seat\",\"behalf\",\"beating\",\"responses\",\"intend\",\"sons\",\"urge\",\"credible\",\"hits\",\"rent\",\"switch\",\"billions\",\"spending\",\"alexander\",\"pretext\",\"color\",\"ruled\",\"admit\",\"forgot\",\"played\",\"reuters\",\"farmers\",\"bandages\",\"november\",\"raw\",\"forcing\",\"intent\",\"rhetoric\",\"bases\",\"neutrality\",\"theirs\",\"entered\",\"button\",\"pure\",\"tip\",\"stinger\",\"referring\",\"routes\",\"needless\",\"remind\",\"accordance\",\"legion\",\"authority\",\"suspended\",\"giant\",\"regional\",\"violating\",\"suicide\",\"spelling\",\"3rd\",\"leaves\",\"remote\",\"loosing\",\"passing\",\"slavic\",\"bands\",\"extreme\",\"smart\",\"suppose\",\"patient\",\"brainwashed\",\"t\",\"passports\",\"additionally\",\"inspiration\",\"rebel\",\"fate\",\"equally\",\"\\\"i\",\"describe\",\"zelenskiy\",\"targeted\",\"explosive\",\"comfortable\",\"meaningful\",\"raising\",\"partially\",\"geneva\",\"girls\",\"israeli\",\"lesson\",\"standard\",\"tear\",\"countless\",\"swedish\",\"closest\",\"washington\",\"afternoon\",\"communism\",\"accessible\",\"euro\",\"claimed\",\"grand\",\"setup\",\"educated\",\"id\",\"guerrilla\",\"turkish\",\"agenda\",\"camps\",\"valuable\",\"don't\",\"final\",\"continuing\",\"ran\",\"unnecessary\",\"buffer\",\"exercises\",\"floor\",\"intention\",\"experts\",\"translator\",\"basis\",\"walls\",\"madness\",\"aviation\",\"ignore\",\"murder\",\"catch\",\"unconventional\",\"senators\",\"usual\",\"weight\",\"promise\",\"biased\",\"primarily\",\"operate\",\"dropped\",\"collective\",\"hitting\",\"wealth\",\"aka\",\"flat\",\"fascists\",\"soap\",\"vision\",\"propoganda\",\"superpower\",\"coordination\",\"perform\",\"movies\",\"odesa\",\"newspaper\",\"certificate\",\"delusional\",\"crashed\",\"offers\",\"estimated\",\"involvement\",\"scam\",\"grain\",\"temporarily\",\"sun\",\"pets\",\"rebuilding\",\"religious\",\"chechens\",\"crowd\",\"jet\",\"warrior\",\"successfully\",\"guaranteed\",\"usb\",\"experiencing\",\"pissed\",\"usb_usb\",\"aa\",\"shock\",\"patreon\",\"stranded\",\"handed\",\"achieved\",\"fox\",\"proceed\",\"tragic\",\"meaning\",\"moves\",\"ice\",\"nose\",\"danish\",\"finds\",\"imports\",\"sensitive\",\"provoke\",\"design\",\"catastrophe\",\"figures\",\"bags\",\"display\",\"cellular\",\"curiosity\",\"struggling\",\"collecting\",\"justice\",\"promised\",\"circle\",\"tracking\",\"geolocation\",\"crying\",\"downed\",\"capturing\",\"cleaning\",\"operating\",\"savvy\",\"necessities\",\"gps\",\"anyways\",\"dozens\",\"horrific\",\"ideology\",\"unknown\",\"exclusion\",\"deputy\",\"science\",\"votes\",\"arguments\",\"weekend\",\"searching\",\"differently\",\"registered\",\"fence\",\"plate\",\"residence\",\"pole\",\"divide\",\"input\",\"objective\",\"goals\",\"marines\",\"diplomacy\",\"quiet\",\"tuesday\",\"owner\",\"select\",\"driven\",\"germans\",\"spring\",\"pathetic\",\"mainstream\",\"atm\",\"gf\",\"comms\",\"disappointed\",\"supportive\",\"mercenaries\",\"carrying\",\"runs\",\"model\",\"counts\",\"delivering\",\"cargo\",\"lithuanian\",\"tyrant\",\"peacefully\",\"armoured\",\"delivered\",\"fairly\",\"trolling\",\"dictatorship\",\"benefits\",\"kills\",\"pocket\",\"covering\",\"javelin\",\"prosperity\",\"replaced\",\"practical\",\"abandon\",\"phrase\",\"tag\",\"wild\",\"crap\",\"ears\",\"repel\",\"believes\",\"percentage\",\"clarify\",\"annexed\",\"faces\",\"economical\",\"transfers\",\"firmly\",\"sanctioned\",\"flair\",\"oppose\",\"belongs\",\"policies\",\"evening\",\"develop\",\"integrity\",\"o\",\"burning\",\"reaction\",\"ridiculous\",\"imminent\",\"streaming\",\"uncle\",\"outright\",\"rifle\",\"organizing\",\"piss\",\"tickets\",\"petersburg\",\"regiment\",\"politically\",\"restaurant\",\"joins\",\"crucial\",\"applies\",\"flow\",\"solid\",\"advocate\",\"element\",\"favor\",\"kgb\",\"refusing\",\"maintained\",\"mercy\",\"elements\",\"creates\",\"brief\",\"insult\",\"motivation\",\"pockets\",\"declaring\",\"helicopter\",\"burned\",\"round\",\"laugh\",\"shrapnel\",\"excellent\",\"uniform\",\"moderators\",\"install\",\"highest\",\"register\",\"medium\",\"shirt\",\"bedroom\",\"austria\",\"distribute\",\"occupying\",\"rock\",\"rage\",\"collected\",\"exposed\",\"causes\",\"broadcast\",\"4th\",\"spray\",\"board\",\"doctor\",\"stolen\",\"avoiding\",\"translations\",\"basement\",\"hesitate\",\"leg\",\"ngos\",\"gods\",\"vice\",\"edited\",\"bonds\",\"concerning\",\"aggressors\",\"overcome\",\"jump\",\"historically\",\"bully\",\"innocents\",\"completed\",\"spain\",\"lands\",\"mcdonald\",\"boy\",\"devil\",\"drain\",\"communities\",\"rooting\",\"vital\",\"fuse\",\"organisation\",\"terrain\",\"largely\",\"desperately\",\"van\",\"tiktok\",\"compare\",\"pr\",\"patrol\",\"leads\",\"meat\",\"refuse\",\"doors\",\"origin\",\"escalating\",\"described\",\"ad\",\"hacking\",\"coup\",\"worldnews\",\"greece\",\"purposes\",\"singing\",\"strips\",\"faith\",\"settings\",\"confrontation\",\"facility\",\"airports\",\"removal\",\"tho\",\"conflicting\",\"intentions\",\"whatsoever\",\"defenses\",\"furthermore\",\"published\",\"radar\",\"lavrov\",\"deaf\",\"suit\",\"throwing\",\"export\",\"supplying\",\"clarification\",\"famous\",\"explained\",\"irrelevant\",\"saturday\",\"attitude\",\"guerilla\",\"steel\",\"viral\",\"appeal\",\"grenade\",\"container\",\"established\",\"justified\",\"concerns\",\"maximum\",\"production\",\"victorious\",\"approximately\",\"broadcasting\",\"azerbaijan\",\"spokesman\",\"portugal\",\"differences\",\"cocktail\",\"javelins\",\"rations\",\"band\",\"structures\",\"preferred\",\"justify\",\"africa\",\"gains\",\"logistical\",\"kindly\",\"c\",\"begging\",\"inspiring\",\"attached\",\"sink\",\"importance\",\"express\",\"reputable\",\"booby\",\"accountable\",\"operator\",\"sponsor\",\"lately\",\"govt\",\"refuses\",\"ppl\",\"exit\",\"risking\",\"tourists\",\"columns\",\"files\",\"dictators\",\"widely\",\"wood\",\"holocaust\",\"signals\",\"bluff\",\"hates\",\"applications\",\"laying\",\"automatically\",\"negotiate\",\"warned\",\"grab\",\"gathered\",\"scroll\",\"railway\",\"feasible\",\"stealing\",\"uah\",\"aimed\",\"battlefield\",\"stamp\",\"proved\",\"warn\",\"increased\",\"isolated\",\"comfort\",\"servers\",\"evacuated\",\"reminder\",\"assessment\",\"op\",\"aligned\",\"equivalent\",\"acts\",\"expertise\",\"decisive\",\"sanctioning\",\"permanent\",\"plain\",\"knock\",\"engaging\",\"pointless\",\"destination\",\"implications\",\"tax\",\"fail\",\"wwiii\",\"minimal\",\"kit\",\"presumably\",\"silence\",\"asks\",\"treating\",\"sam\",\"asses\",\"dogs\",\"resisting\",\"artists\",\"flew\",\"mode\",\"numerous\",\"protecting\",\"fleet\",\"dnr\",\"upload\",\"paratroopers\",\"demanding\",\"belong\",\"permit\",\"flood\",\"punished\",\"belief\",\"preserve\",\"filter\",\"gaining\",\"requested\",\"belarusians\",\"peacekeeping\",\"uniforms\",\"beliefs\",\"goverment\",\"sacrifice\",\"maidan\",\"|\",\"sounding\",\"construction\",\"hague\",\"rail\",\"choosing\",\"enlist\",\"linkedin\",\"meme\",\"locally\",\"staged\",\"ukraines\",\"hotels\",\"apartments\",\"mobilization\",\"existence\",\"xi\",\"nbu\",\"ultra\",\"bars\",\"ignorant\",\"contribution\",\"motorbike\",\"unfold\",\"bastards\",\"b.\",\"grounds\",\"entity\",\"joint\",\"lend\",\"finish\",\"exports\",\"afghan\",\"drink\",\"witness\",\"terrorism\",\"kupyansk\",\"baby\",\"executed\",\"occurred\",\"technically\",\"costly\",\"faster\",\"fabric\",\"pair\",\"pact\",\"roaming\",\"ccp\",\"retired\",\"24/7\",\"australian\",\"dust\",\"seconds\",\"unencrypted\",\"url\",\"shopping\",\"grocery\",\"industrial\",\"threaten\",\"socks\",\"react\",\"camp\",\"stingray\",\"exposure\",\"favorite\",\"hurts\",\"launching\",\"existing\",\"picked\",\"e\",\"oxide\",\"grind\",\"saboteurs\",\"navalny\",\"produced\",\"john\",\"coast\",\"holodomor\",\"description\",\"trees\",\"unprovoked\",\"reference\",\"congress\",\"participating\",\"corps\",\"worlds\",\"politician\",\"redditors\",\"function\",\"hosting\",\"downvote\",\"taxi\",\"england\",\"strip\",\"chaos\",\"resulting\",\"iran\",\"memory\",\"trial\",\"promoting\",\"cloudflare\",\"stable\",\"arrest\",\"begun\",\"secretary\",\"conscripted\",\"author\",\"rid\",\"unfair\",\"monetary\",\"reportedly\",\"soul\",\"rapidly\",\"outdated\",\"lawyer\",\"pressing\",\"intercepted\",\"sincerely\",\"fathers\",\"engaged\",\"spamming\",\"severely\",\"administration\",\"forum\",\"loud\",\"minority\",\"kitchen\",\"park\",\"tested\",\"mid\",\"ya\",\"demonstrate\",\"zhytomyr\",\"storage\",\"snow\",\"feelings\",\"hatred\",\"responded\",\"primary\",\"attempted\",\"p.s.\",\"regard\",\"repeating\",\"coordinates\",\"analysis\",\"trap\",\"exposing\",\"debris\",\"cronies\",\"lunatic\",\"rooms\",\"hostage\",\"suggested\",\"depend\",\"suck\",\"apple\",\"mines\",\"judge\",\"sunday\",\"analyst\",\"tension\",\"connections\",\"ps\",\"communist\",\"bloc\",\"recognition\",\"plants\",\"adults\",\"picking\",\"requesting\",\"blowing\",\"sphere\",\"king\",\"comparison\",\"visible\",\"crushed\",\"steal\",\"hygiene\",\"happily\",\"veto\",\"baltics\",\"rumors\",\"selfish\",\"contain\",\"insulting\",\"halt\",\"database\",\"kharkov\",\"developers\",\"fsb\",\"developed\",\"ii\",\"tens\",\"assurances\",\"ukr\",\"opposed\",\"apparent\",\"dot\",\"rising\",\"pen\",\"hungry\",\"divided\",\"diapers\",\"booked\",\"btw\",\"husband\",\"port\",\"jail\"],\"x\":{\"__ndarray__\":\"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\",\"dtype\":\"float32\",\"order\":\"little\",\"shape\":[3393]},\"y\":{\"__ndarray__\":\"xncKQGxzSkA1Ev3Aei20wdNNScHOTgzBkWLAwWXzucGu/eXAb20Zwf2j0cHsIwzBBmOMwcB1nMDt0WbBQV9nwQl8V8GkgAVCA57AwHesXcAURT7BKFU/QN9QMcHaOU/BP6GYwDnOwMFX31zB/kkJwTIIbsEK49DBiA8EwROBlMER5b9AimYHwSylab+I2DjA6/WfQch6CkKBLM7BVhH8QSixg0D0NQLCyFRHQeGOtkH3P49BLL/WwTIib8At9TnBIr3dwV/yBsG6+GFAN4GGwS9D3sA/2wFBg7Rbwd3Q5sGsNvU+iLJNwaNV+ECNnotBaXlPQb99AkJCvQfB6l+1vQp+qkBKc6m9xP9HQbUNAMDupRHAHT+YQdi/CsD8j/FBrYkHQlBfGMGgN4fBW4FLwKO1z8Bo+57Bzx+YwStFwcAXgwNCkkOpwWRtp8Bma3FBqpyAwOsQA8IsounBGEd6wbDyyEDX0vDBHakuwQlIq0CVjOfB/jkiwQa2lEBj2JPBfLcCwlS+VMEPpe/BA4yaQUmzO8H02dPBV44+QWCgccG0wT6/MBDgQfIZTsGPXZfBeiTzwSs9NUGNFMTBvJZTwQmje78YwpK/wldSQFb8rcH5yzXBtofCwUsbl8FLMZXBUbOIwfQV1sE6K4rB12AewVsuikA909BAuJpTwf+9XL87Bp5BrAijwXF9A8LmHtPBu+6Nvv6DB8GB4pFAMQ1wwQfUjUCR1jJBmPGzwXQOcUHVpZO/05CgP7PpvsEtpVHBZY/NwAo+gMHu3+LBcH0bwVbGWUHt1MTBWu3uQOhlUcEMxgHB7pbwwOJzFsHeAQXCvJC2QBcqsMCj5CTBdV6GwZjBDsIzxCjBUUOfQZ//skH95WPB5QgBwlmBNMFMBLHBFZCPvzraTsFLQ79BIrjHwdia1sGujqfBDkAyQNqWPkByztzB7EI9QFSwuMFZ1Q/Brmf/QY3WYcAnWprBGJBvQJoEm0HPzrPBktDxwV9k4sDOuA7C36tCwRdbZ8FBHPY9LesgwawbucCPlHQ/jSvdwUm3rsEwM8lBhKQkwSBr7cATXwJBBY8Rv/hoHMBNg5rAdeuowftonsFWZVPBGjzGwDNCSMHfeUzBofsjwZwyd0G89aHBYlLKwYgYOcEbReXBbLaFwNjfqkHGbabBeThOPjwk7UFcHEpBkuvDwV5n4kFAyI3BQeCVQbOvVMHAsWs/x2ebwR46RMHE1ofAk6h4wMF6KkEQbwPBVvC7wKfb68H0erbBXO7mQNyUIcBegjpBgkjVQArZZEGJ8rLBTZp8wSLdnj9ayUFB0rCGwep+x0H0322//zG/QfFbvsEE6bbByTrAwdqtZkGWL67B7WqvQWlSH0Huy5vAclIGQg3NvEGA6aNAoACSwbwybUDsZRbB8/WLwfhT/8GtD4rBDKWSwQw5OME+AMQ+yhm5wY1AtMEPXCTBu+Ipv1qJpEAD+MbAbWcCQUmk2cHvpMXA555lwdC0gUGegr3BmgW8P+zOHb/k27fBkcZBwM1k/sEFZn3Ae+CnwVpwpkBzfNNALjtRwdC2dEBD8tW/fLxkwTML28Ahnd9BqtBXwRUkdUHFUJdBzuAwwEatvcFKRQZBrnS3wZVWkUElzM8/yKvgP/LmYMBuSWLBRcY4wVaM0cHwYAZCdfvhPluO9sDC0L/Az6mbwenAOsFo6BjB77ukwd4xv0Hr+urAWVfUQSPB/b892SZBM50NvzQrIMEiXb3BKUQrweWsiMEXlRnBUy6CPoXV7j91DBLBeAa2QAe7AMCJHn9BFR2gwNoiLkEw95jBaz+GwUajW8HoZiNB10XqwKLWiMBkTq1ARpCKQVeaYcFqn2nBFqqmv/paokA++ONA0QrEwb5AXMGKrb/AG9NiwT/lckAellJBRCx7vkMuCcF1xJ9Ax0PgQGYlusE+9pXBrlJ4wQ30jsHm/ZJA7iMSwkNSt0B+h4rBKiyWwXzqCcH4jNjB3AuKwc2srkCyF5jBlQ2fwXYMQME6uNPB4+sHQowqvD2O/J3BvbnUQZEJrMF/n1hBSVbPwewNO0GYprzAyNSiwEcw/UAcfl9Bu1aJQQ1posFO+lBBzuV5QRbyJ0HrsNzAf0bIQe6ycsENmrLBwRmRQKClREF/xbVBjmS6wTdKOEHqAYZBjEDgwceA7kAhlLTByQqKQLtod8BeGlJBaXv6wC+HosC7GurBH1wQQqyHwsEQT7xBAHfbQCU6Q0CKp9LBiUigQR+n2EAARbJB32PrwZ7iAUGwpf8/gl6gP3KGdEH1gXtB1lQDv3FzesHPnJ/Ac+IdvXi2h8AMgIZBRyB5wV3xF0EgjHs/b9IdwVIA2cGX/r9BkxykwDgK9cAUy6e+fzuhwT+zPD/2Xrs+JbN3wRpzvr9c/J3Bcvudwd4/A8HO+odB5b4UPqpmV8HQlEJAo5aKQdi558FjHvrAHz2eQWq/JcE6nYNBtYoKwOHXWMCNlR7BbvX9QWDlNMG7eDdBZ4lVwGm5zUFUiwlA5+euwQWBPcG7wyFBPkypQT/1a0HYz67BRPZiwQEto0AIP8HB1SaBwaGuSUAP7WrB/nL2QSIoEr9G/BtBeZQ4wVbRDUEgG7I/XWC/wVO7K0GnaBVA0hfXwfX0lD9BM2rBacPvwYMw1UEHVNdBDR1TQaBdHkGWAsVAzbZ9wRvctEFx5DVBrNFDwSmtRUHV8ojBa2jTweS8x8HP6THBSUIKQjm4csHCoyHBYEwSwXrw58AEdVPBf1vIwKtgU8ENGdrBUd6wwcNy30H4D8tBAQ2CQIX3mcD6v+bBpg7wQTL7MT8gJe9BnpkCQkDABcKx63W/UW5YPhOkicDcORlB4zN0QbqZy8E3ejLBuNKEwdu+hMA4jZo/vIGfQQMa4EDV0jLAhwKdQUu6wMAKOso/qsbswbUBnMGcieJBb6qiv1t5mMCinbVB5q9fQSGQ1kAIxM6+3V3gwfuARMFrf9fAjvQfQtRlNcGEg4vBgyrBwVBmgsEWrCBB9jSgwXFGf79IfwFClVMnwWyV8MGgJZxAHDYhQfps5MGfoRHA3+jGwY26zMBTReBAi8Gnv20H9sCqtXXB+vB3QTt7jMENNwVCzx7twW7pxcF5AlvBDT/LvrWKC0IWBsnB67btQEwb0cDRppdB7LcEQaA9z8HECS7B9CRywSR+CcBHUrrBW0uQwdO0m8EBf53A3+CDwc2Ey0ELDtRBa/yIQVY15sFxuW1BTbuTwVToTUBqKXTBk61rwQrMs8FL8xdB3wjkwU1i6L/U/oxBHPK2weBZG7/JIg6+KkBdwXtD/0GqtJDBoe9NQdwW3j81G57B4QKtwfLQmEEEO4VBElfXQUTyt78WIXtBs39EQSNcz8DOSfVBID2LQABPuj8xFyfBWvkaQd6xckGdxM3BF367v6lQYsHESn3BOUHKwbGnx8AerKVB5gSeQSfYh8FtfqLAJqdxQRLcg8ElAcu+F9aQQdQq28AENYlB4e6BQXz6LMHw4oJB02WJQT84c0Dc2KBBZRiAv+FFykEmU19BxdSiwHPbssEIOCfB3U4mwQ4/dsGz2q9AO6eCQZDZlUE4UvVB4qFaQSPaDD8rwmc/18Okwe9kk8HT/ERBkQNDwXUxkUFSQ/RBJFCmQYUtEsEO6+i+8jQIQZjY/UH3NpQ/1lExwRzMAMLRJiQ/zbWdwUtankHlLW3BtbcHwS3/vkHUCUJBNvOrwMcRIL8T60XBVAFhQavkuUFAM0XBn86DwSMn3UD+zSfBcwifwehy4UEg4aRBgy+dwdLbRUFvTQnAcFK1QQneRcF2JKhBRh+VwK0UZsG3FADCfk2vwde8l0Fxc6jBJoC1wb3a4kHL2vlBHGPuQbK9wcAoj4DB3yYCQv1W5sEcpNtAMXmWP+RtfsHcDBRCpDMvwZp9gsFvJ0ZBZb7BQYTs8z7sG+DByH0zQL5uWUHZXq5BEVnrwV4S6kAdHdDBIAjpwJadcsEob4HBWxzpP+2ztsAZgSE/2aoPwTia9bx5TIG/X4QzwMzB8kCELFtBGP+rQDWqrcGMieBA02HfwRKB4sBzbP5BJdBGPyzo6EHJFbJBQO1IwaDWocEq5+HAMJtFQWSa9cFS5rfBqWUTwdvjLcHjG7LB2qnuQQGU4MFltt3AYjyaQSAbzEFS83HBZ8G1QV9tOUE0C0JAHLtYQdBglEH615nB59g5wSbyrMCM0CXBKXAXwaGzqsGRk03Bof61Qef7A0G0l6DBWeaQvxd9gsEAuitAgVHqwKcKhsGSSa/BnCdkweVEUME/w1vBCDPvQcKVSMBNJpxBynIqwHu6xsE/gTdAHRdhQZ20wsENiS7B8IeKwXO+TUARRDXBjR9JwV6u50FTSnrB7a+xQBJokMH4qZvBSch6waQxasFIHa7B1laiQT3b28AJED2/dd4SwA6w6EHEXEdBQ3mPwSVNHMFgkuLBdnEkQTNXLsHkPN9BpqqUwYcSDUFYw9BB0u6bwTH6vcBqBANBZwCLQWr/WcGZPrdB1XGyQQE3qcB2EgJBm2y2wQ2se8BOiuVBbxz8wRJ+QEG0eZLBhAWSwaaogUFsur7AZbHEwSo6YMHJrlW//aBuvWXWcEGwZe7AlxvrQR+GskHbKc/BP8B0wQTc8kF+phU/7faZQcTadMHvzmjB/aAZwRMDF0FtBXtA4R3UwS3s2ECLH9xBeJBBQTkgD0HXLG3B4ATKwTlWgsHwmqNBh6Nowc9k40Ew3kdBu9i5wbcaY8Hb283BCcu0QN1mgsGvGNe/f405wfnDDkDFL1XB05etv7FB0sFanvxAeS8RQnbrssB9zZnB/TvAvxJ8XEABGUPB5oepwPhcvMGCcFFB5uOkwehuFUFS5ERALOiQPwnbN8FUVQ2+g8tDP5RadcH0uobBO/F7wK7eZcEJnA1BQVu3QXdVKEH752xB6q8AwbhwRkCfkorBaYl1wBP9PsFRV+jAc3drQRJjOkGf2sRBnLP+wRSBX0HKESJBZFrvv++veMHShYhB3OqswMAl3MDe2ZDBWKIWwdY3o0HorQrAQtZAQUju6kGVeFnB71XXwJf6MMFHryDBQnaPwXbC0MGzK5rAiIL0P8Cw5UAvhA7BRnDhwTtPsMFD+6TBX5apwfxpsMF69OFBAjZhQd61x0G8IKbBg/FnwSTsmkH54K/B3M8zQBGWksHwQtjB3fTuQG1HOsEVVZ7B1DJdwDLersEE8B/BNKKDQbLZ68AKXipBnUqsQK2FqsGDpphAorUzQaXYGkG+kZg/vD3dQFbidr9Ii43A5kTKQB01qkHLrkxBXEcuPudwX0FBv9fA6ouvwX1jb0El2VXBfXuxQRtzLkCumSi/8Ef3QQsXpcBKV+1BU8qBwQG+zsHSlv1BnIoFwf+c7kEz69DBnOhzv0ySC8Efp9jArQxiwH9uKEBVSS1Az6wSwY41p8FFQe5BfTW8wRBud0Flq35BzKhhQZ/xtr+FMP/A5O/lwax5isE6arXAME6OwHXYOEHRUFVBqo2fQAB+vsF6p2lBv5y2wFU5RMHcZKfBv96dwRtulsHLaODAjE7LwRR7e0Hs3gdBZ1eyvxhtgEBRh0NAIlVIQKymWsA45atB1GVawAaL8UAoooZB+vuQwaxAi0EQXL/BDLurQVdP3kGExq1BzPB+QSjPEUG0hv9BqJqcwAbi+z94fGZASfCdwYAR7z/4hqjBpAlWQU5UqUGB0axBX0KNQXutBcCwWcO/Y9oVwaws3cAT3rjB86QRwXKDk8HX54dAnUVHQRJg18H6i1RAUqNTQZ3/hsETYBjBs26IwbNU3cGEE1TBT/2IQSHXhEG0mM7BlDGxQYsMAcInb55B74XHQVUH7MFfJOlACMuSwZ6qNECuvu5B244OwYp8/UF6CBtAvjffQW8SxsFVP4XBWfaMQbtBqsF8/Z/BcDymQQB5/MAF3B9BRLBXwSe98sBhDjVAXqQNQfpk+EFix5pBjEahQZoX/EDdALnBV0y/wXa9lsEYdrzB2+GfQctUMsG6xu3AISSCwe4MOMHV3Z7Bb8l9wJCEzkGWUwXC3RHFP6Qc7MFwC49BDTqAP+Dj2MFbEwtB6X9bQQ2b5MGUwQrBUFImwcKwEEH0/trBPEDLQa9krMFdYRBCFw9yQB1iAcEHhNLBboelwTTahr/0DozBjkiCwaZgrcAcZttBEELZwXuF8MD5RQ5BdydawTAaaEFXfVlBN1Ewv6k1K8FiBl3Bc3YtQRoWC7+slwPCdL+qwUVFoEHYRfnBKENaQTVMpUHa5OvAIUsswTT1rsHbQzLBcyGmwXBNLcBmNZpB30lowZNUJEFNugpCRdo6wfbYv8HIzgZBjLpZv+cHxEH4sCVBbtK7QLlEXcE88gJBIt4FQaYRvEH09k3BeQhGwc4QrMEehBDAqmHWwTRBbcDggxRBoocfQYafg8FZgXTBftfGQCRWVsC263rBMH6yQFcxi8Fzx6fA5h69wSO2s0GlQFHBbiizwJ5W3kEJvvpBrlIcQLIDisFqf+PBKvASwYQixcDISuJBNk8OQg1uuUGbi41B/VqYv6HCFUFJywDC1qWFQI3SncAuRXvBOMZCQchTosHvYNTAYTbBwegf/sEqEQHBL8vdwY0ZxcFBRM7BsKnyQQyarkHkvlTBEFHAQY2rXkGQZprAiIeVwEW/mMHCzWVB82tRvz/mUkF4QVe/TxWPQSBRNUGHTaDAMoOMwYcGVcCdwVzBo6OAwV6HGEFF+CFAeGeDwW3WU8CoSt9B0f0iwVWQxMG4zmxB/IbcQAx+xsEe/qnBSW6vQOGPzD/sigtB2dUrQSGClj9MBTlBsMH/QIA+MUFKbCrBnzHDwL9okkGyeUBBAKYPQc0w1EEU9YbBV1eEwT9x60F8/9DBsDKlwXEHsEDAovBB9IKsQZHr2EFD45LBAJT/QTCvY0GCgcRB0T0zQXuEp8Hr1ODBa/bNQaHY2sFzunK/qHQZQpbw1UHkRSBBQ9DIwfIVX0GA0w3Af7GVQQUntkEazfxBpNbPwcZOV0G8MwrBlx6ywM1YdEHvZQ6/B/QoQCL7L8FbE/0/3nCowKr8MkGjoYhBvd32wRJ2NUEw9Nk/ezyqwfxQQEGqI4xAMbmNQerAmEFbq+q/0NuCwTVLQEGOpZ3BBooIQNjuNcEBE8c/DZXnQZD4vcDEFaRAIg+WwFwo5UA0TCFA6DNowFatncGpAYjBMliHP+J9acHXcNlBmcgdQjzdGsDEno5AafxzwTKslUHjUgLC69OVwaYIXUGUJD9B9xx7QVHamMFSwOTA2I8QQS6vZsEQvYJANGflPsxx6EGumhtBn/qvQehGh0E+C5/BemXHwVbJb8ES7+3AcXNAweR8ZMFymmU/BXuSweHdgsFTFtBBGUh1wX0XoMDow8BBiylOQT6E5cF3xdRB48MsQdRjT8BIxo3B+pE1waYL1cCbdSLAgV2bQbLKlsF0r6pAyT2JQX+887+UhdbB7A+FvukDskCNFE/BNc+swC2TsEHmKKHA5OkQwdph3kH+h6TAzc8HPy6PBcAC8X1BafMywb5kWcDRtddA5CX8wYMv0cF4+ZbBqlswwbWOnUDnk/PA9J3eweI2xcF88HJBkVHsQXJezsGuEDrAKnX6QMdZLMDbqVbB6YuPQJCgD0E4lArC5wTqwPCL2EC568zAnNXOwco1McFrLozA5RL1QdzyW0HDU3zB8G4FQqP6TME3nc3BUj6bv///YsGJs+vARx0gwOYgMkAWaclBZdWaQcpxhUEjTMpATWQSwRAFucBwrzLAAYq9QRcYaMHPzitBJ9SnwFjpnMF3r2bAVo0JQuE//8FKS8g+C9eIwUAijEFaoeFBdS6ZwV/9CkLhWZLBl3ZGwfn31b+RVT3BOImSQcSNzsGa3bFAP+dzwboEz0E46uzBM0GvQfGbrEHNqZHA62Q6PzdoF8CjaYZBzaikQW0xu8GHTqrBDDEUwU4ce0A16s/BR9cXwfrjd0GUTajAAnvywIyQ3kDK53lBIBzIQbpWj0HqcbnAbBDyQXBP2UBv95dAs7SRwDsHocE0/YxBCY1uQYy56MGVunDB0hlswT0dCz87igpCLqvnQV9ED0AN/67AN/LFQCsgW8GaicdB9cjmwGshDUFLauTAIdEZwb4sRUEynqvBSdePwTmSf8HbWpHB8vHrQY1Ly8GfWp/AXIJSwRtZScABe11BkuxdQICEiUFjJ63BAH6JQFByM8G/qUTBk8CuwcNvnEEAzMZBBASAwQKgyL/glRhA27KHQK1JyMB425BB6gi7wcxXk0FY9G3B3jLqwWkpTcCqaeq+OkUXwfNRXcAIIe/ARSW1wWRSmsHkEPhAySn/QfM590Fq06fBobyRwQHAC8GFAt3BU7GZQSS/ykFWN15BH8yPQS54sMB2lI/B/Ft9wS78YUEK9CJBfo5hQYo0kMH7oZ/Bsw4oQcYfpsHA9czBMEl2QEIUHMFIPHxBGpnNwBRG7cGeqUfBKvnjwZFmcsDJOKrAgPI2wdcZv0EQcxlCOtoawf8GFcGTwSxBkXnlwBGlisFNewTBnoSiQa3JzcHsxB1C1eCoQejOlkGl/vc/1fZ5QU8z/kEnW/ZBUI0LwX1EmcHbGnfBMxbawdBN2MHr+7o/S7mzQT5wTsGkiQZC3d73Qe32vz9OhhHBVOaVQcvK8UBmVWDBfTW3QWxjLUEZ2rzBg47ZQWfwHME4sKVBsXLFQW4VlkG2CLJBT+nTweg8aMFe9q/BubdBQZrerEFchh1B+uULQYNknMHysrvBR6Z/wWjVGUEBCSbBecuaQd0aBMGsF+FAEWmVv5Nht0GUjLVAmIiHQFZPjcEWQITB9JNgwFf4vEC969zAe1jUQZzTrEHNhbZBucRTwQhuBkLqVJLAzcFBwQElusERD3lBDK9IQdWAtkFEletBDX2uQSq6fkDdfARCLKOhQYqEZ8Gi2PBBkvhowS2CGkIz8tNB4o5sQVdMysBhtJPADDYBQd/pH8FBFN9A5/n0wHgKGsEPZydBb56Jwds6n8FnNYpBNA2AQdBTJcFFP3bBEj6WvzgZicHeZIXBCU4dwQMTtsEPhopBm+/SwOpyuEFA1RlB0SSlwSK7QUDpF8JBSuqpwVvlQsFENqk/97KDQYTGDUFliYDBb5hiwAvMyEFHMY3BVNP5QW+wbMGs+tXAXaxewSj410G4TA7ALT7IQcZMLMABb4pB4/IoQZIlJ0GHYXxBBLKbQdNcD8DRMcpBK29xwSc1mEE95bJBYbJZwb8+msH4V4nB/nUtwWDjzUH9u2NBLBVTQaGeJEEqJTvBr7XNwRC14kHz3+XBN6pGwVbk2EDarYpBPu+yPzUWEsFzcolAMQvJQW8tDEHni6ZBm71DQUmJp0F/M8NAPFtFwVtrIEFzeqXBmmGoQbfafsFIMnBA3uetwc2X38D2oyY/4MGMQdbly8EbfAi/bddtQXcDBkF4XrVBfIIXwU2g/7/wkbZAUZ2cwVOTJMGuqV5BZSINwSDfr8H5q/jBRaGAQHAaMEFY5xRB+fzfwXR5M0HpWRDBA3BmwSPU38E7jKRBig4oviZi1782MLfBebvyP0YBvkE0cr7B/dPZwbJVgUHKAubAvMm7QWYKk8AWL5dBATUqQF2JoECMOKXB/ZPjQcNLxEFDulvBDr/mv/d018EsK73BorNcwX7fCMJk4q3AMDPCwTbWeEFHfBNBOuERwV8xc8EleNxAjr7xQcurdcF2lrnBUEs+wWTz/L/lHQfBRAe0wUku/kCfoq1BHV6MQDuKmkAJ0bjAY9nMQVAwJ8FmmI1BeK8HQbu+j0E/61jBwdrzQXqM/0A3vePAsu8+QSLcwUF989XBCgq4QZPCQEHPEg9BXR6ev/1WzL/EgwZBOEiLQJtTgcFZEMZBz/WqwZAlrUEVT7LByYqpwaA1JUGHV/1BWAOUQByRu8CPnHZBTly3wNiZAUK610VBuYHfQRT0uUHiYcfBI5C6v61JRkGEmHFBRHqNQQNx5UEEDI5BkT/EwPKkV8GEf+3AiEMWwb+zXkHw88HAkQVVQc6WT8Hc13fBhitkQbcbgcHbL5HB3nhEwQBUqsHSGE1BuJP4QSUpC0IMigPAJMZFwQZzfkFhiB1Bvp8wwVtKREAs3a/B3LvSQEYtvUGiVI/BeHycwXLxJUGYjULBvxckQeoYwMHsfQpCAX2bQGWeA0IOiwxBKX2swDLhE8E1MytBBL++wb1GJsHkCNnAbwY/wYdRpL9Y1I7BioCPwaod3sGz5gi/nemtQUJ76T8xEw7Bcp25wBEM7sF6X1jB5Xz7QX1t78BqC7XBpRW0QeXxzMEi+QVBQPvDwak2nsHq4O7ATDWgQSMd9kHFIdtBPslgwamZgkDT251BvQ/EwS0ceUDocPNBaunsPg5sT0HtWUJBasCqQSnVvb6BVKZBvnYdwSJAxcFaYiXBAb2zQfum40DM/wZB2ykzQeebKsEvA5nBe3pOQL6Vl0EmMqXBqX7/Qa0V+cGWwARCGhU+wWz2fT6d9tU/YwYJwdEvMkGu942+lhBdwQrebUHRfGBB7cn6Qd8BjMEtUjvB8mKAP1IxF8Ai99I/7WQ4wWZhAULS6vBBWgu2QXdbyME1MylBRd3Xv13dwUF/XsTBoI21Qc5IGUF6HK0/0mVoQeNcnsHO8gHBKIZqP/0SSz8SdKfBNg2iwUD5aMHy9lLBSPvYQE0ag0HPmC9B2ianQR8X7sGe3KtA01ePwZswn0HkIoJBIqfqwKSRKMFUFM7Ak8mRwSgKy0FBuJ7BVti+QWPp5MHvh59Bdf8FQGpppkDSUL09ODv9P1kQ18FeYARCveaCwHc6w0DU5Q5BVqmcQYIigkEZ2f7BWVjhQcH0PcB3y0fAIFyfwcJocEGp+obBeWHJwQVx2EF5pzbABT8OQLgJq8AbsLzBHg7fvtMtesEs0PHBZSdKQONArj5xuBxAYZd5waPdqEEN6JVAAhjlQHtXDMGJ8bbAZBCBQUcLf8CTCplBdpwiwb0vFcH1/q1BnCZhwENIg0H4KFZAnosqQRd6zkHzS2LBqRDnwFB6tsC9mUXB/gkGQp77hUFXYZBBiPXnwTyYQkEijR3BP/41wLibFMHExrVB1y0UQDkYoMGp349Ba0zXvtDyCMGNSrhBb1J6QStPuMDBFN1A9oSbQc6fvUCbsXxBNLpZwSwi3r++x0NBnt1RQW5v6z+gMQpC3j7hwAC130BKIrZBksN5QcGd3cEAClJB6+IEQloxeMCj4QbBf9LLwUD/98CeNYlBPPv/wbAQN8FAIQpBdR/CQcUUn8HZ6KJAv5wAwklescErEgJCh8aGwMNBikGmYY5Ba/u0wU4JIcAwULNA6UaVwQubbMH98zlASa0lwcxjhkEIMadBEoRowcJH3EEnbNHATBSQwLTDm8GFIKFB5QSlQdb7IsE1AkTB3RIYwfZnvcFZH5ZBNDn2QZkZlkFSHH9B3CqqQT/B2MAK42XBjf8eQdQOPMF6k4BBXwvTwW08IkHLs53BTQEMwfjiKEFKgzhBS1SVweNy50E6hABAf6onQW3rUL9LSS5AXfCWQK0Wz8DV1i/AUoW8QT4gw8CgYCPAyzqVQcANU0F4rENBFDjWQez3VMBhbaFBuI+awUNDpkD6eDhBjw9ewQTt0MBrS1JBMNbJwAuwAcE9oBC+ZQ3BQcRqKkG90p7AB4YjwQnioUHOds9A6O3TwZBhs770kp9BFOFkQXJEycGHPD7BwAAFQWHFmkFqubpB5G0oQdOEGEDdwJFAEQs5wMC8v8AIBczAdtePP4C23kESF13BX0gHwYTUYcH+nhBBxQKIvi4kosFVb2dBrhF5wBulO0BjYgBCMMvMwajQF0E3JVXA4u7/wY9eLkFLGrw9s2iVQZbTrUErMYvBmbjjQbIvnMC65sZBiaWeweEZ7z7jXMDBKKOrwUW15cHDk51BvK3nQbICtEHPlPBA02OHwcbz40H76MBBoud4QSyDUj9Gp9HAZOl3QTPGocG5m8PB6l72wJpL7UHw1hdBe7WSwPuGmcHJWwDAeHzAQYKHdsHXwBBB0fOfwHPC2cC9tizBq+8CQmVtUEHif63B0T1iQRAgIUFqg3RBAZ+BwTsQgMEhFRlBaxaQPx4JqUGdIWxBMmMlwIJr+kGAx8FBg6msQNwmVsHFkDnB754fQcisWUFdw+JBA2u6QBTCCEHvNoRAzGWxwacDS0HdAZ3B15mrQZCik8ASXhBC2gR4QFVV/MCWpWvB0d3NwaWHrME8Ww/BaRSuwSItt0HFJ6DBc5BoQLaBnMGIKq5AnAdRQGUO18D2Mh1BDK5JweyGLcHsvQtByFtNwM00gUE6T1rBZvKQQXRKBUJ0OtJBlfMiwQxIi8GaZgtAuhI4wVtzeECeZw5BSyAjvwrJrUFQ8orBMN7oQCI0R8Gdk4lBEJ2mQaxqa8FrSC3BI12ZwbosSEE68PpB0zHSQWAO90EExh/B2GnQP5KsJ8HCoqTB6AAlwQ8fCMCUz7LBMiukQRP/CkIRzLTB2sK8wcg4tkHoMWnBcV0EwCbCmkEHZctBIifXP/dxvMAVfyFBAVhMwIL7UMD7+rlBSosXwGl+l0GrIL9BkugHwaMJlUHIjivAflGUQaAa2ECDp1jBdHuNQQ9NAkK8VY3A+tCOQblgacF3FnlB6wCmwSrvIMEOT6FBdu2BwY+TO8HNi5/Bi6Fyvno+QUFv5GtBssLIQRjXWkHjQKRBJUanwdIahMEyQ3vBpJQUQUONGkGrss9B9QhWQVLCrsGFo5xBt6izQaMhu8G0YKW/592mwCHtCUE0Hk1BeMNIPxkboMGnEUrAo2XOQdz4K0F19SdBmVoTQVvRuMGO9qRAhLQMQnYIOUFAMTbB7swAwE3tv0Bnk2dBooiVQNW/AUI1EZnBg7GsQVMA1sGpQRLBuC6HQSFrY0G9TaBBROdXwXrqccF+UYvBBzMCQqTT1ME9o6FBBo6CQHWmc0EtofxBEJ95QQbLnkHKzZnBSymLwQwI/ECMfNlAvbR7wUYtx8H8djnBPS4Iwcmc98BdC+fAwKA0QEjcHcDzWDxBCmoxQY+TFsGSc73B/tThQaouYcDdYKTBPqIhwd3UiEEI91fBQRRIwHMiIcGYg6BBtAhWQYB7R0ED9I7BcFjLQeMVpEEWkzjAiME9wR74b0HbShBB8bAlwRfQ2EFMmo1BeEoWQbSN7UH13pnB3durQdhcTEBSlmBBugMqQJSAoMG6fopAS9O5waBBiUEEf6vBR5QywV45eUF0bgfC7UHfQRvUYEEaHkJBIWS+wXxj1EAuuCPBG/GZQKQ+v8G5ZVZB79ewQQ6NKsF1u0xAYoUqwZ/ynkG1EkHBIkbUQe1duUGqlJTB8tRHQdu7uz9qd/FBrxukP7y55sBsPI1BN4IewQFN3UGhTrzBT4TJwBBAlsHmVgXALmLtwDJfrcFCH+XAP7+3QNRcpcEGTHhAFa+kwHMxk8HC5YrBE/yKwcp69kEf47U+wIFMQd7MhkFilJTBbTGbQQDU9EGy1YLBi7vnQZiaxkB6+eHAHdj8v2XPtEE2pxfBCv1bwSXLwUGRG4RB/tDSPhImBUKL4pDBjQ/6QUIh+EG9FJS/5AKZwR6bgcE/Q7FAO4HAQQj7GEFov9hAUYsswbjqW8GjlJbB2fPcwdUmAEI+TydBKKQTQe2RmsBXLIPBBOA0weCQ20B4xfHAYBpSwSTc40GqQMFA0TYyQTa47T8id1TA90TdQPkifEF/sAQ/0kmXQSpjDkLj6AzAwuKswRCxwEE9U29BdFxQwIEVUUCRZ7xAzNAKPuCoEsGr+5JARrURwSuaX8FoANtBXa7VQMDy9kE6tt1AVo32QawQqUECXwRC8WS0Qe2HssGHUADCzG4eQJQKCcAekxlBJuphP6/krsHAMUXAK1OGwfiNmkC4DfXADgO6wHRd6z/RUFHBFbuJweID6kHkV/c+AK3VwTsAEz+VPhVAyAGnwaICpUD935hAtCAzwVO1v8Gy/z7BDBHUwRHjsT+NuzjBxcWLQZkcWEGjzFjBE9PFQev7kUBi6ZhBNI8zQKwVcUFUPgnBi7d0wd9c38GsykHBN8WUQaRI70Hufl5Bl82SQWq1JEGfV3nA2ZtswKbWlMFVseJBR/ifQDg9f8FZbMFBFL/WQGUgtcFsUa3A/Oz8QZV8D0EfHzpBRoNywWq7xsHj2ppBye33QNbCUUFc0RnByW1kQTzQPUG4ZcvBMhLowK513sEqyX6/iGpBQfoOn8CIzbTBTj1vQSBokcGK0oM/1BgXwUPQvMCh7RVAF12hQTGf3sEMScpAkOj8QNbrW8FnD8bBWfJQQZjlv8HISNHAPqlnwWhUvcFLNBNB2J2tQWfJtUFLlTHBCLxnwTc8S8Ad7WNBmzibQUmWtEH0d2BBHBWewc1n2UAnzC7B6+EgwU+aHkGyj3hBMVJHwS2hgUG39pbBhSIjwTkcAD4g56DB8z0FwBEHS7/7IczBugShQA9cbsGPA+y/MxVqwDz0R0HfHbrB+NSTwVFwo7+0h6vAPzKbQZwNBMAOLxRAPLb9QbDYiEHpU/+/LPy+wYVP/8FbiDBA5+qgQTEnAsGeUAZCPVPnwQwkecALnalBxFbyQbKtCcJsVtfApSOlQQ/zqEA8q77BE8SqQJ9qykC3D3xBbalHwYnW50H+OkTBm7pkQfhdYEEMtnLB4Sy9QS04ekH3koPBI4tvwDTVcUD48sxBEuPPwYYqmUHERC7BAYsbQQ7KB8E0ntRBGwT2QNaDR0FYCdc/FuyPwYH7HMHCm0tBILOmQa0F0kB2iaHADOV+wW82VEGOY5HAt3ToQUtE08AmP+RBZ4gQP9dlD8F+7m7B8GrJwUz9RcHW0NJBA9NgvwYEob8o0nVBrAfKwBfEBcHp+mHBpbooQf2i+L+C9DXBhKI9QJ9obkEpth/BgrcmQSRolb+QXP9BL/AWwUunwL5jFa3AI75CwL3GVkHYdVBBMhKOwcRcFcEAQarB96UNwbvC9r6yIpfBoeLCQMxzxsGcT6fAORrTwCWK1sBsAepBQOW1QQGbFkFfZaRAxMLBwPIjMEFlSKfApMpdwbYI/kF7rrvA0BcvweVqoEGFiBBCQuKsQeYn4MDd/nPBBXN+wVfhW0HxCgnBbkbLwa7Sy792oj5B4BR4Qa7PE0HKievBj0ofwS/0gMHnx+LA12jZwKWJBkIi/7M/gv+0wVw8nEGZbgDB32ciwOGC/D736xjBWY2XwMaeBsHu+mzB0K1PwfeZl0FdkEbBoGxRwfRrfMFeQqNAAfzIQUcDlcCZKYfAk4UswTfntEA1V8xB0GjnQHjQj8GbDnjBBs3aQdfZV0DQAKjBi8G5wbTIOcEPIKrArQyPQTsnz0FzBGHB9f78Qd5BmMHp8Z7ADMAEwTjDgcAgTcPBRxKrwa4qgEHNFdjBFEguwRGJnkAmZofAGptGQQ/Lo8EFvz5BtMUwwbtNt8DEn8k/HY6dwHkX0T8gYrTBwfehwWecz8FZyR7BV3V+QRFuwz9L/oVAsKAPQH3moUGkeZzAfy+hwbV3EEEbTFbB7iyWQa3ev0DhXNJBzJ6BQHiTp8FM2mdBzflwQQzTB0IZXazACodawTdnTkACZ0jBUv/HQPf+qT9SNA5BvE0gwDR/WMAsoB3B6stjwcxef0Dc2qFBQQQWwQNU5UGkUeXAzh/OwWPGo8HCt3TBQ1htQa2Ud0DGpN1BmKtyQUV+mUGiXNHAD0isQQMeR0FntftB9HG7wSxwvUDhJ+dAX2IWwc7mS0EaN+1AtjZLQZ7R/ED3jBDB34j5QUr0XUHqpL3BhMwGQGroZEEbTNTAdHcXQQHjk0HbMKNBGlwJQTK4KcBql6VBlUO0wC25/cHvoZVB6XjGQHGOlEF8306/qNLowREBFEF+Lr3Ahh6rP5jAl8HcK43BDECnwZtLnkH3/Ka/axqhwdhnvsExSLtBWAorQccEKcBDyt9Bi2DRwCxhm0ENt1FBXUWRwRdn28Fto7JATgewQYFb4r9WLcJBYkOxQNFLsr92FQzAaDR7waFDjkCxm3vBbRTMQcQBA0EXPkJBgy9rwdxAkUGs5uRAzk7bwCK5KkGYZk3BAl1NweqR3MAiDM7BErc5QcG8m8BF3e3AuNavQQmutsGPh+nAGs5Gv8L/pUEQpMZB36Q0wet9kMEKE2XBqKKWwcfTY8HHRutBqL7aQF7iI8HVT9NBxHYQQaZj2UDZSCW/7JCXQaOG+kF/zxtBX9tRwZuf6cAY7kPBUQm5wZbNlkFqNV7BRCLoQeknrkEeuNbBZzuuwTfBsEHh2K5B+004QNfndMBh9qTB36pVQMeCJ0EbLfa/bCeVQTXSb8HWkW1BPHypQfa8wEASKvBA24q1QbMQ4kFkL/ZBRUA4QUTh6kE0xWjAVBUuwbb6XUHvmmXAQZlkQaWvxsGnnsRBX5tdQD/mwcGf+eXAFxfXQQNbsz/PSazBdGxDwbH/qUEmcT7AeUDWwDsjtEAvP7zBdKIKwbm2tEDHPmvBk4JWQKJOpsElGhZB643CQVwVIsHVxpDBJ+gHv744i0HWJXvBfwYwQPO/AMFA/4XBOAoJQWjXo0G+2qHAjiIBvgFqpEDTqTtBB700wM2X88D8B9FBdUWqwNSy8kFxpBxAWZUOQVomAkIGeGPB7CERwRvxhMFF7ShBR5wWwIxJp7/ITm/BPGOsQfELmsHA5j4/OUK4wWg+D0HmirpBMvLDwHIJEcB2s6E/0Tk6QIBTEEE8A9LAbRxaQe67bj9zS27BK1BVQeZOoMGp3Kg/fm58QSpA48ABnoTAqOwmQRpmrT/uIjQ/rjGqwTFrY8Ds5clBY+ubwFZ5dsDTP9jBYcCJv4sicEHlBKdAGAo5wZa9WsBTHftBbttSQSBDoMH87fJBAtggwLGSrcHEiRNBS6uqwZEXJ8Hrsz7BwuZewSvE0cCTpgjBwijtvtZ0icE8+zZAs5j2QYnxu8GyoRJBP4R+wdTTucGqzJFBCoyUQDZhSEEVhpXAcgQ6QW1vssEncsNANs5RwSaqs8HzWkHBiU5OQK3ngUDrbipB4EDFQIhfAkK0BZLBIPycwBEnab8kmXRB4VyJv/EXvcGN5bXAlHnEQb9ttcGDi3vAjYkswdab/8CnnlpAEK2fQT6SusCg2VS/1rf/QYQU0sBAza3AtSK8wDbN1EDo3Z5BBM9IQa7vpsBxO0dBLPo/v8ww78C9LU5B2DGiQULkkkF8RLZAjlDxQJqSVcGadttB8TBFwRdb80D3bY1BDIcNwSKDR8ETK0DBHgaHQQ1FhkFEwQNCqOmdwO97U0GgytxA+9dgQduWzsBraSbBHmXJwc+xWMHiKdtBMJnnwAO+fT/fKBjBx421QSNNV0FYra9BeF59wdlChUGKliFBqPKFQVlejcHV/aXANQW2QeOkLMAb6rA+vwmbwXS1xkA3lgxCaniPwZ1Dg8FlMnfB2Y0sQS3ssUD+8tDBl5h0QSYWAUFZvaNBTIulQBSx/r9tr88/GspTQXoBfsEbb5nBpHUCQVPYnT8GDrlB3wk5wd5tm0EhK9VBd1u9wd6L8cAYWqXBQPoQP18tvEFh2uTB3YoNQdGRtkDvTAxB3ffRQJGI7cDhx93BRtvSwRSbMz+0M6/BrSNoQXspmkHU7sPB49iVwbMyVMFY1GRBGAHJQdv5P7/qbURB5A9+wYP24MHz4X5Bx0iKQW2EgkFFIq7BICKIwRHAGEC5jJJAKuTEQOsa0MGE94bBGRyswQitVsGWpOnAWKCPQeNIbsHvwZxBYSkJwfxJGsFXMUxBTdtCwISM0b8vw3HBBnqOwf3SG8H37rZBIsQpwf0ccEEg3KZB8zI8QW/d3MDrR/PAHnARv18CiUCEFjJB77eLQTnjWEHJoog+a8AHP4VOlkE+k0i/DbMsP7UyskAFN5pAH76NQbHX6MAr+SxB6uTSwQdxmkCiirBAVEy0QA3An8EQbYZAc33QwaNk4EFwfrDArYGkQbBNkcFm+91AQM/TQRqqmsDqih/ASc7YQMAQZkFa9hk/WmWhQHuvVcEBoprB7uyWQSo6yr7VBg/BB680QR2EV0G5ZVDBA2WVQa7w1kFFQRhB\",\"dtype\":\"float32\",\"order\":\"little\",\"shape\":[3393]}},\"selected\":{\"id\":\"1170\"},\"selection_policy\":{\"id\":\"1169\"}},\"id\":\"1109\",\"type\":\"ColumnDataSource\"},{\"attributes\":{},\"id\":\"1168\",\"type\":\"AllLabels\"},{\"attributes\":{\"coordinates\":null,\"formatter\":{\"id\":\"1167\"},\"group\":null,\"major_label_policy\":{\"id\":\"1168\"},\"ticker\":{\"id\":\"1122\"},\"visible\":false},\"id\":\"1121\",\"type\":\"LinearAxis\"},{\"attributes\":{},\"id\":\"1169\",\"type\":\"UnionRenderers\"},{\"attributes\":{},\"id\":\"1115\",\"type\":\"DataRange1d\"},{\"attributes\":{},\"id\":\"1132\",\"type\":\"SaveTool\"},{\"attributes\":{},\"id\":\"1167\",\"type\":\"BasicTickFormatter\"},{\"attributes\":{\"fill_alpha\":{\"value\":0.1},\"fill_color\":{\"value\":\"blue\"},\"hatch_color\":{\"value\":\"blue\"},\"line_alpha\":{\"value\":0.2},\"line_color\":{\"value\":\"blue\"},\"size\":{\"value\":10},\"x\":{\"field\":\"x\"},\"y\":{\"field\":\"y\"}},\"id\":\"1146\",\"type\":\"Circle\"},{\"attributes\":{\"axis\":{\"id\":\"1121\"},\"coordinates\":null,\"grid_line_color\":null,\"group\":null,\"ticker\":null},\"id\":\"1124\",\"type\":\"Grid\"},{\"attributes\":{\"coordinates\":null,\"data_source\":{\"id\":\"1109\"},\"glyph\":{\"id\":\"1146\"},\"group\":null,\"hover_glyph\":{\"id\":\"1148\"},\"muted_glyph\":{\"id\":\"1149\"},\"nonselection_glyph\":{\"id\":\"1147\"},\"view\":{\"id\":\"1151\"}},\"id\":\"1150\",\"type\":\"GlyphRenderer\"},{\"attributes\":{\"source\":{\"id\":\"1109\"}},\"id\":\"1151\",\"type\":\"CDSView\"},{\"attributes\":{\"fill_alpha\":{\"value\":0.1},\"fill_color\":{\"value\":\"blue\"},\"hatch_alpha\":{\"value\":0.1},\"hatch_color\":{\"value\":\"blue\"},\"line_alpha\":{\"value\":0.1},\"line_color\":{\"value\":\"blue\"},\"size\":{\"value\":10},\"x\":{\"field\":\"x\"},\"y\":{\"field\":\"y\"}},\"id\":\"1147\",\"type\":\"Circle\"}],\"root_ids\":[\"1110\"]},\"title\":\"Bokeh Application\",\"version\":\"2.4.3\"}};\n",
       "  const render_items = [{\"docid\":\"fd7de03a-378d-4b2d-a0ca-d6804dabf9e3\",\"root_ids\":[\"1110\"],\"roots\":{\"1110\":\"9b20a3d6-cc94-4e7f-8a25-2e1be64af2db\"}}];\n",
       "  root.Bokeh.embed.embed_items_notebook(docs_json, render_items);\n",
       "  }\n",
       "  if (root.Bokeh !== undefined) {\n",
       "    embed_document(root);\n",
       "  } else {\n",
       "    let attempts = 0;\n",
       "    const timer = setInterval(function(root) {\n",
       "      if (root.Bokeh !== undefined) {\n",
       "        clearInterval(timer);\n",
       "        embed_document(root);\n",
       "      } else {\n",
       "        attempts++;\n",
       "        if (attempts > 100) {\n",
       "          clearInterval(timer);\n",
       "          console.log(\"Bokeh: ERROR: Unable to run BokehJS code because BokehJS library is missing\");\n",
       "        }\n",
       "      }\n",
       "    }, 10, root)\n",
       "  }\n",
       "})(window);"
      ],
      "application/vnd.bokehjs_exec.v0+json": ""
     },
     "metadata": {
      "application/vnd.bokehjs_exec.v0+json": {
       "id": "1110"
      }
     },
     "output_type": "display_data"
    }
   ],
   "source": [
    "# Add our DataFrame as a ColumnDataSource for Bokeh\n",
    "plot_data = ColumnDataSource(tsne_vectors)\n",
    "\n",
    "# Create the plot and configure the title, dimensions, and tools\n",
    "tsne_plot = figure(title='t-SNE Word Embeddings',\n",
    "                   plot_width=800,\n",
    "                   plot_height=800)\n",
    "\n",
    "# Add a hover tool to display words on roll-over\n",
    "tsne_plot.add_tools(HoverTool(tooltips='@index') )\n",
    "\n",
    "# Draw the words as circles on the plot\n",
    "tsne_plot.circle('x', 'y',\n",
    "                 source=plot_data,\n",
    "                 color='blue',\n",
    "                 line_alpha=0.2,\n",
    "                 fill_alpha=0.1,\n",
    "                 size=10,\n",
    "                 hover_line_color='black')\n",
    "\n",
    "# Configure visual elements of the plot\n",
    "tsne_plot.xaxis.visible = False\n",
    "tsne_plot.yaxis.visible = False\n",
    "tsne_plot.grid.grid_line_color = None\n",
    "tsne_plot.outline_line_color = None\n",
    "\n",
    "# Engage!\n",
    "show(tsne_plot)"
   ]
  }
 ],
 "metadata": {
  "kernelspec": {
   "display_name": "Python 3 (ipykernel)",
   "language": "python",
   "name": "python3"
  },
  "language_info": {
   "codemirror_mode": {
    "name": "ipython",
    "version": 3
   },
   "file_extension": ".py",
   "mimetype": "text/x-python",
   "name": "python",
   "nbconvert_exporter": "python",
   "pygments_lexer": "ipython3",
   "version": "3.8.13"
  }
 },
 "nbformat": 4,
 "nbformat_minor": 5
}
